{
 "cells": [
  {
   "cell_type": "code",
   "execution_count": 1,
   "metadata": {},
   "outputs": [],
   "source": [
    "%%capture\n",
    "## compile PyRoss for this notebook\n",
    "import os\n",
    "owd = os.getcwd()\n",
    "os.chdir('../../')\n",
    "%run setup.py install\n",
    "os.chdir(owd)"
   ]
  },
  {
   "cell_type": "code",
   "execution_count": 2,
   "metadata": {},
   "outputs": [],
   "source": [
    "%matplotlib inline\n",
    "import numpy as np\n",
    "import pyross\n",
    "import pandas as pd\n",
    "import time \n",
    "import matplotlib.pyplot as plt\n",
    "from scipy.io import loadmat"
   ]
  },
  {
   "cell_type": "code",
   "execution_count": 3,
   "metadata": {},
   "outputs": [],
   "source": [
    "## population and age classes\n",
    "M=4  ## number of age classes\n",
    "\n",
    "my_data = np.genfromtxt('../data/age_structures/UK.csv', delimiter=',', skip_header=1)\n",
    "aM, aF = my_data[:, 1], my_data[:, 2]\n",
    "\n",
    "Ni0=aM+aF;   Ni=np.zeros((M))\n",
    "\n",
    "# scale the population down to a more manageble level \n",
    "s=1e3\n",
    "Ni[0] = (np.sum(Ni0[0:4])/s).astype('int')\n",
    "Ni[1] = (np.sum(Ni0[4:8])/s).astype('int')\n",
    "Ni[2] = (np.sum(Ni0[8:12])/s).astype('int')\n",
    "Ni[3] = (np.sum(Ni0[12:16])/s).astype('int')\n",
    "N=np.sum(Ni)\n",
    "fi = Ni/N \n",
    "\n",
    "# Get individual contact matrices\n",
    "CH0, CW0, CS0, CO0 = pyross.contactMatrix.UK()\n",
    "\n",
    "\n",
    "CH = np.zeros((M, M))\n",
    "CW = np.zeros((M, M))\n",
    "CS = np.zeros((M, M))\n",
    "CO = np.zeros((M, M))\n",
    "\n",
    "\n",
    "for i in range(M):\n",
    "    for j in range(M):\n",
    "        i1, j1 = i*4, j*4\n",
    "        CH[i,j] = np.sum( CH0[i1:i1+4,j1:j1+4]*Ni0[i1:i1+4] )/Ni[i]\n",
    "        CW[i,j] = np.sum( CW0[i1:i1+4,j1:j1+4]*Ni0[i1:i1+4] )/Ni[i]\n",
    "        CS[i,j] = np.sum( CS0[i1:i1+4,j1:j1+4]*Ni0[i1:i1+4] )/Ni[i]\n",
    "        CO[i,j] = np.sum( CO0[i1:i1+4,j1:j1+4]*Ni0[i1:i1+4] )/Ni[i]"
   ]
  },
  {
   "cell_type": "code",
   "execution_count": 4,
   "metadata": {},
   "outputs": [],
   "source": [
    "# Generate class with contact matrix for SIR model with UK contact structure\n",
    "generator = pyross.contactMatrix.SIR(CH, CW, CS, CO) #same for any model\n",
    "\n",
    "times= [20] # temporal boundaries between different contact-behaviour\n",
    "\n",
    "aW, aS, aO = 0.7, 0.6, 0.5\n",
    "\n",
    "# prefactors for CW, CS, CO:\n",
    "interventions = [[1.0,1.0,1.0],      # before first time\n",
    "                 [aW, aS, aO],       # after first time\n",
    "                ]         \n",
    "\n",
    "# generate corresponding contact matrix function\n",
    "C = generator.interventions_temporal(times=times,interventions=interventions)"
   ]
  },
  {
   "cell_type": "code",
   "execution_count": 5,
   "metadata": {},
   "outputs": [],
   "source": [
    "beta  = 0.000454      # contact rate parameter\n",
    "gE    = 1./70          #rate of exposed -> infected\n",
    "gIa   = 1./70            # recovery rate of asymptomatic infectives \n",
    "gIs   = 1./70            # recovery rate of symptomatic infectives \n",
    "alpha = 0.2              # asymptomatic fraction\n",
    "fsa   = 0.8               # suppresion of contact by symptomatics\n",
    "\n",
    " #initial conditions\n",
    "E_0 = np.ones(M)*100\n",
    "Is_0 = np.ones(M)*100\n",
    "Is_0[1] += 100 #make one group different \n",
    "Ia_0 = np.zeros((M))*20\n",
    "Ia_0[1] += 50\n",
    "R_0  = np.zeros((M))\n",
    "S_0  = Ni - (Ia_0 + E_0+ Is_0 + R_0)\n",
    "\n",
    "\n",
    "parameters = {'alpha':alpha,'beta':beta,'gE':gE, 'gIa':gIa,'gIs':gIs,'fsa':fsa}\n",
    "model = pyross.stochastic.SEIR(parameters, M, Ni)\n",
    "# model = pyross.deterministic.SIR(parameters, M, Ni)\n",
    "\n",
    "contactMatrix=C\n",
    "\n",
    "# start simulation\n",
    "Tf=80;  Nf=Tf+1 \n",
    "data=model.simulate(S_0, E_0,Ia_0, Is_0, contactMatrix, Tf, Nf)\n",
    "np.save('cal_lat_SEIR_traj.npy', data['X'])"
   ]
  },
  {
   "cell_type": "code",
   "execution_count": 6,
   "metadata": {},
   "outputs": [
    {
     "data": {
      "image/png": "[encoded data removed]",
      "text/plain": [
       "<Figure size 432x288 with 1 Axes>"
      ]
     },
     "metadata": {
      "needs_background": "light"
     },
     "output_type": "display_data"
    }
   ],
   "source": [
    "IC  = np.zeros((Nf))\n",
    "for i in range(M):\n",
    "        IC += data['X'][:,2*M+i] \n",
    "t = data['t']\n",
    "# plt.plot(t, data['X'][:,1*M] )\n",
    "plt.plot(t, data['X'][:,1*M])\n",
    "plt.show() "
   ]
  },
  {
   "cell_type": "markdown",
   "metadata": {},
   "source": [
    "### Compare the deterministic trajectory and the stochastic one before intervention"
   ]
  },
  {
   "cell_type": "code",
   "execution_count": 7,
   "metadata": {},
   "outputs": [
    {
     "data": {
      "image/png": "[encoded data removed]",
      "text/plain": [
       "<Figure size 432x288 with 1 Axes>"
      ]
     },
     "metadata": {
      "needs_background": "light"
     },
     "output_type": "display_data"
    }
   ],
   "source": [
    "Tf_initial = 20 # truncate to only getting the first few datapoints \n",
    "Nf_initial = Tf_initial+1\n",
    "\n",
    "x = np.load('cal_lat_SEIR_traj.npy')\n",
    "x = (x/N)[:Nf_initial]\n",
    "steps = 101 # number internal integration steps taken\n",
    "\n",
    "fltr=np.repeat(np.array([False,False, False, True]), M)\n",
    "obs=x[:, fltr] \n",
    "contactMatrix = generator.constant_contactMatrix()\n",
    "det_model = pyross.deterministic.SEIR(parameters, int(M), fi)\n",
    "estimator = pyross.inference.SEIR(parameters, M, fi, int(N), steps)\n",
    "xm,full_cov = estimator.obtain_full_mean_cov(x[0], Tf_initial, Nf_initial, det_model, contactMatrix)\n",
    "t = np.linspace(1, Tf_initial, Nf_initial-1)\n",
    "# xm = estimator.integrate(x[0], Tf_initial, Nf_initial, 20, det_model, contactMatrix)\n",
    "plt.plot(t, x[1:,1*M])\n",
    "# plt.plot(t, data['X'][:,2*M+i][1:Nf_initial])\n",
    "plt.plot(t, xm[:,1*M])\n",
    "plt.show()"
   ]
  },
  {
   "cell_type": "code",
   "execution_count": 8,
   "metadata": {},
   "outputs": [
    {
     "name": "stdout",
     "output_type": "stream",
     "text": [
      "-603.9469120418273\n",
      "1.6082992553710938\n"
     ]
    }
   ],
   "source": [
    "# initialise the estimator \n",
    "estimator = pyross.inference.SEIR(parameters, M, fi, int(N), steps)\n",
    "\n",
    "# compute -log_p for the original (correct) parameters \n",
    "start_time = time.time() \n",
    "parameters = {'alpha':alpha, 'beta':beta,'gE':gE, 'gIa':gIa, 'gIs':gIs,'fsa':fsa}\n",
    "logp = estimator.minus_logp_red(parameters, x[0], obs[1:], fltr, Tf_initial, Nf_initial, contactMatrix)\n",
    "end_time = time.time()\n",
    "print(logp) \n",
    "print(end_time - start_time)"
   ]
  },
  {
   "cell_type": "code",
   "execution_count": null,
   "metadata": {},
   "outputs": [
    {
     "name": "stdout",
     "output_type": "stream",
     "text": [
      "Starting global minimisation...\n",
      "(8_w,16)-aCMA-ES (mu_w=4.8,w_1=32%) in dimension 21 (seed=427372, Fri May  1 14:53:28 2020)\n",
      "Iterat #Fevals   function value  axis ratio  sigma  min&max std  t[m:s]\n",
      "    1     16 2.910219719848270e+02 1.0e+00 9.22e-01  3e-02  3e-02 0:32.3\n",
      "    2     32 -1.272436660855703e+02 1.1e+00 8.63e-01  3e-02  3e-02 1:02.5\n",
      "    3     48 2.535696794407148e+02 1.1e+00 8.16e-01  3e-02  3e-02 1:34.5\n"
     ]
    }
   ],
   "source": [
    "# take a guess \n",
    "beta_g = 0.0005\n",
    "gE_g = 1./72\n",
    "gIa_g = 1./68\n",
    "gIs_g = 1./65\n",
    "alpha_g = 0.25\n",
    "guess = np.array([alpha_g, beta_g, gE_g, gIa_g, gIs_g])\n",
    "\n",
    "eps = 1e-3 # step used to calculate hessian in the optimisation algorithm \n",
    "\n",
    "alpha_g = 0.25\n",
    "alpha_bounds = (eps, 1)\n",
    "# the bound for alpha must be 1-2*eps to avoid alpha>1 in hessian calculation performed by optimizer \n",
    "\n",
    "beta_g = 0.005\n",
    "beta_bounds = (0, 1)\n",
    "\n",
    "gE_g = 1./700\n",
    "gE_bounds = (eps, 1)\n",
    "\n",
    "gIa_g = 1./700\n",
    "gIa_bounds = (eps, 1)\n",
    "\n",
    "gIs_g = 1./700\n",
    "gIs_bounds = (eps, 1) \n",
    "\n",
    "fsa_g = 0.8\n",
    "\n",
    "Is0_g = (Is_0+10)/N \n",
    "bounds_for_Is = [(1/N, 120/N)]*M \n",
    "bounds_for_Is[1] = (180/N, 220/N)\n",
    "\n",
    "Ia0_g = (Ia_0+10)/N\n",
    "bounds_for_Ia = [(1/N, 100/N)]*M\n",
    "\n",
    "E0_g = (E_0)/N\n",
    "bounds_for_E0 = [(1/N, 500/N)]*M\n",
    "\n",
    "S0_g = S_0/N\n",
    "bounds_for_S = [(fi[i]-400/N, fi[i]-bounds_for_Is[i][0]/N) for i in range(M)]\n",
    "\n",
    "\n",
    "# optimisation parameters \n",
    "ftol = 1e-4 # the relative tol in (-logp)  \n",
    "bounds = np.array([alpha_bounds, beta_bounds, gE_bounds, gIa_bounds, gIs_bounds, \n",
    "                   *bounds_for_S, *bounds_for_E0, *bounds_for_Ia, *bounds_for_Is])\n",
    "# print(bounds, \"\\n\",guess)\n",
    "\n",
    "guess = np.array([alpha_g, beta_g, gE_g, gIa_g, gIs_g, *S0_g, *E0_g, *Ia0_g, *Is0_g])\n",
    "# print([bounds[i,0]<guess[i]<bounds[i,1] for i in range(len(guess))])\n",
    "params = estimator.latent_inference(guess, .1*np.ones(guess.shape),obs, fltr, Tf_initial, Nf_initial, contactMatrix,\n",
    "                                    bounds, beta_rescale=1, verbose=True, niter=2, ftol=ftol, eps=eps,\n",
    "                                    global_max_iter=15, local_max_iter=15)\n",
    "# the L-BFGS-B method prints to the terminal rather than here "
   ]
  },
  {
   "cell_type": "code",
   "execution_count": null,
   "metadata": {},
   "outputs": [],
   "source": [
    "# save the parameters \n",
    "np.save('SEIR_cal_lat_param.npy', params)"
   ]
  },
  {
   "cell_type": "code",
   "execution_count": null,
   "metadata": {},
   "outputs": [],
   "source": [
    "# check the predictions \n",
    "params = np.load('SEIR_cal_lat_param.npy')\n",
    "x = np.load('cal_lat_SEIR_traj.npy')/N\n",
    "parameters = {'alpha':params[0], 'beta':params[1], 'gE':params[2],\n",
    "              'gIa':params[3], 'gIs':params[4],'fsa':0.8}\n",
    "\n",
    "estimator.set_params(parameters)\n",
    "x0 = params[len(parameters)-1:]\n",
    "det_model = pyross.deterministic.SEIR(parameters, M, fi)\n",
    "contactMatrix = generator.constant_contactMatrix()\n",
    "x_det = estimator.integrate(x0, 0, Tf_initial, Nf_initial, det_model, contactMatrix)\n",
    "plt.plot(x[:Nf_initial,1*M], label='Ia')\n",
    "plt.plot(x_det[:, 1*M])\n",
    "plt.plot(x[:Nf_initial,2*M], label='Is')\n",
    "plt.plot(x_det[:, 2*M])\n",
    "plt.legend()\n",
    "plt.show()"
   ]
  },
  {
   "cell_type": "code",
   "execution_count": null,
   "metadata": {},
   "outputs": [],
   "source": [
    "aW_g = 0.6 \n",
    "aW_bounds = [0.2, 0.8]\n",
    "aS_g = 0.6\n",
    "aS_bounds = [0.2, 0.8]\n",
    "aO_g = 0.6\n",
    "aO_bounds = [0.2, 0.8]\n",
    "guess = np.array([aW_g, aS_g, aO_g])\n",
    "bounds = np.array([aW_bounds, aS_bounds, aO_bounds])\n",
    "\n",
    "x = np.load('cal_lat_SEIR_traj.npy')/N\n",
    "x = x[Nf_initial:]\n",
    "obs = x[:, fltr]\n",
    "Nf_control = x.shape[0] \n",
    "Tf_control = Nf_control-1 \n",
    "\n",
    "det_model = pyross.deterministic.SEIR(parameters, M, fi)\n",
    "contactMatrix = generator.constant_contactMatrix()\n",
    "x0 = estimator.integrate(params[-4*M:], 0, Tf_initial, 2, det_model, contactMatrix)[-1]\n",
    "x0 = np.array(x0)\n",
    "times = [Tf+1]\n",
    "interventions = [[aW, aS, aO]]\n",
    "contactMatrix = generator.interventions_temporal(times=times,interventions=interventions)\n",
    "\n",
    "# compute -log_p for the initial guess (for the moment, use correct parameters)\n",
    "parameters = estimator.make_params_dict(params)\n",
    "logp = estimator.minus_logp_red(parameters, x0, obs[1:], fltr, Tf_control, Nf_control, contactMatrix)\n",
    "print(logp) "
   ]
  },
  {
   "cell_type": "code",
   "execution_count": null,
   "metadata": {},
   "outputs": [],
   "source": [
    "eps = 1e-3 \n",
    "start_time = time.time() \n",
    "\n",
    "parameters = estimator.make_params_dict(params)\n",
    "estimator.set_params(parameters) \n",
    "control_params = estimator.latent_infer_control(guess,.1*np.ones(guess.shape), x0, obs, fltr, Tf_control, Nf_control, generator, bounds,\n",
    "                                  niter=2, eps=eps, verbose=True, global_max_iter=15)\n",
    "end_time = time.time()\n",
    "print(control_params) # best guess \n",
    "print(end_time - start_time)"
   ]
  },
  {
   "cell_type": "code",
   "execution_count": null,
   "metadata": {},
   "outputs": [],
   "source": [
    "times = [20]\n",
    "interventions = [[1.0,1.0,1.0],      # before first time\n",
    "                 control_params,       # after first time\n",
    "                ]         \n",
    "\n",
    "# compare the true trajectory with the \n",
    "contactMatrix = generator.interventions_temporal(times=times,interventions=interventions)\n",
    "det_model = pyross.deterministic.SEIR(parameters, M, fi)\n",
    "x0 = params[len(parameters)-1:]\n",
    "x_det = estimator.integrate(x0, 0, Tf, Nf, det_model, contactMatrix)\n",
    "x = np.load('cal_lat_SEIR_traj.npy')/N\n",
    "plt.plot(x[:,1*M], label='Ia')\n",
    "plt.plot(x_det[:, 1*M])\n",
    "plt.plot(x[:,2*M], label='Is')\n",
    "plt.plot(x_det[:, 2*M])\n",
    "plt.legend()\n",
    "plt.show()\n",
    "print(x.shape)"
   ]
  },
  {
   "cell_type": "code",
   "execution_count": null,
   "metadata": {},
   "outputs": [],
   "source": []
  }
 ],
 "metadata": {
  "kernelspec": {
   "display_name": "Python 3",
   "language": "python",
   "name": "python3"
  },
  "language_info": {
   "codemirror_mode": {
    "name": "ipython",
    "version": 3
   },
   "file_extension": ".py",
   "mimetype": "text/x-python",
   "name": "python",
   "nbconvert_exporter": "python",
   "pygments_lexer": "ipython3",
   "version": "3.6.9"
  }
 },
 "nbformat": 4,
 "nbformat_minor": 4
}
