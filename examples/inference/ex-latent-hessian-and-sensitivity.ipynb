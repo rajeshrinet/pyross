{
 "cells": [
  {
   "cell_type": "markdown",
   "metadata": {},
   "source": [
    "# Fisher Information Matrix: Expected Hessian, Sensitivity and Robustness\n",
    "\n",
    "In this notebook, we investigate the Fisher Information matrix (FIM) from various angles. We do this for both, the FIM of the stochastic model (informed by the van Kampen expansion of the chemical Master equation of the process) and the FIM of the deterministic model (ODE based, including a constant measurement error). First, we look at its properties as the expected Hessian and compare with the observed Hessian of our posterior distribution. We then look at two sensitivity measures computed from the FIM (as in [Sensitivity Analysis of Discrete Stochastic Systems](https://doi.org/10.1529/biophysj.104.053405)). Finally, we briefly analyse the expected robustness of the model to simultaneous changes in parameters. \n",
    "\n",
    "The model used for generating data and defining the observation process can be found in more detail in ex13_calibration_latent_SIR."
   ]
  },
  {
   "cell_type": "code",
   "execution_count": 1,
   "metadata": {},
   "outputs": [],
   "source": [
    "%matplotlib inline\n",
    "import numpy as np\n",
    "import pyross\n",
    "import time \n",
    "import matplotlib.pyplot as plt\n",
    "from scipy.io import loadmat"
   ]
  },
  {
   "cell_type": "markdown",
   "metadata": {},
   "source": [
    "## 1) Generate a trajectory\n",
    "We generate a test trajectory on a population with four ages groups using UK contact matrix"
   ]
  },
  {
   "cell_type": "code",
   "execution_count": 2,
   "metadata": {},
   "outputs": [
    {
     "name": "stdout",
     "output_type": "stream",
     "text": [
      "64111602.0\n"
     ]
    }
   ],
   "source": [
    "np.random.seed(1)\n",
    "\n",
    "## population and age classes\n",
    "M=4  ## number of age classes\n",
    "\n",
    "my_data = np.genfromtxt('../data/age_structures/UK.csv', delimiter=',', skip_header=1)\n",
    "aM, aF = my_data[:, 1], my_data[:, 2]\n",
    "\n",
    "Ni0=aM+aF;   Ni=np.zeros((M))\n",
    "\n",
    "# scale the population down to a more manageble level \n",
    "Ni[0] = (np.sum(Ni0[0:4])).astype('int')\n",
    "Ni[1] = (np.sum(Ni0[4:8])).astype('int')\n",
    "Ni[2] = (np.sum(Ni0[8:12])).astype('int')\n",
    "Ni[3] = (np.sum(Ni0[12:16])).astype('int')\n",
    "N=np.sum(Ni)\n",
    "fi = Ni/N \n",
    "\n",
    "# Get individual contact matrices\n",
    "CH0, CW0, CS0, CO0 = pyross.contactMatrix.UK()\n",
    "\n",
    "\n",
    "CH = np.zeros((M, M))\n",
    "CW = np.zeros((M, M))\n",
    "CS = np.zeros((M, M))\n",
    "CO = np.zeros((M, M))\n",
    "\n",
    "for i in range(16):\n",
    "    CH0[i,:] = CH0[i,:]*Ni0[i]\n",
    "    CW0[i,:] = CW0[i,:]*Ni0[i]\n",
    "    CS0[i,:] = CS0[i,:]*Ni0[i]\n",
    "    CO0[i,:] = CO0[i,:]*Ni0[i]\n",
    "\n",
    "\n",
    "for i in range(M):\n",
    "    for j in range(M):\n",
    "        i1, j1 = i*4, j*4\n",
    "        CH[i,j] = np.sum( CH0[i1:i1+4, j1:j1+4] )/Ni[i]\n",
    "        CW[i,j] = np.sum( CW0[i1:i1+4, j1:j1+4] )/Ni[i]\n",
    "        CS[i,j] = np.sum( CS0[i1:i1+4, j1:j1+4] )/Ni[i]\n",
    "        CO[i,j] = np.sum( CO0[i1:i1+4, j1:j1+4] )/Ni[i]\n",
    "        \n",
    "print(N)"
   ]
  },
  {
   "cell_type": "code",
   "execution_count": 3,
   "metadata": {},
   "outputs": [],
   "source": [
    "# Generate class with contact matrix for SIR model with UK contact structure\n",
    "generator = pyross.contactMatrix.SIR(CH, CW, CS, CO)\n",
    "\n",
    "# Set intervention time, and the total length for the trajectory \n",
    "T_intervention = 100 # intervention time \n",
    "Tf = 600\n",
    "Nf = Tf+1\n",
    "\n",
    "# a tanh function for intervention \n",
    "def approx_tanh(t, width, loc):\n",
    "    cond1 = (t < loc-width/2)\n",
    "    cond2 = (t >= loc+width/2)\n",
    "    cond3 = np.logical_and((t < loc+width/2), (t >= loc-width/2))\n",
    "    cond_list = [cond1, cond2, cond3]\n",
    "    fun_list = [-1, 1, lambda t: 2*(t-loc)/width]\n",
    "    return np.piecewise(t, cond_list, fun_list)\n",
    "    \n",
    "def intervention_fun(t, M, width=1, loc=0, aW_f=0, aS_f=0, aO_f=0):\n",
    "    aW = (1-approx_tanh(t, width, loc))/2*(1-aW_f) + aW_f\n",
    "    aS = (1-approx_tanh(t, width, loc))/2*(1-aS_f) + aS_f\n",
    "    aO = (1-approx_tanh(t, width, loc))/2*(1-aO_f) + aO_f\n",
    "    aW_full = np.full((2, M), aW) # must return the full (2, M) array \n",
    "    aS_full = np.full((2, M), aS)\n",
    "    aO_full = np.full((2, M), aO)\n",
    "    return aW_full, aS_full, aO_full"
   ]
  },
  {
   "cell_type": "code",
   "execution_count": 4,
   "metadata": {},
   "outputs": [],
   "source": [
    "beta  = 0.02      # contact rate parameter\n",
    "gIa   = 1./7            # recovery rate of asymptomatic infectives \n",
    "gIs   = 1./7            # recovery rate of symptomatic infectives \n",
    "alpha = 0.2              # asymptomatic fraction\n",
    "fsa   = 1               # suppresion of contact by symptomatics\n",
    "\n",
    "\n",
    "# initial conditions    \n",
    "Is0 = np.zeros(M)\n",
    "Is0[1] = 10 \n",
    "Ia0 = np.zeros((M))\n",
    "R0  = np.zeros((M))\n",
    "S0  = Ni - (Ia0 + Is0 + R0)\n",
    "\n",
    "# contact matrix \n",
    "width = 10 \n",
    "loc = T_intervention \n",
    "aW_f = 0.9\n",
    "aS_f = 0.8 \n",
    "aO_f = 0.8 \n",
    "contactMatrix = generator.intervention_custom_temporal(intervention_fun, \n",
    "                                                       width=width, loc=loc, \n",
    "                                                       aW_f=aW_f, aS_f=aS_f, aO_f=aO_f)\n",
    "\n",
    "parameters = {'alpha':alpha,'beta':beta, 'gIa':gIa,'gIs':gIs,'fsa':fsa,\n",
    "             'seed':1}\n",
    "model = pyross.stochastic.SIR(parameters, M, Ni)\n",
    "\n",
    "# start simulation\n",
    "Tf=600;  Nf=Tf+1 \n",
    "data=model.simulate(S0, Ia0, Is0, contactMatrix, Tf, Nf, method='tau-leaping')\n",
    "np.save('cal_lat_SIR_traj.npy', data['X'])"
   ]
  },
  {
   "cell_type": "code",
   "execution_count": 5,
   "metadata": {},
   "outputs": [
    {
     "data": {
      "image/png": "[encoded data removed]",
      "text/plain": [
       "<Figure size 432x288 with 1 Axes>"
      ]
     },
     "metadata": {
      "needs_background": "light"
     },
     "output_type": "display_data"
    }
   ],
   "source": [
    "# plot the number of infected people \n",
    "IC  = np.zeros((Nf))\n",
    "for i in range(M):\n",
    "        IC += data['X'][:,2*M+i] \n",
    "t = data['t']\n",
    "plt.semilogy(t, IC)\n",
    "plt.axvspan(0, T_intervention, \n",
    "           label='Pre intervention',\n",
    "           alpha=0.3, color='dodgerblue')\n",
    "plt.xlim([0, Tf])\n",
    "plt.show() "
   ]
  },
  {
   "cell_type": "markdown",
   "metadata": {},
   "source": [
    "## 2) Infer the parameters and initial conditions for the pre-intervention trajectory"
   ]
  },
  {
   "cell_type": "code",
   "execution_count": 6,
   "metadata": {},
   "outputs": [
    {
     "data": {
      "image/png": "[encoded data removed]",
      "text/plain": [
       "<Figure size 432x288 with 1 Axes>"
      ]
     },
     "metadata": {
      "needs_background": "light"
     },
     "output_type": "display_data"
    }
   ],
   "source": [
    "N_start = 50 \n",
    "Tf_initial = 40 # truncate to only getting the pre-intervention trajectory \n",
    "Nf_initial = Tf_initial+1\n",
    "\n",
    "x = (np.load('cal_lat_SIR_traj.npy')).astype('float')\n",
    "x = x[N_start:N_start+Nf_initial]\n",
    "\n",
    "# a filter that yields the Is only \n",
    "fltr = np.kron([0, 0, 1],np.identity(M))\n",
    "obs=np.einsum('ij,kj->ki', fltr, x)\n",
    "x0 = x[0] \n",
    "\n",
    "steps = 4 # number of steps \n",
    "estimator = pyross.inference.SIR(parameters, M, Ni, 1, steps,\n",
    "                                rtol_det=1e-8)\n",
    "\n",
    "# Check the deterministic simulation against stochstic simulations with the same parameters and initial conditions \n",
    "# They are likely to be different due to the inherent stochasticity of the model \n",
    "\n",
    "estimator.set_det_model(parameters)\n",
    "estimator.set_contact_matrix(contactMatrix)\n",
    "xm = estimator.integrate(x0, 0, Tf_initial, Nf_initial)\n",
    "t = np.linspace(0, Tf_initial, Nf_initial)\n",
    "plt.plot(t, np.sum(x[:,2*M:3*M], axis=1))\n",
    "plt.plot(t, np.sum(xm[:,2*M:3*M], axis=1))\n",
    "plt.show()"
   ]
  },
  {
   "cell_type": "code",
   "execution_count": 7,
   "metadata": {},
   "outputs": [
    {
     "name": "stdout",
     "output_type": "stream",
     "text": [
      "588.5363474838662\n",
      "0.045289039611816406\n"
     ]
    }
   ],
   "source": [
    "# Compute -log_p for the original (correct) parameters \n",
    "# This gives an estimate of the final -logp we expect from the optimisation scheme \n",
    "start_time = time.time() \n",
    "parameters = {'alpha': alpha, 'beta':beta, 'gIa':gIa, 'gIs':gIs,'fsa':fsa}\n",
    "logp = estimator.minus_logp_red(parameters, x0, obs, fltr, Tf_initial, contactMatrix, tangent=True)\n",
    "end_time = time.time()\n",
    "print(logp) \n",
    "print(end_time - start_time)"
   ]
  },
  {
   "cell_type": "code",
   "execution_count": 8,
   "metadata": {},
   "outputs": [
    {
     "name": "stdout",
     "output_type": "stream",
     "text": [
      "Starting global minimisation...\n",
      "(8_w,16)-aCMA-ES (mu_w=4.8,w_1=32%) in dimension 12 (seed=2873392800, Thu Aug  6 20:58:00 2020)\n",
      "Iterat #Fevals   function value  axis ratio  sigma  min&max std  t[m:s]\n",
      "    1     16 9.322367705930518e+02 1.0e+00 1.01e+00  5e-02  9e+01 0:00.7\n",
      "    2     32 6.174948895008233e+02 1.3e+00 1.01e+00  5e-02  9e+01 0:01.5\n",
      "    3     48 7.613690737106995e+02 1.3e+00 1.04e+00  5e-02  9e+01 0:02.3\n",
      "    7    112 6.573339899022891e+02 1.5e+00 8.90e-01  4e-02  8e+01 0:05.8\n",
      "   12    192 6.901501906269677e+02 2.0e+00 8.75e-01  4e-02  8e+01 0:09.8\n",
      "   19    304 6.535391433214072e+02 2.4e+00 1.03e+00  5e-02  1e+02 0:15.4\n",
      "   27    432 7.285647454239637e+02 3.0e+00 1.13e+00  5e-02  1e+02 0:22.0\n",
      "   36    576 8.400967175492864e+02 3.9e+00 1.29e+00  6e-02  1e+02 0:29.4\n",
      "   46    736 7.623879133095506e+02 5.4e+00 1.37e+00  4e-02  1e+02 0:37.8\n",
      "   58    928 5.374821173303553e+03 7.1e+00 1.63e+00  5e-02  2e+02 0:47.6\n",
      "   71   1136 7.606623447320292e+02 8.6e+00 9.57e-01  2e-02  8e+01 0:57.8\n",
      "   85   1360 7.619667884433949e+02 1.4e+01 1.06e+00  1e-02  1e+02 1:08.9\n",
      "  100   1600 6.803533202856798e+02 2.9e+01 6.69e-01  6e-03  7e+01 1:19.7\n",
      "  119   1904 6.487267140313280e+02 6.2e+01 5.27e-01  3e-03  5e+01 1:33.2\n",
      "  139   2224 6.222947090446185e+02 1.3e+02 5.78e-01  3e-03  7e+01 1:47.3\n",
      "  160   2560 6.118643879862689e+02 1.9e+02 3.69e-01  1e-03  4e+01 2:02.5\n",
      "  183   2928 6.092491255752695e+02 2.2e+02 2.12e-01  7e-04  2e+01 2:19.0\n",
      "  200   3200 6.084413176735515e+02 2.5e+02 1.23e-01  4e-04  1e+01 2:31.1\n",
      "  216   3456 6.083130701201735e+02 2.6e+02 6.84e-02  2e-04  6e+00 2:42.6\n",
      "Optimal value (global minimisation):  608.2154689126539\n",
      "Starting local minimisation...\n",
      "Optimal value (local minimisation):  608.1214241287129\n",
      "168.29511952400208\n"
     ]
    }
   ],
   "source": [
    "# make parameter guesses and set up bounds for each parameter \n",
    "\n",
    "eps=1e-4\n",
    "param_priors = {\n",
    "    'alpha':{\n",
    "        'mean': 0.2, \n",
    "        'std': 0.05, \n",
    "        'bounds': [eps, 0.5]\n",
    "    },\n",
    "    'beta':{\n",
    "        'mean': 0.04, \n",
    "        'std': 0.1,\n",
    "        'bounds': [eps, 0.4]\n",
    "    }, \n",
    "    'gIa':{\n",
    "        'mean': 0.13, \n",
    "        'std': 0.05, \n",
    "        'bounds': [eps, 0.3]\n",
    "    }, \n",
    "    'gIs':{\n",
    "        'mean': 0.14, \n",
    "        'std': 0.05, \n",
    "        'bounds': [eps, 0.3]\n",
    "    }\n",
    "}\n",
    "\n",
    "Ia0_g = x0[M:2*M]\n",
    "Ia_std = Ia0_g*2\n",
    "bounds_for_Ia = np.tile([0.1, N], M).reshape(M, 2)\n",
    "\n",
    "S0_g = x0[:M]\n",
    "S_std = Ia_std*2\n",
    "bounds_for_S = np.tile([0.1, N], M).reshape(M, 2)\n",
    "\n",
    "init_fltr = np.repeat([True, True, False], M)\n",
    "\n",
    "init_priors = {\n",
    "    'independent':{\n",
    "        'fltr': init_fltr, \n",
    "        'mean': [*S0_g, *Ia0_g], \n",
    "        'std': [*S_std, *Ia_std], \n",
    "        'bounds': [*bounds_for_S, *bounds_for_Ia]\n",
    "    }\n",
    "}\n",
    "\n",
    "\n",
    "# Optimisation parameters \n",
    "ftol = 1e-5 # the relative tol in (-logp)  \n",
    "\n",
    "\n",
    "start_time = time.time()\n",
    "\n",
    "#old function call: deprecated but still working (as a wrapper of latent_infer)\n",
    "#res = estimator.latent_infer_parameters(obs, fltr, Tf_initial, contactMatrix, param_priors, init_priors, \n",
    "#                                        tangent=True, global_max_iter=30, global_atol=1, verbose=True, ftol=ftol, cma_random_seed=2873392800) \n",
    "res = estimator.latent_infer(obs, fltr, Tf_initial, param_priors, init_priors, contactMatrix=contactMatrix,\n",
    "                                        tangent=True, global_max_iter=300, global_atol=1, verbose=True, ftol=ftol, cma_random_seed=2873392800,\n",
    "                            local_max_iter=10000)\n",
    "\n",
    "end_time = time.time()\n",
    "print(end_time - start_time)"
   ]
  },
  {
   "cell_type": "code",
   "execution_count": 9,
   "metadata": {},
   "outputs": [
    {
     "name": "stdout",
     "output_type": "stream",
     "text": [
      "True parameters\n",
      "{'alpha': 0.2, 'beta': 0.02, 'gIa': 0.14285714285714285, 'gIs': 0.14285714285714285, 'fsa': 1}\n",
      "\n",
      " Best estimates\n",
      "{'alpha': 0.1571640273926629, 'beta': 0.01976756552828711, 'gIa': 0.14589325993478594, 'gIs': 0.13900299527090698, 'fsa': array([1., 1., 1., 1.])}\n",
      "\n",
      " True initial conditions: \n",
      "[15634069 17833838 17762783 12879838       23       16       15        5\n",
      "      104       88       71       17]\n",
      "\n",
      " Inferred initial conditions: \n",
      "[15634074 17833829 17762789 12879839        2        1        1        0\n",
      "      104       88       71       17]\n"
     ]
    }
   ],
   "source": [
    "# print the correct params and best estimates \n",
    "print('True parameters')\n",
    "parameters = {'alpha':alpha, 'beta':beta, 'gIa':gIa, 'gIs':gIs,'fsa':fsa}\n",
    "print(parameters)\n",
    "\n",
    "best_estimates = res['params_dict']\n",
    "print('\\n Best estimates')\n",
    "print(best_estimates)\n",
    "\n",
    "print('\\n True initial conditions: ') \n",
    "print(x0.astype('int'))\n",
    "\n",
    "\n",
    "map_x0 = res['x0']\n",
    "print('\\n Inferred initial conditions: ') \n",
    "print(map_x0.astype('int'))"
   ]
  },
  {
   "cell_type": "code",
   "execution_count": 10,
   "metadata": {},
   "outputs": [
    {
     "name": "stdout",
     "output_type": "stream",
     "text": [
      "588.7923750127412\n"
     ]
    }
   ],
   "source": [
    "logp = estimator.minus_logp_red(best_estimates, map_x0, obs, fltr, Tf_initial, contactMatrix, tangent=True)\n",
    "print(logp)"
   ]
  },
  {
   "cell_type": "markdown",
   "metadata": {},
   "source": [
    "## Compute the observed Hessian and the Laplacian model evidence approximation "
   ]
  },
  {
   "cell_type": "code",
   "execution_count": 11,
   "metadata": {},
   "outputs": [
    {
     "name": "stdout",
     "output_type": "stream",
     "text": [
      "epsilon used for differentiation:  [0.00072583 0.00043158 0.00072583 0.00072583 0.06569503 0.078125\n",
      " 0.078125   0.06569503 0.00145167 0.0012207  0.0012207  0.00086317]\n",
      "True\n"
     ]
    }
   ],
   "source": [
    "hessian = estimator.latent_hessian(obs, fltr, Tf_initial,\n",
    "        res, contactMatrix=contactMatrix, tangent=True,\n",
    "        eps=None, inter_steps=100)\n",
    "\n",
    "# Check that Hessian is positive definite - if not, change eps\n",
    "# and/or inter_steps\n",
    "print(np.all(np.linalg.eigvalsh(hessian) > 0))"
   ]
  },
  {
   "cell_type": "code",
   "execution_count": 12,
   "metadata": {},
   "outputs": [
    {
     "name": "stdout",
     "output_type": "stream",
     "text": [
      "epsilon used for differentiation:  [0.00072583 0.00043158 0.00072583 0.00072583 0.06569503 0.078125\n",
      " 0.078125   0.06569503 0.00145167 0.0012207  0.0012207  0.00086317]\n",
      "log-Posterior at MAPs:  -608.1214241287129\n",
      "Approximate model evidence:  -598.1990941680712\n"
     ]
    }
   ],
   "source": [
    "evidence_approx = estimator.latent_evidence_laplace(obs, fltr, Tf_initial,\n",
    "        res, contactMatrix=contactMatrix, tangent=True,\n",
    "        eps=None, inter_steps=100)\n",
    "\n",
    "print('log-Posterior at MAPs: ', res['log_posterior'])\n",
    "print('Approximate model evidence: ', evidence_approx)"
   ]
  },
  {
   "cell_type": "markdown",
   "metadata": {},
   "source": [
    "## Compute FIM \n",
    "\n",
    "The FIM $\\mathcal{I}(\\theta)$ is the expected Hessian matrix, assuming flat priors and maximum information gain from the data. Thus, the covariances obtained from the FIM via \n",
    "\n",
    "$$\n",
    "C = \\mathcal{I}^{-1},\n",
    "$$\n",
    "\n",
    "with $C$ being the expected covariance matrix, can be interpreted as a lower bound on the variance of an unbiased estimator, see Cramér-Rao bound. Compare the expected with the observed covariances obtained by the FIM and the Hessian, respectively. \n",
    "\n",
    "Achieving a lower covariance than the expected one clearly indicates that the chosen priors are effective at incorporating prior knowledge."
   ]
  },
  {
   "cell_type": "code",
   "execution_count": 13,
   "metadata": {},
   "outputs": [
    {
     "name": "stdout",
     "output_type": "stream",
     "text": [
      "eps-vector used for differentiation:  [3.02772723e-05 1.51386361e-05 3.02772723e-05 3.02772723e-05\n",
      " 1.23039165e-02 1.55019634e-02 1.55019634e-02 1.23039165e-02\n",
      " 7.62939453e-05 6.05545445e-05 6.05545445e-05 3.81469727e-05]\n",
      "True\n"
     ]
    }
   ],
   "source": [
    "FIM = estimator.latent_FIM(obs=obs, fltr=fltr, Tf=Tf_initial,\n",
    "        infer_result=res, contactMatrix=contactMatrix,\n",
    "                          tangent=True, eps=None, inter_steps=100)\n",
    "\n",
    "# Check that FIM is positive definite - if not, change eps\n",
    "# and/or inter_steps\n",
    "print(np.all(np.linalg.eigvalsh(FIM) > 0))"
   ]
  },
  {
   "cell_type": "code",
   "execution_count": 14,
   "metadata": {},
   "outputs": [
    {
     "name": "stdout",
     "output_type": "stream",
     "text": [
      "Parameter standard deviations are:\n",
      "\n",
      "[3.44926261e-02 1.42867485e-03 4.41822449e-02 1.79688472e-02\n",
      " 9.19999889e+01 6.39997772e+01 5.99997497e+01 1.99997921e+01\n",
      " 3.64068682e+00 2.46171873e+00 2.08053831e+00 6.04672081e-01]\n",
      "\n",
      "\n",
      "Expected standard deviations are:\n",
      "\n",
      "[7.08214662e-01 6.11876075e-02 3.91838757e-01 2.59752588e-02\n",
      " 5.12015564e+07 5.83806452e+07 5.81423272e+07 4.21573630e+07\n",
      " 8.56782810e+01 1.13036058e+02 1.29892325e+02 9.81645561e+01]\n"
     ]
    }
   ],
   "source": [
    "print('Parameter standard deviations are:\\n')\n",
    "if np.all(np.linalg.eigvalsh(hessian) > 0):\n",
    "    print(np.sqrt(np.diagonal(np.linalg.inv(hessian))))\n",
    "else:\n",
    "    print('Hessian not positive definite - check eps and inter_steps used!')\n",
    "    \n",
    "print('\\n\\nExpected standard deviations are:\\n')\n",
    "if np.all(np.linalg.eigvalsh(FIM) > 0):\n",
    "    print(np.sqrt(np.diagonal(np.linalg.inv(FIM))))\n",
    "else:\n",
    "    print('FIM not positive definite - check eps and inter_steps used!')\n",
    "    "
   ]
  },
  {
   "cell_type": "markdown",
   "metadata": {},
   "source": [
    "## Sensitivity analysis\n",
    "\n",
    "First order sensitivity measure: $S_{ij}=\\frac{\\partial \\mu_i}{\\partial \\theta_j}$\n",
    "\n",
    "Square-root of the diagonals of the FIM $\\mathcal{I}(\\theta)$ can be interpreted as sensitivity to changes in individual parameters.\n",
    "\n",
    "Inverse of the square-root of diagonal elements of the 'expected covariance matrix' ($C=\\mathcal{I}^{-1}(\\theta)$) represents the sensitivity to correlated changes in parameters. \n",
    "______________________\n",
    "\n",
    "In addition to the above FIM of the stochastic model, compute the FIM of an ODE based deterministic model with a constant measurement error: \n",
    "\n",
    "Stochastic FIM for a multivariate normal distribution $X\\sim \\mathcal{N}(\\mu(\\theta),\\Sigma(\\theta))$:\n",
    "\n",
    "$$\n",
    "\\mathcal{I}_{ij}=\\frac{\\partial\\mu^T}{\\partial\\theta_i}\\Sigma^{-1}\n",
    "\\frac{\\partial\\mu}{\\partial\\theta_j} + \\frac{1}{2} \\text{tr}\\left(\\Sigma^{-1}\n",
    "\\frac{\\partial\\Sigma}{\\partial\\theta_i}\\Sigma^{-1}\n",
    "\\frac{\\partial\\Sigma}{\\partial\\theta_j}\\right)\n",
    "$$\n",
    "\n",
    "If $\\Sigma(\\theta)=\\Sigma$, a constant, can interpret this as a diagonal matrix of measurement errors $\\sigma^2_m$ for the deterministic mean evolution. Thus, for the 'deterministic' model \n",
    "\n",
    "$$\n",
    "\\mathcal{I}_{ij}=\\frac{\\partial\\mu^T}{\\partial\\theta_i}\\Sigma^{-1}\n",
    "\\frac{\\partial\\mu}{\\partial\\theta_j}\n",
    "$$\n",
    "\n",
    "________________________\n",
    "\n",
    "Compute sensitivity measures for both, individual parameter changes and incorporating parametric interactions (named 'individual' and 'correlated', respectively) for the stochastic and the deterministic FIM and compare. A larger entry translates into greater anticipated model sensitivity to changes in the parameter of interest. If sensitivity to a certain parameter is low for the deterministic model, but high for the stochastic model, this parameter is expected to have  a substantial effect on the stochasticity of the process"
   ]
  },
  {
   "cell_type": "code",
   "execution_count": 15,
   "metadata": {},
   "outputs": [
    {
     "name": "stdout",
     "output_type": "stream",
     "text": [
      "eps-vector used for differentiation:  [3.02772723e-05 1.51386361e-05 3.02772723e-05 3.02772723e-05\n",
      " 1.23039165e-02 1.55019634e-02 1.55019634e-02 1.23039165e-02\n",
      " 7.62939453e-05 6.05545445e-05 6.05545445e-05 3.81469727e-05]\n",
      "True\n"
     ]
    }
   ],
   "source": [
    "FIM_det = estimator.latent_FIM_det(obs, fltr, Tf_initial,\n",
    "        infer_result=res, contactMatrix=contactMatrix, eps=None,\n",
    "        measurement_error=1e-2, inter_steps=100)\n",
    "\n",
    "# Check that FIM_det is positive definite - if not, change eps\n",
    "# and/or inter_steps\n",
    "print(np.all(np.linalg.eigvalsh(FIM_det) > 0))"
   ]
  },
  {
   "cell_type": "code",
   "execution_count": 16,
   "metadata": {},
   "outputs": [],
   "source": [
    "# multiply by MAP estimates to standardise sensitivities\n",
    "individual_sto, correlated_sto = estimator.sensitivity(FIM)*res['flat_params']\n",
    "individual_det, correlated_det = estimator.sensitivity(FIM_det)*res['flat_params']"
   ]
  },
  {
   "cell_type": "code",
   "execution_count": 17,
   "metadata": {},
   "outputs": [
    {
     "data": {
      "image/png": "[encoded data removed]",
      "text/plain": [
       "<Figure size 432x288 with 1 Axes>"
      ]
     },
     "metadata": {
      "needs_background": "light"
     },
     "output_type": "display_data"
    }
   ],
   "source": [
    "No = np.arange(0, len(res['flat_params']))\n",
    "\n",
    "# Compare correlated and individual sensitivities for manifold\n",
    "plt.semilogy(No, correlated_sto, 'o', label='mfd_cor')\n",
    "plt.semilogy(No, individual_sto, 'o', label='mfd_ind')\n",
    "plt.grid()\n",
    "plt.legend()\n",
    "plt.show()"
   ]
  },
  {
   "cell_type": "code",
   "execution_count": 18,
   "metadata": {},
   "outputs": [
    {
     "data": {
      "image/png": "[encoded data removed]",
      "text/plain": [
       "<Figure size 432x288 with 1 Axes>"
      ]
     },
     "metadata": {
      "needs_background": "light"
     },
     "output_type": "display_data"
    }
   ],
   "source": [
    "# Compare correlated and individual sensitivities for deterministic\n",
    "plt.semilogy(No, correlated_det, 'o', label='det_cor')\n",
    "plt.semilogy(No, individual_det, 'o', label='det_ind')\n",
    "plt.grid()\n",
    "plt.legend()\n",
    "plt.show()"
   ]
  },
  {
   "cell_type": "code",
   "execution_count": 19,
   "metadata": {},
   "outputs": [],
   "source": [
    "# Normalise sensitivities to compare the stochastic\n",
    "# and the deterministic model\n",
    "\n",
    "ind_sto_norm = individual_sto/np.sum(individual_sto)\n",
    "cor_sto_norm = correlated_sto/np.sum(correlated_sto)\n",
    "\n",
    "ind_det_norm = individual_det/np.sum(individual_det)\n",
    "cor_det_norm = correlated_det/np.sum(correlated_det)"
   ]
  },
  {
   "cell_type": "code",
   "execution_count": 20,
   "metadata": {},
   "outputs": [
    {
     "data": {
      "image/png": "[encoded data removed]",
      "text/plain": [
       "<Figure size 432x288 with 1 Axes>"
      ]
     },
     "metadata": {
      "needs_background": "light"
     },
     "output_type": "display_data"
    }
   ],
   "source": [
    "# Compare individual sensitivities for deterministic and stochastic\n",
    "plt.semilogy(No, ind_sto_norm, 'o', label='sto_ind')\n",
    "plt.semilogy(No, ind_det_norm, 'o', label='det_ind')\n",
    "plt.grid()\n",
    "plt.legend()\n",
    "plt.show()"
   ]
  },
  {
   "cell_type": "code",
   "execution_count": 21,
   "metadata": {},
   "outputs": [
    {
     "data": {
      "image/png": "[encoded data removed]",
      "text/plain": [
       "<Figure size 432x288 with 1 Axes>"
      ]
     },
     "metadata": {
      "needs_background": "light"
     },
     "output_type": "display_data"
    }
   ],
   "source": [
    "# Compare correlated sensitivities for deterministic and stochastic\n",
    "plt.semilogy(No, cor_sto_norm, 'o', label='sto_cor')\n",
    "plt.semilogy(No, cor_det_norm, 'o', label='det_cor')\n",
    "plt.grid()\n",
    "plt.legend()\n",
    "plt.show()"
   ]
  },
  {
   "cell_type": "markdown",
   "metadata": {},
   "source": [
    "## Robustness analysis\n",
    "\n",
    "Compare the expected correlations of the deterministic and the stochastic model. This can serve as a measure of how robust the model is around the MAP estimates to simultaneous changes in parameters. Regions within such covariance ellipses are called neutral spaces."
   ]
  },
  {
   "cell_type": "code",
   "execution_count": 22,
   "metadata": {},
   "outputs": [],
   "source": [
    "ff, ss, Z_sto, Z_det = estimator.robustness(FIM=FIM, FIM_det=FIM_det,\n",
    "                infer_result=res, param_pos_1=0,\n",
    "                param_pos_2=1, range_1=0.5,\n",
    "                range_2=0.01, resolution_1=int(20))"
   ]
  },
  {
   "cell_type": "markdown",
   "metadata": {},
   "source": [
    "Plot the expected correlations of the inferred $\\alpha$ and $\\beta$. The heat map represents the stochastic model, the thick dashed contour lines are generated by the deterministic model. Clearly, stochasticity induces extra correlations."
   ]
  },
  {
   "cell_type": "code",
   "execution_count": 23,
   "metadata": {},
   "outputs": [
    {
     "data": {
      "image/png": "[encoded data removed]",
      "text/plain": [
       "<Figure size 432x288 with 2 Axes>"
      ]
     },
     "metadata": {
      "needs_background": "light"
     },
     "output_type": "display_data"
    }
   ],
   "source": [
    "cmap = plt.cm.PuBu_r\n",
    "levels=11\n",
    "colors='black'\n",
    "\n",
    "c = plt.contourf(ff, ss, Z_sto, cmap=cmap, levels=levels)\n",
    "plt.contour(ff, ss, Z_sto, colors='black', levels=levels, linewidths=0.25)\n",
    "plt.contour(ff, ss, Z_det, colors=colors, levels=levels)\n",
    "plt.plot(res['flat_params'][0], res['flat_params'][1], 'o',\n",
    "            color=\"#A60628\", markersize=6)\n",
    "plt.colorbar(c)\n",
    "plt.xlabel(r'$\\alpha$', fontsize=20, labelpad=10)\n",
    "plt.ylabel(r'$\\beta$', fontsize=20, labelpad=10)\n",
    "plt.show()"
   ]
  },
  {
   "cell_type": "code",
   "execution_count": null,
   "metadata": {},
   "outputs": [],
   "source": []
  }
 ],
 "metadata": {
  "kernelspec": {
   "display_name": "Python 3",
   "language": "python",
   "name": "python3"
  },
  "language_info": {
   "codemirror_mode": {
    "name": "ipython",
    "version": 3
   },
   "file_extension": ".py",
   "mimetype": "text/x-python",
   "name": "python",
   "nbconvert_exporter": "python",
   "pygments_lexer": "ipython3",
   "version": "3.7.3"
  }
 },
 "nbformat": 4,
 "nbformat_minor": 4
}
