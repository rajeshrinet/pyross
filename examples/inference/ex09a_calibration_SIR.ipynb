{
 "cells": [
  {
   "cell_type": "markdown",
   "metadata": {},
   "source": [
    "# Calibration (SIR model)\n",
    "Using generated data, we test if we can infer that a lockdown has happened and how the contact parameters have changed.\n",
    "To do this, we generate a test trajectory with a lockdown at time $20$. \n",
    "The lockdown is implemented by scaling the contact matrices (for work, school, other).\n",
    "We use the data points up to the lockdown to infer the parameters of the SIR model.\n",
    "Using the data after lockdown and the inferred parameters, we infer the change of the contact structure.\n",
    "\n",
    "For the pre-intervention period, we infer the following parameters: \n",
    "* $\\alpha$ (fraction of asymptomatic infectives), \n",
    "* $\\beta$ (probability of infection on contact), \n",
    "* $\\gamma_{I_a}$ (rate of recovery for asymptomatic infected individuals),\n",
    "* $\\gamma_{I_s}$ (rate of recovery for symptomatic infected individuals) \n",
    "\n",
    "For the post-intervention period, we infer the following control parameters: \n",
    "* $a_\\mathrm{W}$ fraction of work contact, \n",
    "* $a_\\mathrm{S}$ fraction of social contact, \n",
    "* $a_\\mathrm{O}$ fraction of other contacts "
   ]
  },
  {
   "cell_type": "code",
   "execution_count": 1,
   "metadata": {},
   "outputs": [],
   "source": [
    "%matplotlib inline\n",
    "import numpy as np\n",
    "import pyross\n",
    "import time\n",
    "import matplotlib.pyplot as plt\n",
    "from scipy.io import loadmat"
   ]
  },
  {
   "cell_type": "markdown",
   "metadata": {},
   "source": [
    "## 1) Generate a trajectory"
   ]
  },
  {
   "cell_type": "code",
   "execution_count": 2,
   "metadata": {},
   "outputs": [],
   "source": [
    "# population and age classes (4 age groups)\n",
    "M=4  # number of age classes\n",
    "\n",
    "my_data = np.genfromtxt('../data/age_structures/UK.csv', delimiter=',', skip_header=1)\n",
    "aM, aF = my_data[:, 1], my_data[:, 2]\n",
    "\n",
    "Ni0=aM+aF;   Ni=np.zeros((M))\n",
    "\n",
    "Ni[0] = (np.sum(Ni0[0:4])).astype('int')\n",
    "Ni[1] = (np.sum(Ni0[4:8])).astype('int')\n",
    "Ni[2] = (np.sum(Ni0[8:12])).astype('int')\n",
    "Ni[3] = (np.sum(Ni0[12:16])).astype('int')\n",
    "N=np.sum(Ni)\n",
    "fi = Ni/N \n",
    "\n",
    "# Get individual contact matrices\n",
    "CH0, CW0, CS0, CO0 = pyross.contactMatrix.UK()\n",
    "\n",
    "CH = np.zeros((M, M))\n",
    "CW = np.zeros((M, M))\n",
    "CS = np.zeros((M, M))\n",
    "CO = np.zeros((M, M))\n",
    "\n",
    "for i in range(16):\n",
    "    CH0[i,:] = Ni0[i]*CH0[i,:]\n",
    "    CS0[i,:] = Ni0[i]*CS0[i,:]\n",
    "    CW0[i,:] = Ni0[i]*CW0[i,:]\n",
    "    CO0[i,:] = Ni0[i]*CO0[i,:]\n",
    "\n",
    "    \n",
    "for i in range(M):\n",
    "    for j in range(M):\n",
    "        i1, j1 = i*4, j*4\n",
    "        CH[i,j] = np.sum( CH0[i1:i1+4,j1:j1+4]  )/Ni[i]\n",
    "        CW[i,j] = np.sum( CW0[i1:i1+4,j1:j1+4]  )/Ni[i]\n",
    "        CS[i,j] = np.sum( CS0[i1:i1+4,j1:j1+4]  )/Ni[i]\n",
    "        CO[i,j] = np.sum( CO0[i1:i1+4,j1:j1+4]  )/Ni[i]"
   ]
  },
  {
   "cell_type": "code",
   "execution_count": 3,
   "metadata": {},
   "outputs": [],
   "source": [
    "# Generate class with contact matrix for SIR model with UK contact structure\n",
    "generator = pyross.contactMatrix.ContactMatrixFunction(CH, CW, CS, CO)"
   ]
  },
  {
   "cell_type": "code",
   "execution_count": 4,
   "metadata": {},
   "outputs": [],
   "source": [
    "T_intervention = 30\n",
    "times= [T_intervention] # temporal boundaries between different contact-behaviour\n",
    "\n",
    "aW, aS, aO = 0.8, 0.7, 0.7\n",
    "\n",
    "# prefactors for CW, CS, CO:\n",
    "interventions = [[1.0,1.0,1.0],      # before first time\n",
    "                 [aW, aS, aO],       # after first time\n",
    "                ]         \n",
    "\n",
    "# generate corresponding contact matrix function\n",
    "C = generator.interventions_temporal(times=times,interventions=interventions)"
   ]
  },
  {
   "cell_type": "code",
   "execution_count": 5,
   "metadata": {},
   "outputs": [],
   "source": [
    "beta  = 0.04       # contact rate parameter\n",
    "gIa   = 1./7       # recovery rate of asymptomatic infectives \n",
    "gIs   = 1./7       # recovery rate of symptomatic infectives \n",
    "alpha = 0.2        # asymptomatic fraction\n",
    "fsa   = 0.8        # suppresion of contact by symptomatics\n",
    "\n",
    "\n",
    "# initial conditions    \n",
    "Is_0 = np.ones(M)*20\n",
    "Is_0[1] += 10  #make one group different \n",
    "Ia_0 = np.zeros((M))*2\n",
    "Ia_0[1] += 2 \n",
    "R_0  = np.zeros((M))\n",
    "S_0  = Ni - (Ia_0 + Is_0 + R_0)\n",
    "\n",
    "parameters = {'alpha':alpha,'beta':beta, 'gIa':gIa,'gIs':gIs,'fsa':fsa}\n",
    "true_parameters = parameters\n",
    "model = pyross.stochastic.SIR(parameters, M, Ni)\n",
    "\n",
    "# start simulation\n",
    "Tf=100;  Nf=Tf+1 \n",
    "data=model.simulate(S_0, Ia_0, Is_0, C, Tf, Nf, method='tau-leaping')"
   ]
  },
  {
   "cell_type": "code",
   "execution_count": 6,
   "metadata": {},
   "outputs": [
    {
     "data": {
      "image/png": "[encoded data removed]",
      "text/plain": [
       "<Figure size 432x288 with 1 Axes>"
      ]
     },
     "metadata": {
      "needs_background": "light"
     },
     "output_type": "display_data"
    }
   ],
   "source": [
    "IC  = np.zeros((Nf))\n",
    "for i in range(M):\n",
    "        IC += data['X'][:,2*M+i] \n",
    "t = data['t']\n",
    "plt.plot(t, IC)\n",
    "plt.axvspan(0, T_intervention, \n",
    "           label='Pre intervention',\n",
    "           alpha=0.3, color='dodgerblue')\n",
    "plt.show() "
   ]
  },
  {
   "cell_type": "markdown",
   "metadata": {},
   "source": [
    "## 2) Infer the parameters of the model"
   ]
  },
  {
   "cell_type": "code",
   "execution_count": 7,
   "metadata": {},
   "outputs": [
    {
     "name": "stdout",
     "output_type": "stream",
     "text": [
      "1314.2017457358438\n",
      "0.2314927577972412\n"
     ]
    },
    {
     "data": {
      "image/png": "[encoded data removed]",
      "text/plain": [
       "<Figure size 432x288 with 1 Axes>"
      ]
     },
     "metadata": {
      "needs_background": "light"
     },
     "output_type": "display_data"
    }
   ],
   "source": [
    "Tf = 30 # truncate to only getting the first few datapoints (up to lockdown) \n",
    "Nf = Tf+1\n",
    "\n",
    "x = data['X'].astype('float')\n",
    "x = x[:Nf]\n",
    "\n",
    "# initialise the estimator \n",
    "estimator = pyross.inference.SIR(parameters, M, Ni)\n",
    "\n",
    "# compute -log_p for the original (correct) parameters \n",
    "start_time = time.time() \n",
    "parameters = {'alpha':alpha, 'beta':beta, 'gIa':gIa, 'gIs':gIs,'fsa':fsa}\n",
    "logp = estimator.obtain_minus_log_p(parameters, x, Tf, C)\n",
    "end_time = time.time()\n",
    "print(logp) \n",
    "print(end_time - start_time)\n",
    "\n",
    "# Check the deterministic simulation against stochstic simulations with the same parameters and initial conditions \n",
    "# They are likely to be different due to the inherent stochasticity of the model \n",
    "Tf_initial = T_intervention # truncate to only getting the pre-intervention trajectory \n",
    "Nf_initial = Tf_initial+1\n",
    "contactMatrix = generator.constant_contactMatrix()\n",
    "estimator.set_det_model(parameters)\n",
    "estimator.set_contact_matrix(contactMatrix)\n",
    "xm = estimator.integrate(x[0], 0, Tf_initial, Nf_initial)\n",
    "t = np.linspace(0, Tf_initial, Nf_initial)\n",
    "plt.plot(t, np.sum(x[:,2*M:3*M], axis=1))\n",
    "plt.plot(t, np.sum(xm[:,2*M:3*M], axis=1))\n",
    "plt.show()"
   ]
  },
  {
   "cell_type": "code",
   "execution_count": 8,
   "metadata": {},
   "outputs": [
    {
     "name": "stdout",
     "output_type": "stream",
     "text": [
      "Starting global minimisation...\n",
      "(8_w,16)-aCMA-ES (mu_w=4.8,w_1=32%) in dimension 4 (seed=413788650, Sat Jul 25 17:00:41 2020)\n",
      "Iterat #Fevals   function value  axis ratio  sigma  min&max std  t[m:s]\n",
      "    1     16 1.541572329143176e+04 1.0e+00 9.15e-01  5e-02  2e-01 0:00.1\n",
      "    2     32 1.671132766929424e+04 1.4e+00 7.78e-01  4e-02  2e-01 0:00.1\n",
      "    3     48 1.454405426886573e+04 1.6e+00 6.94e-01  3e-02  1e-01 0:00.2\n",
      "Global optimisation: Maximum number of iterations reached.\n",
      "Optimal value (global minimisation):  1398.739551234569\n",
      "Starting local minimisation...\n",
      "Optimal value (local minimisation):  1374.9859288771784\n",
      "{'alpha': 0.16708850012206938, 'beta': 0.040233977025659694, 'gIa': 0.08354211485560095, 'gIs': 0.15837624238917875, 'fsa': array([0.8, 0.8, 0.8, 0.8])}\n",
      "2.3855268955230713\n"
     ]
    }
   ],
   "source": [
    "# take a guess \n",
    "eps = 1e-4 \n",
    "priors = {\n",
    "    'alpha':{\n",
    "        'mean': 0.3, \n",
    "        'std': 0.2, \n",
    "        'bounds': [eps, 0.8]\n",
    "    }, \n",
    "    'beta':{\n",
    "        'mean': 0.05, \n",
    "        'std': 0.1, \n",
    "        'bounds': [eps, 0.2]\n",
    "    }, \n",
    "    'gIa':{\n",
    "        'mean': 0.1, \n",
    "        'std': 0.2, \n",
    "        'bounds': [eps, 0.6]\n",
    "    }, \n",
    "    'gIs':{\n",
    "        'mean': 0.2, \n",
    "        'std': 0.2, \n",
    "        'bounds': [eps, 0.6]\n",
    "    }\n",
    "}\n",
    "estimator.set_lyapunov_method('euler')\n",
    "start_time = time.time() \n",
    "\n",
    "\n",
    "\n",
    "#old function call: deprecated but still working (as a wrapper of infer)\n",
    "#res = estimator.infer_parameters(x, Tf_initial, contactMatrix, priors, tangent=True, \n",
    "#                                    global_max_iter=20, local_max_iter=400,\n",
    "#                                    cma_population=16, global_atol=1,\n",
    "#                                    ftol=1e-6, verbose=True, cma_random_seed=413788650)\n",
    "res = estimator.infer(x, Tf_initial, priors, contactMatrix=contactMatrix, tangent=True, \n",
    "                                    global_max_iter=20, local_max_iter=400,\n",
    "                                    cma_population=16, global_atol=1,\n",
    "                                    ftol=1e-6, verbose=True, cma_random_seed=413788650)\n",
    "end_time = time.time()\n",
    "\n",
    "print(res['params_dict']) # best guess \n",
    "print(end_time - start_time)"
   ]
  },
  {
   "cell_type": "code",
   "execution_count": 9,
   "metadata": {},
   "outputs": [
    {
     "name": "stdout",
     "output_type": "stream",
     "text": [
      "True parameters:\n",
      "{'alpha': 0.2, 'beta': 0.04, 'gIa': 0.14285714285714285, 'gIs': 0.14285714285714285, 'fsa': 0.8}\n",
      "\n",
      "Inferred parameters:\n",
      "{'alpha': 0.16708850012206938, 'beta': 0.040233977025659694, 'gIa': 0.08354211485560095, 'gIs': 0.15837624238917875, 'fsa': array([0.8, 0.8, 0.8, 0.8])}\n"
     ]
    }
   ],
   "source": [
    "print(\"True parameters:\")\n",
    "print(true_parameters)\n",
    "\n",
    "print(\"\\nInferred parameters:\")\n",
    "print(res['params_dict'])"
   ]
  },
  {
   "cell_type": "markdown",
   "metadata": {},
   "source": [
    "## 3) Infer the change of contact structure"
   ]
  },
  {
   "cell_type": "code",
   "execution_count": 10,
   "metadata": {},
   "outputs": [
    {
     "name": "stdout",
     "output_type": "stream",
     "text": [
      "808767.3036715772\n"
     ]
    }
   ],
   "source": [
    "priors = {\n",
    "    'aW':{\n",
    "        'mean': 0.8, \n",
    "        'std': 0.1, \n",
    "        'bounds': [0.1, 1]\n",
    "    }, \n",
    "    'aS':{\n",
    "        'mean': 0.7,\n",
    "        'std': 0.1, \n",
    "        'bounds': [0.1, 1]\n",
    "    }, \n",
    "    'aO':{\n",
    "        'mean': 0.7, \n",
    "        'std': 0.1, \n",
    "        'bounds': [0.1, 1]\n",
    "    }\n",
    "}\n",
    "\n",
    "x = data['X'].astype('float')\n",
    "x = x[T_intervention+1:]\n",
    "Nf = x.shape[0] \n",
    "Tf = Nf-1 \n",
    "\n",
    "contactMatrix = generator.constant_contactMatrix(aW=aW, aS=aS, aO=aO)\n",
    "\n",
    "# compute -log_p for the initial guess (for the moment, use correct parameters)\n",
    "logp = estimator.obtain_minus_log_p(parameters, x, Tf, contactMatrix)\n",
    "print(logp) "
   ]
  },
  {
   "cell_type": "code",
   "execution_count": 11,
   "metadata": {},
   "outputs": [
    {
     "name": "stdout",
     "output_type": "stream",
     "text": [
      "Starting global minimisation...\n",
      "(8_w,16)-aCMA-ES (mu_w=4.8,w_1=32%) in dimension 3 (seed=1266266794, Sat Jul 25 17:00:43 2020)\n",
      "Iterat #Fevals   function value  axis ratio  sigma  min&max std  t[m:s]\n",
      "    1     16 5.496985407505587e+05 1.0e+00 8.57e-01  7e-02  8e-02 0:00.1\n",
      "    2     32 5.370759532482162e+05 1.4e+00 6.47e-01  5e-02  6e-02 0:00.2\n",
      "    3     48 5.335590596864047e+05 1.8e+00 4.89e-01  3e-02  3e-02 0:00.3\n",
      "Global optimisation: Maximum number of iterations reached.\n",
      "Optimal value (global minimisation):  528537.5129068784\n",
      "Starting local minimisation...\n",
      "Optimal value (local minimisation):  528537.5043153893\n",
      "{'aW': 0.804296015457644, 'aS': 0.7052877522429492, 'aO': 0.7026634679416359}\n",
      "2.8672173023223877\n"
     ]
    }
   ],
   "source": [
    "eps = 1e-3 \n",
    "start_time = time.time() \n",
    "\n",
    "best_estimates = res['params_dict']\n",
    "estimator.set_params(best_estimates)\n",
    "estimator.set_det_model(best_estimates)\n",
    "# estimator.set_det_method('LSODA') # slower but performs better for exponential decay (near the end of the pandemic)\n",
    "#old function call: deprecated but still working (as a wrapper of infer)\n",
    "#res = estimator.infer_control(x, Tf, generator, priors, \n",
    "#                                         tangent=True, verbose=True, \n",
    "#                                         global_max_iter=20, cma_random_seed=1266266794)\n",
    "res = estimator.infer(x, Tf, priors, generator=generator,\n",
    "                                         tangent=True, verbose=True, \n",
    "                                         global_max_iter=20, cma_random_seed=1266266794)\n",
    "\n",
    "end_time = time.time()\n",
    "\n",
    "print(res['control_params_dict']) \n",
    "print(end_time - start_time)"
   ]
  },
  {
   "cell_type": "code",
   "execution_count": 12,
   "metadata": {},
   "outputs": [
    {
     "name": "stdout",
     "output_type": "stream",
     "text": [
      "True lockdown factors:\n",
      "[0.8, 0.7, 0.7]\n",
      "\n",
      "Inferred lockdown factors:\n",
      "{'aW': 0.804296015457644, 'aS': 0.7052877522429492, 'aO': 0.7026634679416359}\n"
     ]
    }
   ],
   "source": [
    "print(\"True lockdown factors:\")\n",
    "print([aW, aS, aO])\n",
    "\n",
    "print(\"\\nInferred lockdown factors:\")\n",
    "print(res['control_params_dict'])"
   ]
  },
  {
   "cell_type": "code",
   "execution_count": 13,
   "metadata": {},
   "outputs": [
    {
     "data": {
      "image/png": "[encoded data removed]",
      "text/plain": [
       "<Figure size 432x288 with 1 Axes>"
      ]
     },
     "metadata": {
      "needs_background": "light"
     },
     "output_type": "display_data"
    }
   ],
   "source": [
    "times = [T_intervention]\n",
    "interventions = [[1.0,1.0,1.0],      # before first time\n",
    "                 res['flat_params'],       # after first time\n",
    "                ]         \n",
    "\n",
    "# compare the true trajectory with the \n",
    "contactMatrix = generator.interventions_temporal(times=times,interventions=interventions)\n",
    "estimator.set_det_model(parameters)\n",
    "estimator.set_contact_matrix(contactMatrix)\n",
    "x = data['X'].astype('float')\n",
    "estimator.set_det_method('LSODA') # setting deterministic integration to be LSODA \n",
    "x_det_control = estimator.integrate(x[T_intervention], T_intervention, Tf+T_intervention, Nf)\n",
    "plt.plot(np.sum(x[:,M:2*M], axis=1), label='Ia')\n",
    "plt.plot(np.linspace(T_intervention, Tf+T_intervention, Nf), np.sum(x_det_control[:, M:2*M], axis=1), label='Inferred Ia')\n",
    "plt.plot(np.sum(x[:,2*M:3*M], axis=1), label='Is')\n",
    "plt.plot(np.linspace(T_intervention, Tf+T_intervention, Nf), np.sum(x_det_control[:, 2*M:3*M], axis=1), label='Inferred Is')\n",
    "plt.axvspan(0, T_intervention, \n",
    "           label='Pre intervention',\n",
    "           alpha=0.3, color='dodgerblue')\n",
    "plt.xlim([0, Tf+T_intervention])\n",
    "plt.legend()\n",
    "plt.show()"
   ]
  },
  {
   "cell_type": "markdown",
   "metadata": {},
   "source": [
    "## 4) Now, instead of assuming a step-function like change at T_intervention, allow for anticipation time and reaction time \n",
    "\n",
    "For this, we make use of the `intervention_custom_temporal` function in the contactMatrix module. First we need to define our intervention function. We use a tanh to represent anticipation and reaction, and parameterise it with four parameters: \n",
    "\n",
    "* width: the width of the tanh profile \n",
    "* loc: the location of the interface of the tanh \n",
    "* aW_f: the final aW_f of the lockdown \n",
    "* aS_f: the final aS_f of the lockdown \n",
    "* aO_f: the fianl aO_f of the lockdown "
   ]
  },
  {
   "cell_type": "code",
   "execution_count": 14,
   "metadata": {},
   "outputs": [
    {
     "data": {
      "image/png": "[encoded data removed]",
      "text/plain": [
       "<Figure size 432x288 with 1 Axes>"
      ]
     },
     "metadata": {
      "needs_background": "light"
     },
     "output_type": "display_data"
    }
   ],
   "source": [
    "def approx_tanh(t, width, loc):\n",
    "    cond1 = (t < loc-width/2)\n",
    "    cond2 = (t >= loc+width/2)\n",
    "    cond3 = np.logical_and((t < loc+width/2), (t >= loc-width/2))\n",
    "    cond_list = [cond1, cond2, cond3]\n",
    "    fun_list = [-1, 1, lambda t: 2*(t-loc)/width]\n",
    "    return np.piecewise(t, cond_list, fun_list)\n",
    "    \n",
    "def intervention_fun(t, M, width=1, loc=0, aW_f=0, aS_f=0, aO_f=0):\n",
    "    aW = (1-approx_tanh(t, width, loc))/2*(1-aW_f) + aW_f\n",
    "    aS = (1-approx_tanh(t, width, loc))/2*(1-aS_f) + aS_f\n",
    "    aO = (1-approx_tanh(t, width, loc))/2*(1-aO_f) + aO_f\n",
    "    aW_full = np.full((2, M), aW) # must return the full (2, M) array \n",
    "    aS_full = np.full((2, M), aS)\n",
    "    aO_full = np.full((2, M), aO)\n",
    "    return aW_full, aS_full, aO_full\n",
    "\n",
    "aW_f = 0.8 \n",
    "aS_f = 0.7\n",
    "aO_f = 0.7\n",
    "\n",
    "\n",
    "# plot aW as a function of t \n",
    "width = 10\n",
    "loc = T_intervention \n",
    "time_points = np.linspace(0, 100, 1001)\n",
    "aW_time_series = np.empty((1001,), dtype='float')\n",
    "for (i, t) in enumerate(time_points): \n",
    "    aW_time_series[i] = intervention_fun(t, 4, width, loc, aW_f, aS_f, aO_f)[0][0, 0]\n",
    "plt.plot(time_points, aW_time_series)\n",
    "plt.show()"
   ]
  },
  {
   "cell_type": "code",
   "execution_count": 15,
   "metadata": {},
   "outputs": [],
   "source": [
    "contactMatrix = generator.intervention_custom_temporal(intervention_fun, \n",
    "                                                       width=width, loc=loc, \n",
    "                                                       aW_f=aW_f, aS_f=aS_f, aO_f=aO_f)\n",
    "\n",
    "# initial conditions    \n",
    "Is_0 = np.ones(M)*20\n",
    "Is_0[1] += 10  #make one group different \n",
    "Ia_0 = np.zeros((M))*2\n",
    "Ia_0[1] += 2 \n",
    "R_0  = np.zeros((M))\n",
    "S_0  = Ni - (Ia_0 + Is_0 + R_0)\n",
    "\n",
    "# start simulation\n",
    "Tf=100;  Nf=Tf+1 \n",
    "data=model.simulate(S_0, Ia_0, Is_0, contactMatrix, Tf, Nf, method='tau-leaping')"
   ]
  },
  {
   "cell_type": "code",
   "execution_count": 16,
   "metadata": {},
   "outputs": [
    {
     "data": {
      "image/png": "[encoded data removed]",
      "text/plain": [
       "<Figure size 432x288 with 1 Axes>"
      ]
     },
     "metadata": {
      "needs_background": "light"
     },
     "output_type": "display_data"
    }
   ],
   "source": [
    "# plot simulation\n",
    "IC  = np.zeros((Nf))\n",
    "for i in range(M):\n",
    "        IC += data['X'][:,2*M+i] \n",
    "t = data['t']\n",
    "plt.plot(t, IC)\n",
    "plt.axvspan(0, T_intervention, \n",
    "           label='Pre intervention',\n",
    "           alpha=0.3, color='dodgerblue')\n",
    "plt.show() "
   ]
  },
  {
   "cell_type": "markdown",
   "metadata": {},
   "source": [
    "### For this part, we use simultaneous inference of model parameters and control parameters"
   ]
  },
  {
   "cell_type": "code",
   "execution_count": 17,
   "metadata": {},
   "outputs": [
    {
     "name": "stdout",
     "output_type": "stream",
     "text": [
      "9184.384347324341\n"
     ]
    }
   ],
   "source": [
    "x = data['X'].astype('float')\n",
    "x = x[:60]\n",
    "Nf = x.shape[0] \n",
    "Tf = Nf-1 \n",
    "\n",
    "contactMatrix = generator.intervention_custom_temporal(intervention_fun, \n",
    "                                                       width=width, loc=loc, \n",
    "                                                       aW_f=aW_f, aS_f=aS_f, aO_f=aO_f)\n",
    "\n",
    "# compute -log_p \n",
    "\n",
    "estimator = pyross.inference.SIR(parameters, M, Ni)\n",
    "logp = estimator.obtain_minus_log_p(parameters, x, Tf, contactMatrix)\n",
    "print(logp) "
   ]
  },
  {
   "cell_type": "code",
   "execution_count": 18,
   "metadata": {},
   "outputs": [
    {
     "name": "stdout",
     "output_type": "stream",
     "text": [
      "Starting global minimisation...\n",
      "(8_w,16)-aCMA-ES (mu_w=4.8,w_1=32%) in dimension 9 (seed=1953449819, Sat Jul 25 17:00:48 2020)\n",
      "Iterat #Fevals   function value  axis ratio  sigma  min&max std  t[m:s]\n",
      "    1     16 1.364740464870922e+05 1.0e+00 8.34e-01  5e-02  8e+00 0:00.7\n",
      "    2     32 2.723531347696462e+05 1.3e+00 8.15e-01  5e-02  8e+00 0:01.4\n",
      "    3     48 3.208772559855519e+05 1.4e+00 8.07e-01  4e-02  8e+00 0:02.1\n",
      "    8    128 1.369264751237505e+05 1.9e+00 6.81e-01  3e-02  6e+00 0:05.5\n",
      "   15    240 3.763390467844751e+04 3.7e+00 4.77e-01  1e-02  4e+00 0:09.8\n",
      "   23    368 2.450015730667870e+04 5.8e+00 3.16e-01  5e-03  3e+00 0:14.9\n",
      "   33    528 1.256951629720725e+04 9.7e+00 2.03e-01  3e-03  2e+00 0:21.1\n",
      "   46    736 1.023609394935213e+04 1.9e+01 1.03e-01  9e-04  8e-01 0:28.6\n",
      "   59    944 9.939127724884311e+03 2.8e+01 5.46e-02  4e-04  4e-01 0:36.8\n",
      "   70   1120 9.616002509919212e+03 4.3e+01 9.22e-02  5e-04  8e-01 0:46.1\n",
      "   82   1312 9.503087958686436e+03 6.5e+01 5.83e-02  4e-04  5e-01 0:56.8\n",
      "   96   1536 9.444353981314609e+03 9.2e+01 4.91e-02  3e-04  4e-01 1:07.8\n",
      "  100   1600 9.440775723962626e+03 1.0e+02 3.47e-02  2e-04  3e-01 1:10.8\n",
      "Global optimisation: Maximum number of iterations reached.\n",
      "Optimal value (global minimisation):  9440.775723962626\n",
      "Starting local minimisation...\n",
      "Optimal value (local minimisation):  9436.245127417067\n",
      "84.49827909469604\n"
     ]
    }
   ],
   "source": [
    "priors = {\n",
    "    'alpha':{\n",
    "        'mean': 0.3, \n",
    "        'std': 0.2, \n",
    "        'bounds': [eps, 0.8]\n",
    "    }, \n",
    "    'beta':{\n",
    "        'mean': 0.05, \n",
    "        'std': 0.1, \n",
    "        'bounds': [eps, 0.2]\n",
    "    }, \n",
    "    'gIa':{\n",
    "        'mean': 0.1, \n",
    "        'std': 0.2, \n",
    "        'bounds': [eps, 0.6]\n",
    "    }, \n",
    "    'gIs':{\n",
    "        'mean': 0.2, \n",
    "        'std': 0.2, \n",
    "        'bounds': [eps, 0.6]\n",
    "    },\n",
    "    'width':{\n",
    "        'mean': 10,\n",
    "        'std': 5, \n",
    "        'bounds': [1e-3, 40]\n",
    "    }, \n",
    "    'loc':{\n",
    "        'mean': 35, \n",
    "        'std': 10, \n",
    "        'bounds': [1e-3, 100]\n",
    "    }, \n",
    "    'aW_f':{\n",
    "        'mean': 0.8, \n",
    "        'std': 0.2, \n",
    "        'bounds': [0.1, 1.0]\n",
    "    }, \n",
    "    'aS_f':{\n",
    "        'mean': 0.7, \n",
    "        'std': 0.1, \n",
    "        'bounds': [0.1, 1.0]\n",
    "    }, \n",
    "    'aO_f':{\n",
    "        'mean': 0.7, \n",
    "        'std': 0.1, \n",
    "        'bounds': [0.1, 1.0]\n",
    "    }\n",
    "}\n",
    "\n",
    "start_time = time.time() \n",
    "estimator.set_det_method('LSODA') # slower but performs better for exponential decay (near the end of the pandemic)\n",
    "estimator.set_lyapunov_method('euler') # fast integration method for lyapunov\n",
    "res = estimator.infer(x, Tf, priors, generator=generator,\n",
    "                             intervention_fun=intervention_fun, tangent=False,\n",
    "                             verbose=True, cma_random_seed=1953449819)\n",
    "end_time = time.time()\n",
    "\n",
    "\n",
    "\n",
    "print(end_time - start_time)"
   ]
  },
  {
   "cell_type": "code",
   "execution_count": 19,
   "metadata": {},
   "outputs": [
    {
     "name": "stdout",
     "output_type": "stream",
     "text": [
      "True model parameters:\n",
      "{'alpha': 0.2, 'beta': 0.04, 'gIa': 0.14285714285714285, 'gIs': 0.14285714285714285, 'fsa': 0.8}\n",
      "Inferred model parameters:\n",
      "{'alpha': 0.19902092897940898, 'beta': 0.03955196566744634, 'gIa': 0.1408685356891959, 'gIs': 0.14194606639718604, 'fsa': array([0.8, 0.8, 0.8, 0.8])}\n",
      "True control parameters:\n",
      "[10, 30, 0.8, 0.7, 0.7]\n",
      "Inferred control parameters:\n",
      "{'width': 10.233804666810922, 'loc': 30.125869123523426, 'aW_f': 0.8004618947418386, 'aS_f': 0.7000002788804587, 'aO_f': 0.7018513663859101}\n"
     ]
    }
   ],
   "source": [
    "print(\"True model parameters:\")\n",
    "print(parameters) \n",
    "print(\"Inferred model parameters:\")\n",
    "print(res['params_dict']) \n",
    "print(\"True control parameters:\")\n",
    "print([width, loc, aW_f, aS_f, aO_f])\n",
    "print(\"Inferred control parameters:\")\n",
    "print(res['control_params_dict'])"
   ]
  },
  {
   "cell_type": "code",
   "execution_count": 20,
   "metadata": {},
   "outputs": [
    {
     "data": {
      "image/png": "[encoded data removed]",
      "text/plain": [
       "<Figure size 800x640 with 1 Axes>"
      ]
     },
     "metadata": {},
     "output_type": "display_data"
    }
   ],
   "source": [
    "# compare the true trajectory with the deterministic solution with MAP parameters\n",
    "Tf = 100 \n",
    "Nf = Tf + 1 \n",
    "\n",
    "\n",
    "inferred_contactMatrix = generator.intervention_custom_temporal(intervention_fun, **res['control_params_dict'])\n",
    "estimator.set_det_model(res['params_dict'])\n",
    "estimator.set_contact_matrix(inferred_contactMatrix)\n",
    "x_true = data['X'][:Nf].astype('float')\n",
    "x_det_control = estimator.integrate(x_true[0], 0, Tf, Nf)\n",
    "fig = plt.figure(num=None, figsize=(10, 8), dpi=80, facecolor='w', edgecolor='k')\n",
    "plt.rcParams.update({'font.size': 12})\n",
    "plt.plot(np.sum(x_true[:,M:2*M], axis=1), label='Ia')\n",
    "plt.plot(np.sum(x_det_control[:, M:2*M], axis=1), label='Inferred Ia')\n",
    "plt.plot(np.sum(x_true[:,2*M:3*M], axis=1), label='Is')\n",
    "plt.plot(np.sum(x_det_control[:, 2*M:3*M], axis=1), label='Inferred Is')\n",
    "plt.axvline(x=T_intervention, label='lockdown time', color='black')\n",
    "plt.axvline(x=res['control_params_dict']['loc'], label='inferred lockdown time', color='red')\n",
    "plt.axvspan(0, 60, \n",
    "           label='used for inference',\n",
    "           alpha=0.3, color='orange')\n",
    "plt.xlim([0, Tf])\n",
    "plt.legend()\n",
    "plt.show()\n",
    "\n"
   ]
  },
  {
   "cell_type": "code",
   "execution_count": null,
   "metadata": {},
   "outputs": [],
   "source": []
  }
 ],
 "metadata": {
  "kernelspec": {
   "display_name": "Python 3",
   "language": "python",
   "name": "python3"
  },
  "language_info": {
   "codemirror_mode": {
    "name": "ipython",
    "version": 3
   },
   "file_extension": ".py",
   "mimetype": "text/x-python",
   "name": "python",
   "nbconvert_exporter": "python",
   "pygments_lexer": "ipython3",
   "version": "3.7.3"
  }
 },
 "nbformat": 4,
 "nbformat_minor": 4
}
