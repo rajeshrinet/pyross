{
 "cells": [
  {
   "cell_type": "code",
   "execution_count": 1,
   "metadata": {},
   "outputs": [],
   "source": [
    "%%capture\n",
    "## compile PyRoss for this notebook\n",
    "import os\n",
    "owd = os.getcwd()\n",
    "os.chdir('../../')\n",
    "%run setup.py install\n",
    "os.chdir(owd)"
   ]
  },
  {
   "cell_type": "code",
   "execution_count": 2,
   "metadata": {},
   "outputs": [],
   "source": [
    "%matplotlib inline\n",
    "import numpy as np\n",
    "import pyross\n",
    "import pandas as pd\n",
    "import time \n",
    "import matplotlib.pyplot as plt\n",
    "from scipy.io import loadmat"
   ]
  },
  {
   "cell_type": "code",
   "execution_count": 3,
   "metadata": {},
   "outputs": [],
   "source": [
    "## population and age classes\n",
    "M=4  ## number of age classes\n",
    "\n",
    "my_data = np.genfromtxt('../data/age_structures/UK.csv', delimiter=',', skip_header=1)\n",
    "aM, aF = my_data[:, 1], my_data[:, 2]\n",
    "\n",
    "Ni0=aM+aF;   Ni=np.zeros((M))\n",
    "\n",
    "# scale the population down to a more manageble level \n",
    "Ni[0] = (np.sum(Ni0[0:4])).astype('int')\n",
    "Ni[1] = (np.sum(Ni0[4:8])).astype('int')\n",
    "Ni[2] = (np.sum(Ni0[8:12])).astype('int')\n",
    "Ni[3] = (np.sum(Ni0[12:16])).astype('int')\n",
    "N=np.sum(Ni)\n",
    "fi = Ni/N \n",
    "\n",
    "# Get individual contact matrices\n",
    "CH0, CW0, CS0, CO0 = pyross.contactMatrix.India()\n",
    "\n",
    "\n",
    "CH = np.zeros((M, M))\n",
    "CW = np.zeros((M, M))\n",
    "CS = np.zeros((M, M))\n",
    "CO = np.zeros((M, M))\n",
    "\n",
    "for i in range(16):\n",
    "    CH0[i,:] = Ni0[i]*CH0[i,:]\n",
    "    CS0[i,:] = Ni0[i]*CS0[i,:]\n",
    "    CW0[i,:] = Ni0[i]*CW0[i,:]\n",
    "    CO0[i,:] = Ni0[i]*CO0[i,:]\n",
    "\n",
    "    \n",
    "for i in range(M):\n",
    "    for j in range(M):\n",
    "        i1, j1 = i*4, j*4\n",
    "        CH[i,j] = np.sum( CH0[i1:i1+4,j1:j1+4]  )/Ni[i]\n",
    "        CW[i,j] = np.sum( CW0[i1:i1+4,j1:j1+4]  )/Ni[i]\n",
    "        CS[i,j] = np.sum( CS0[i1:i1+4,j1:j1+4]  )/Ni[i]\n",
    "        CO[i,j] = np.sum( CO0[i1:i1+4,j1:j1+4]  )/Ni[i]\n",
    "        \n",
    "N = N/5e2\n",
    "Ni = Ni/5e2"
   ]
  },
  {
   "cell_type": "code",
   "execution_count": 4,
   "metadata": {},
   "outputs": [],
   "source": [
    "# Generate class with contact matrix for SIR model with UK contact structure\n",
    "generator = pyross.contactMatrix.SIR(CH, CW, CS, CO)"
   ]
  },
  {
   "cell_type": "code",
   "execution_count": 13,
   "metadata": {},
   "outputs": [],
   "source": [
    "times= [20] # temporal boundaries between different contact-behaviour\n",
    "\n",
    "aW, aS, aO = 0.5, 0.6, 0.6\n",
    "\n",
    "# prefactors for CW, CS, CO:\n",
    "interventions = [[1.0,1.0,1.0],      # before first time\n",
    "                 [aW, aS, aO],       # after first time\n",
    "                ]         \n",
    "\n",
    "# generate corresponding contact matrix function\n",
    "C = generator.interventions_temporal(times=times,interventions=interventions)"
   ]
  },
  {
   "cell_type": "code",
   "execution_count": 14,
   "metadata": {},
   "outputs": [],
   "source": [
    "beta  = 0.02      # contact rate parameter\n",
    "gIa   = 1./7            # recovery rate of asymptomatic infectives \n",
    "gIs   = 1./7            # recovery rate of symptomatic infectives \n",
    "alpha = 0.2              # asymptomatic fraction\n",
    "fsa   = 0.8               # suppresion of contact by symptomatics\n",
    "\n",
    "\n",
    "# initial conditions    \n",
    "Is_0 = np.ones(M)*20\n",
    "Is_0[1] += 10 #make one group different \n",
    "Ia_0 = np.zeros((M))*2\n",
    "Ia_0[1] += 2 \n",
    "R_0  = np.zeros((M))\n",
    "S_0  = Ni - (Ia_0 + Is_0 + R_0)\n",
    "\n",
    "\n",
    "parameters = {'alpha':alpha,'beta':beta, 'gIa':gIa,'gIs':gIs,'fsa':fsa}\n",
    "model = pyross.stochastic.SIR(parameters, M, Ni)\n",
    "\n",
    "# start simulation\n",
    "Tf=100;  Nf=Tf+1 \n",
    "data=model.simulate(S_0, Ia_0, Is_0, C, Tf, Nf)"
   ]
  },
  {
   "cell_type": "code",
   "execution_count": 15,
   "metadata": {
    "scrolled": true
   },
   "outputs": [
    {
     "data": {
      "image/png": "[encoded data removed]",
      "text/plain": [
       "<Figure size 432x288 with 1 Axes>"
      ]
     },
     "metadata": {
      "needs_background": "light"
     },
     "output_type": "display_data"
    }
   ],
   "source": [
    "IC  = np.zeros((Nf))\n",
    "for i in range(M):\n",
    "        IC += data['X'][:,2*M+i] \n",
    "t = data['t']\n",
    "plt.plot(t, IC)\n",
    "plt.show() "
   ]
  },
  {
   "cell_type": "code",
   "execution_count": 8,
   "metadata": {
    "scrolled": false
   },
   "outputs": [
    {
     "name": "stdout",
     "output_type": "stream",
     "text": [
      "-2210.680756710173\n",
      "0.2047739028930664\n"
     ]
    },
    {
     "data": {
      "image/png": "[encoded data removed]",
      "text/plain": [
       "<Figure size 432x288 with 1 Axes>"
      ]
     },
     "metadata": {
      "needs_background": "light"
     },
     "output_type": "display_data"
    }
   ],
   "source": [
    "Tf = 20 # truncate to only getting the first few datapoints \n",
    "Nf = Tf+1\n",
    "\n",
    "x = data['X']\n",
    "x = (x/N)[:Nf]\n",
    "steps = 101 # number internal integration steps taken, must be an odd number \n",
    "\n",
    "\n",
    "# initialise the estimator \n",
    "estimator = pyross.inference.SIR(parameters, M, fi, int(N), steps)\n",
    "\n",
    "# compute -log_p for the original (correct) parameters \n",
    "start_time = time.time() \n",
    "parameters = {'alpha':alpha, 'beta':beta, 'gIa':gIa, 'gIs':gIs,'fsa':fsa}\n",
    "logp = estimator.obtain_minus_log_p(parameters, x, Tf, Nf, generator.constant_CM)\n",
    "end_time = time.time()\n",
    "print(logp) \n",
    "print(end_time - start_time)\n",
    "\n",
    "plt.plot(x[:, M])\n",
    "plt.show()"
   ]
  },
  {
   "cell_type": "code",
   "execution_count": 11,
   "metadata": {
    "scrolled": true
   },
   "outputs": [
    {
     "name": "stdout",
     "output_type": "stream",
     "text": [
      "Starting global minimisation...\n",
      "(8_w,16)-aCMA-ES (mu_w=4.8,w_1=32%) in dimension 4 (seed=348132, Thu Apr 30 21:00:07 2020)\n",
      "Iterat #Fevals   function value  axis ratio  sigma  min&max std  t[m:s]\n",
      "    1     16 -1.805345233315257e+03 1.0e+00 1.28e+00  2e-02  5e-02 0:02.1\n",
      "    2     32 -2.026324832418569e+03 1.4e+00 1.82e+00  3e-02  6e-02 0:04.0\n",
      "    3     48 -2.184942002890409e+03 1.4e+00 2.84e+00  5e-02  1e-01 0:05.8\n",
      "    5     80 -2.044970695193571e+03 1.9e+00 3.44e+00  5e-02  1e-01 0:09.0\n",
      "    8    128 -2.186790311927738e+03 2.2e+00 2.82e+00  3e-02  1e-01 0:14.1\n",
      "   11    176 -2.201181715732938e+03 4.2e+00 2.84e+00  1e-02  1e-01 0:19.2\n",
      "   16    256 -2.215939284466798e+03 8.9e+00 1.95e+00  7e-03  9e-02 0:26.4\n",
      "   21    336 -2.218595325023597e+03 1.1e+01 1.13e+00  2e-03  4e-02 0:33.5\n",
      "   27    432 -2.220165985387080e+03 1.3e+01 4.79e-01  6e-04  1e-02 0:42.3\n",
      "   33    528 -2.220231783469782e+03 1.1e+01 1.95e-01  1e-04  3e-03 0:51.3\n",
      "   39    624 -2.220231574379488e+03 9.2e+00 8.95e-02  5e-05  6e-04 0:59.7\n",
      "Optimal value (global minimisation):  -2220.232122527608\n",
      "Starting local minimisation...\n",
      "Optimal value (local minimisation):  -2220.2322015602463\n",
      "[0.18413038 0.02030601 0.14380054 0.13925124]\n",
      "65.25039792060852\n"
     ]
    }
   ],
   "source": [
    "# take a guess \n",
    "eps = 1e-4 # step used to calculate hessian in the optimisation algorithm \n",
    "alpha_g = 0.2\n",
    "alpha_std = 0.1 \n",
    "alpha_bounds = (eps, 1-2*eps)\n",
    "# the bound for alpha must be 1-2*eps to avoid alpha>1 in hessian calculation performed by optimizer \n",
    "\n",
    "beta_g = 0.04\n",
    "beta_std = 0.05 \n",
    "beta_bounds = (eps, 1)\n",
    "\n",
    "gIa_g = 0.145\n",
    "gIa_std = 0.1 \n",
    "gIa_bounds = (eps, 1)\n",
    "\n",
    "gIs_g = 0.145\n",
    "gIs_std = 0.1 \n",
    "gIs_bounds = (eps, 1) \n",
    "\n",
    "guess = np.array([alpha_g, beta_g, gIa_g, gIs_g])\n",
    "stds = np.array([alpha_std, beta_std, gIa_std, gIs_std])\n",
    "bounds = np.array([alpha_bounds, beta_bounds, gIa_bounds, gIs_bounds])\n",
    "\n",
    "start_time = time.time() \n",
    "params = estimator.inference(guess, stds, x, Tf, Nf, generator.constant_CM, beta_rescale=5,\n",
    "                                  niter=4, bounds=bounds, \n",
    "                                  eps=eps, verbose=True)\n",
    "# sometimes produce errors if input is bad, ignore and let basinhopping do its magic\n",
    "end_time = time.time()\n",
    "print(params) # best guess \n",
    "print(end_time - start_time)"
   ]
  },
  {
   "cell_type": "code",
   "execution_count": 12,
   "metadata": {},
   "outputs": [
    {
     "ename": "NameError",
     "evalue": "name 'aW' is not defined",
     "output_type": "error",
     "traceback": [
      "\u001b[0;31m---------------------------------------------------------------------------\u001b[0m",
      "\u001b[0;31mNameError\u001b[0m                                 Traceback (most recent call last)",
      "\u001b[0;32m<ipython-input-12-46d6658dbbd1>\u001b[0m in \u001b[0;36m<module>\u001b[0;34m\u001b[0m\n\u001b[1;32m     14\u001b[0m \u001b[0;34m\u001b[0m\u001b[0m\n\u001b[1;32m     15\u001b[0m \u001b[0mtimes\u001b[0m \u001b[0;34m=\u001b[0m \u001b[0;34m[\u001b[0m\u001b[0mTf\u001b[0m\u001b[0;34m+\u001b[0m\u001b[0;36m1\u001b[0m\u001b[0;34m]\u001b[0m\u001b[0;34m\u001b[0m\u001b[0;34m\u001b[0m\u001b[0m\n\u001b[0;32m---> 16\u001b[0;31m \u001b[0minterventions\u001b[0m \u001b[0;34m=\u001b[0m \u001b[0;34m[\u001b[0m\u001b[0;34m[\u001b[0m\u001b[0maW\u001b[0m\u001b[0;34m,\u001b[0m \u001b[0maS\u001b[0m\u001b[0;34m,\u001b[0m \u001b[0maO\u001b[0m\u001b[0;34m]\u001b[0m\u001b[0;34m]\u001b[0m\u001b[0;34m\u001b[0m\u001b[0;34m\u001b[0m\u001b[0m\n\u001b[0m\u001b[1;32m     17\u001b[0m \u001b[0mcontactMatrix\u001b[0m \u001b[0;34m=\u001b[0m \u001b[0mgenerator\u001b[0m\u001b[0;34m.\u001b[0m\u001b[0minterventions_temporal\u001b[0m\u001b[0;34m(\u001b[0m\u001b[0mtimes\u001b[0m\u001b[0;34m=\u001b[0m\u001b[0mtimes\u001b[0m\u001b[0;34m,\u001b[0m\u001b[0minterventions\u001b[0m\u001b[0;34m=\u001b[0m\u001b[0minterventions\u001b[0m\u001b[0;34m)\u001b[0m\u001b[0;34m\u001b[0m\u001b[0;34m\u001b[0m\u001b[0m\n\u001b[1;32m     18\u001b[0m \u001b[0;34m\u001b[0m\u001b[0m\n",
      "\u001b[0;31mNameError\u001b[0m: name 'aW' is not defined"
     ]
    }
   ],
   "source": [
    "aW_g = 0.5 \n",
    "aW_bounds = [0.1, 0.8]\n",
    "aS_g = 0.5\n",
    "aS_bounds = [0.1, 0.8]\n",
    "aO_g = 0.5\n",
    "aO_bounds = [0.1, 0.8]\n",
    "guess = np.array([aW_g, aS_g, aO_g])\n",
    "bounds = np.array([aW_bounds, aS_bounds, aO_bounds])\n",
    "\n",
    "x = data['X']/N\n",
    "x = x[22:]\n",
    "Nf = x.shape[0] \n",
    "Tf = Nf-1 \n",
    "\n",
    "times = [Tf+1]\n",
    "interventions = [[aW, aS, aO]]\n",
    "contactMatrix = generator.interventions_temporal(times=times,interventions=interventions)\n",
    "\n",
    "# compute -log_p for the initial guess (for the moment, use correct parameters)\n",
    "logp = estimator.obtain_minus_log_p(parameters, x, Tf, Nf, contactMatrix)\n",
    "print(logp) "
   ]
  },
  {
   "cell_type": "code",
   "execution_count": 12,
   "metadata": {
    "scrolled": true
   },
   "outputs": [
    {
     "name": "stdout",
     "output_type": "stream",
     "text": [
      "parameters: [0.60145273 0.60145273 0.60145273]\n",
      "parameters: [0.59483025 0.60059908 0.6002705 ]\n",
      "parameters: [0.56821742 0.60181734 0.60034549]\n",
      "parameters: [0.54590317 0.60584039 0.60506766]\n",
      "parameters: [0.53365497 0.60480325 0.61311517]\n",
      "parameters: [0.53123922 0.60274578 0.61617752]\n",
      "parameters: [0.52893712 0.59875756 0.61974058]\n",
      "parameters: [0.52390531 0.58802349 0.62730637]\n",
      "parameters: [0.51783579 0.57346979 0.63564774]\n",
      "parameters: [0.5152576  0.56587399 0.63846203]\n",
      "warning: basinhopping: local minimization failure\n",
      "basinhopping step 0: f -2935.41\n",
      "parameters: [0.42870566 0.52742992 0.61399739]\n",
      "parameters: [0.46284837 0.56415368 0.65986096]\n",
      "parameters: [0.46383371 0.55945257 0.65549303]\n",
      "parameters: [0.47004467 0.55492619 0.6526796 ]\n",
      "parameters: [0.48778195 0.54745789 0.64973355]\n",
      "parameters: [0.50373589 0.54544405 0.64964117]\n",
      "parameters: [0.50704554 0.54693246 0.64955576]\n",
      "parameters: [0.50785925 0.54809183 0.64924027]\n",
      "parameters: [0.50923929 0.55070596 0.64811382]\n",
      "parameters: [0.51186721 0.55614    0.64516519]\n",
      "parameters: [0.51521867 0.56335346 0.64046794]\n",
      "parameters: [0.51561592 0.56430365 0.63965053]\n",
      "basinhopping step 1: f -2935.41 trial_f -2935.41 accepted 1  lowest_f -2935.41\n",
      "found new global minimum on step 1 with function value -2935.41\n",
      "parameters: [0.44655525 0.57039144 0.65506895]\n",
      "parameters: [0.45183418 0.56727635 0.65382354]\n",
      "parameters: [0.50190852 0.54642096 0.64919806]\n",
      "parameters: [0.50710547 0.54887035 0.64858731]\n",
      "parameters: [0.5089982  0.55050015 0.64783649]\n",
      "parameters: [0.51131141 0.55350456 0.64613803]\n",
      "parameters: [0.51503483 0.56009128 0.64204206]\n",
      "parameters: [0.51662172 0.5658921  0.63786634]\n",
      "basinhopping step 2: f -2935.4 trial_f -2935.4 accepted 1  lowest_f -2935.41\n",
      "[0.51561592 0.56430365 0.63965053]\n",
      "2\n",
      "209.94502806663513\n"
     ]
    }
   ],
   "source": [
    "eps = 1e-3 \n",
    "start_time = time.time() \n",
    "\n",
    "parameters = estimator.make_params_dict(params)\n",
    "estimator.set_params(parameters) \n",
    "params, nit = estimator.infer_control(guess, x, Tf, Nf, generator, bounds,\n",
    "                                  niter=2, eps=eps, verbose=True)\n",
    "# sometimes produce errors if input is bad, ignore and let basinhopping do its magic\n",
    "end_time = time.time()\n",
    "print(params) # best guess \n",
    "print(nit) # number of iterations of the optimization run \n",
    "print(end_time - start_time)"
   ]
  },
  {
   "cell_type": "code",
   "execution_count": null,
   "metadata": {},
   "outputs": [],
   "source": []
  }
 ],
 "metadata": {
  "kernelspec": {
   "display_name": "Python 3",
   "language": "python",
   "name": "python3"
  },
  "language_info": {
   "codemirror_mode": {
    "name": "ipython",
    "version": 3
   },
   "file_extension": ".py",
   "mimetype": "text/x-python",
   "name": "python",
   "nbconvert_exporter": "python",
   "pygments_lexer": "ipython3",
   "version": "3.7.6"
  }
 },
 "nbformat": 4,
 "nbformat_minor": 4
}
