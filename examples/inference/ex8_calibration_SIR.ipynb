{
 "cells": [
  {
   "cell_type": "code",
   "execution_count": 1,
   "metadata": {},
   "outputs": [],
   "source": [
    "%%capture\n",
    "## compile PyRoss for this notebook\n",
    "import os\n",
    "owd = os.getcwd()\n",
    "os.chdir('../../')\n",
    "%run setup.py install\n",
    "os.chdir(owd)"
   ]
  },
  {
   "cell_type": "code",
   "execution_count": 1,
   "metadata": {},
   "outputs": [],
   "source": [
    "%matplotlib inline\n",
    "import numpy as np\n",
    "import pyross\n",
    "import pandas as pd\n",
    "import time \n",
    "import matplotlib.pyplot as plt\n",
    "from scipy.io import loadmat"
   ]
  },
  {
   "cell_type": "code",
   "execution_count": 2,
   "metadata": {},
   "outputs": [],
   "source": [
    "## population and age classes\n",
    "M=4  ## number of age classes\n",
    "\n",
    "my_data = np.genfromtxt('../data/age_structures/UK.csv', delimiter=',', skip_header=1)\n",
    "aM, aF = my_data[:, 1], my_data[:, 2]\n",
    "\n",
    "Ni0=aM+aF;   Ni=np.zeros((M))\n",
    "\n",
    "# scale the population down to a more manageble level \n",
    "Ni[0] = (np.sum(Ni0[0:4])).astype('int')\n",
    "Ni[1] = (np.sum(Ni0[4:8])).astype('int')\n",
    "Ni[2] = (np.sum(Ni0[8:12])).astype('int')\n",
    "Ni[3] = (np.sum(Ni0[12:16])).astype('int')\n",
    "N=np.sum(Ni)\n",
    "fi = Ni/N \n",
    "\n",
    "# Get individual contact matrices\n",
    "CH0, CW0, CS0, CO0 = pyross.contactMatrix.India()\n",
    "\n",
    "\n",
    "CH = np.zeros((M, M))\n",
    "CW = np.zeros((M, M))\n",
    "CS = np.zeros((M, M))\n",
    "CO = np.zeros((M, M))\n",
    "\n",
    "for i in range(16):\n",
    "    CH0[i,:] = Ni0[i]*CH0[i,:]\n",
    "    CS0[i,:] = Ni0[i]*CS0[i,:]\n",
    "    CW0[i,:] = Ni0[i]*CW0[i,:]\n",
    "    CO0[i,:] = Ni0[i]*CO0[i,:]\n",
    "\n",
    "    \n",
    "for i in range(M):\n",
    "    for j in range(M):\n",
    "        i1, j1 = i*4, j*4\n",
    "        CH[i,j] = np.sum( CH0[i1:i1+4,j1:j1+4]  )/Ni[i]\n",
    "        CW[i,j] = np.sum( CW0[i1:i1+4,j1:j1+4]  )/Ni[i]\n",
    "        CS[i,j] = np.sum( CS0[i1:i1+4,j1:j1+4]  )/Ni[i]\n",
    "        CO[i,j] = np.sum( CO0[i1:i1+4,j1:j1+4]  )/Ni[i]\n",
    "        \n",
    "N = N/5e2\n",
    "Ni = Ni/5e2"
   ]
  },
  {
   "cell_type": "code",
   "execution_count": 3,
   "metadata": {},
   "outputs": [],
   "source": [
    "# Generate class with contact matrix for SIR model with UK contact structure\n",
    "generator = pyross.contactMatrix.SIR(CH, CW, CS, CO)"
   ]
  },
  {
   "cell_type": "code",
   "execution_count": 4,
   "metadata": {},
   "outputs": [],
   "source": [
    "times= [20] # temporal boundaries between different contact-behaviour\n",
    "\n",
    "aW, aS, aO = 0.5, 0.6, 0.6\n",
    "\n",
    "# prefactors for CW, CS, CO:\n",
    "interventions = [[1.0,1.0,1.0],      # before first time\n",
    "                 [aW, aS, aO],       # after first time\n",
    "                ]         \n",
    "\n",
    "# generate corresponding contact matrix function\n",
    "C = generator.interventions_temporal(times=times,interventions=interventions)"
   ]
  },
  {
   "cell_type": "code",
   "execution_count": 5,
   "metadata": {},
   "outputs": [],
   "source": [
    "beta  = 0.02      # contact rate parameter\n",
    "gIa   = 1./7            # recovery rate of asymptomatic infectives \n",
    "gIs   = 1./7            # recovery rate of symptomatic infectives \n",
    "alpha = 0.2              # asymptomatic fraction\n",
    "fsa   = 0.8               # suppresion of contact by symptomatics\n",
    "\n",
    "\n",
    "# initial conditions    \n",
    "Is_0 = np.ones(M)*20\n",
    "Is_0[1] += 10 #make one group different \n",
    "Ia_0 = np.zeros((M))*2\n",
    "Ia_0[1] += 2 \n",
    "R_0  = np.zeros((M))\n",
    "S_0  = Ni - (Ia_0 + Is_0 + R_0)\n",
    "\n",
    "\n",
    "parameters = {'alpha':alpha,'beta':beta, 'gIa':gIa,'gIs':gIs,'fsa':fsa}\n",
    "model = pyross.stochastic.SIR(parameters, M, Ni)\n",
    "\n",
    "# start simulation\n",
    "Tf=100;  Nf=Tf+1 \n",
    "data=model.simulate(S_0, Ia_0, Is_0, C, Tf, Nf)"
   ]
  },
  {
   "cell_type": "code",
   "execution_count": 6,
   "metadata": {
    "scrolled": true
   },
   "outputs": [
    {
     "data": {
      "image/png": "[encoded data removed]",
      "text/plain": [
       "<Figure size 432x288 with 1 Axes>"
      ]
     },
     "metadata": {
      "needs_background": "light"
     },
     "output_type": "display_data"
    }
   ],
   "source": [
    "IC  = np.zeros((Nf))\n",
    "for i in range(M):\n",
    "        IC += data['X'][:,2*M+i] \n",
    "t = data['t']\n",
    "plt.plot(t, IC)\n",
    "plt.show() "
   ]
  },
  {
   "cell_type": "code",
   "execution_count": 7,
   "metadata": {},
   "outputs": [
    {
     "name": "stdout",
     "output_type": "stream",
     "text": [
      "-2216.229158026227\n",
      "0.27049708366394043\n"
     ]
    },
    {
     "data": {
      "image/png": "[encoded data removed]",
      "text/plain": [
       "<Figure size 432x288 with 1 Axes>"
      ]
     },
     "metadata": {
      "needs_background": "light"
     },
     "output_type": "display_data"
    }
   ],
   "source": [
    "Tf = 20 # truncate to only getting the first few datapoints \n",
    "Nf = Tf+1\n",
    "\n",
    "x = data['X']\n",
    "x = (x/N)[:Nf]\n",
    "steps = 101 # number internal integration steps taken, must be an odd number \n",
    "\n",
    "\n",
    "# initialise the estimator \n",
    "estimator = pyross.inference.SIR(parameters, M, fi, int(N), steps)\n",
    "\n",
    "# compute -log_p for the original (correct) parameters \n",
    "start_time = time.time() \n",
    "parameters = {'alpha':alpha, 'beta':beta, 'gIa':gIa, 'gIs':gIs,'fsa':fsa}\n",
    "logp = estimator.obtain_minus_log_p(parameters, x, Tf, Nf, generator.constant_CM)\n",
    "end_time = time.time()\n",
    "print(logp) \n",
    "print(end_time - start_time)\n",
    "\n",
    "plt.plot(x[:, M])\n",
    "plt.show()"
   ]
  },
  {
   "cell_type": "code",
   "execution_count": 8,
   "metadata": {
    "scrolled": true
   },
   "outputs": [
    {
     "name": "stdout",
     "output_type": "stream",
     "text": [
      "Starting global minimisation...\n",
      "(8_w,16)-aCMA-ES (mu_w=4.8,w_1=32%) in dimension 4 (seed=376683, Thu Apr 30 22:44:06 2020)\n",
      "Iterat #Fevals   function value  axis ratio  sigma  min&max std  t[m:s]\n",
      "    1     16 -1.957638177883944e+03 1.0e+00 1.53e+00  3e-02  6e-02 0:05.3\n",
      "    2     32 -2.130458404491042e+03 1.5e+00 2.12e+00  4e-02  7e-02 0:09.4\n",
      "    3     48 -2.157766088197037e+03 1.5e+00 2.63e+00  4e-02  9e-02 0:13.1\n",
      "    5     80 -2.210341295501822e+03 1.6e+00 2.12e+00  3e-02  7e-02 0:19.6\n",
      "    6     96 -2.198002190277618e+03 1.6e+00 1.84e+00  2e-02  6e-02 0:23.7\n",
      "    8    128 -2.218151083827163e+03 2.3e+00 1.34e+00  1e-02  4e-02 0:30.6\n",
      "   10    160 -2.222584126996514e+03 2.5e+00 7.59e-01  5e-03  2e-02 0:37.1\n",
      "   13    208 -2.223086887406838e+03 4.7e+00 4.90e-01  2e-03  1e-02 0:46.7\n",
      "   16    256 -2.223333208383152e+03 6.2e+00 2.66e-01  7e-04  7e-03 0:55.9\n",
      "   19    304 -2.223500665984354e+03 7.9e+00 2.45e-01  5e-04  7e-03 1:05.2\n",
      "Optimal value (global minimisation):  -2223.5338690764306\n",
      "Starting local minimisation...\n",
      "Optimal value (local minimisation):  -2223.5353077726254\n",
      "[0.18600575 0.02026903 0.12154057 0.14433603]\n",
      "74.29877948760986\n"
     ]
    }
   ],
   "source": [
    "# take a guess \n",
    "eps = 1e-4 # step used to calculate hessian in the optimisation algorithm \n",
    "alpha_g = 0.2\n",
    "alpha_std = 0.1 \n",
    "alpha_bounds = (eps, 1-2*eps)\n",
    "# the bound for alpha must be 1-2*eps to avoid alpha>1 in hessian calculation performed by optimizer \n",
    "\n",
    "beta_g = 0.04\n",
    "beta_std = 0.05 \n",
    "beta_bounds = (eps, 1)\n",
    "\n",
    "gIa_g = 0.145\n",
    "gIa_std = 0.1 \n",
    "gIa_bounds = (eps, 1)\n",
    "\n",
    "gIs_g = 0.145\n",
    "gIs_std = 0.1 \n",
    "gIs_bounds = (eps, 1) \n",
    "\n",
    "guess = np.array([alpha_g, beta_g, gIa_g, gIs_g])\n",
    "stds = np.array([alpha_std, beta_std, gIa_std, gIs_std])\n",
    "bounds = np.array([alpha_bounds, beta_bounds, gIa_bounds, gIs_bounds])\n",
    "\n",
    "start_time = time.time() \n",
    "params = estimator.inference(guess, stds, x, Tf, Nf, generator.constant_CM, beta_rescale=5,\n",
    "                                  bounds=bounds, global_max_iter=20,\n",
    "                                  eps=eps, verbose=True)\n",
    "# sometimes produce errors if input is bad, ignore and let basinhopping do its magic\n",
    "end_time = time.time()\n",
    "print(params) # best guess \n",
    "print(end_time - start_time)"
   ]
  },
  {
   "cell_type": "code",
   "execution_count": 14,
   "metadata": {},
   "outputs": [
    {
     "name": "stdout",
     "output_type": "stream",
     "text": [
      "-7631.267753580091\n"
     ]
    }
   ],
   "source": [
    "aW_g = 0.5 \n",
    "aW_bounds = [0.1, 0.8]\n",
    "aS_g = 0.5\n",
    "aS_bounds = [0.1, 0.8]\n",
    "aO_g = 0.5\n",
    "aO_bounds = [0.1, 0.8]\n",
    "guess = np.array([aW_g, aS_g, aO_g])\n",
    "bounds = np.array([aW_bounds, aS_bounds, aO_bounds])\n",
    "stds = np.array([0.1, 0.2, 0.15])\n",
    "\n",
    "x = data['X']/N\n",
    "x = x[22:]\n",
    "Nf = x.shape[0] \n",
    "Tf = Nf-1 \n",
    "\n",
    "times = [Tf+1]\n",
    "interventions = [[aW, aS, aO]]\n",
    "contactMatrix = generator.interventions_temporal(times=times,interventions=interventions)\n",
    "\n",
    "# compute -log_p for the initial guess (for the moment, use correct parameters)\n",
    "logp = estimator.obtain_minus_log_p(parameters, x, Tf, Nf, contactMatrix)\n",
    "print(logp) "
   ]
  },
  {
   "cell_type": "code",
   "execution_count": 16,
   "metadata": {
    "scrolled": true
   },
   "outputs": [
    {
     "name": "stdout",
     "output_type": "stream",
     "text": [
      "Starting global minimisation...\n",
      "(8_w,16)-aCMA-ES (mu_w=4.8,w_1=32%) in dimension 3 (seed=396831, Thu Apr 30 22:55:51 2020)\n",
      "Iterat #Fevals   function value  axis ratio  sigma  min&max std  t[m:s]\n",
      "    1     16 -7.621974423551511e+03 1.0e+00 1.11e+00  1e-01  1e-01 0:12.8\n",
      "    2     32 -7.624299476300817e+03 1.4e+00 1.21e+00  1e-01  1e-01 0:26.7\n",
      "    3     48 -7.634326780201333e+03 1.5e+00 1.11e+00  8e-02  1e-01 0:39.1\n",
      "    4     64 -7.634745542106241e+03 1.5e+00 1.02e+00  6e-02  9e-02 1:01.6\n",
      "    5     80 -7.635235096842813e+03 1.8e+00 9.50e-01  4e-02  8e-02 1:23.0\n",
      "    6     96 -7.634932953966078e+03 2.1e+00 7.57e-01  3e-02  6e-02 1:40.4\n",
      "    7    112 -7.634877182079054e+03 2.5e+00 6.29e-01  3e-02  5e-02 1:55.1\n",
      "    8    128 -7.636226188570949e+03 3.3e+00 6.80e-01  3e-02  4e-02 2:07.4\n",
      "    9    144 -7.635916976647060e+03 3.0e+00 5.60e-01  2e-02  3e-02 2:19.0\n",
      "   10    160 -7.636395101360845e+03 3.2e+00 5.18e-01  2e-02  3e-02 2:30.9\n",
      "   11    176 -7.636550477295862e+03 3.4e+00 4.00e-01  1e-02  2e-02 2:42.6\n",
      "   13    208 -7.636674639536058e+03 4.5e+00 2.97e-01  8e-03  1e-02 3:03.7\n",
      "   15    240 -7.636667180314331e+03 6.6e+00 2.23e-01  4e-03  8e-03 3:26.0\n",
      "   16    256 -7.636676905331517e+03 4.9e+00 1.85e-01  3e-03  6e-03 3:39.1\n",
      "   18    288 -7.636679413680798e+03 4.9e+00 1.49e-01  2e-03  4e-03 4:02.1\n",
      "   20    320 -7.636679868747756e+03 6.5e+00 8.92e-02  1e-03  2e-03 4:23.3\n",
      "Optimal value (global minimisation):  -7636.679868747756\n",
      "Starting local minimisation...\n",
      "Optimal value (local minimisation):  -7636.6802442249955\n",
      "[0.50638384 0.59124121 0.58128441]\n",
      "280.199259519577\n"
     ]
    }
   ],
   "source": [
    "eps = 1e-3 \n",
    "start_time = time.time() \n",
    "\n",
    "parameters = estimator.make_params_dict(params)\n",
    "estimator.set_params(parameters) \n",
    "params = estimator.infer_control(guess, stds, x, Tf, Nf, generator, bounds,\n",
    "                                 global_max_iter=20, eps=eps, verbose=True)\n",
    "# sometimes produce errors if input is bad, ignore and let basinhopping do its magic\n",
    "end_time = time.time()\n",
    "print(params) # best guess \n",
    "print(end_time - start_time)"
   ]
  },
  {
   "cell_type": "code",
   "execution_count": null,
   "metadata": {},
   "outputs": [],
   "source": []
  }
 ],
 "metadata": {
  "kernelspec": {
   "display_name": "Python 3",
   "language": "python",
   "name": "python3"
  },
  "language_info": {
   "codemirror_mode": {
    "name": "ipython",
    "version": 3
   },
   "file_extension": ".py",
   "mimetype": "text/x-python",
   "name": "python",
   "nbconvert_exporter": "python",
   "pygments_lexer": "ipython3",
   "version": "3.7.6"
  }
 },
 "nbformat": 4,
 "nbformat_minor": 4
}
