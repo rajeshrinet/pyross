{
 "cells": [
  {
   "cell_type": "code",
   "execution_count": 1,
   "metadata": {},
   "outputs": [
    {
     "ename": "SystemExit",
     "evalue": "error: [Errno 13] Permission denied: '/usr/lib/python3.8/site-packages/PyRoss-1.0.0-py3.8.egg-info'",
     "output_type": "error",
     "traceback": [
      "An exception has occurred, use %tb to see the full traceback.\n",
      "\u001b[0;31m---------------------------------------------------------------------------\u001b[0m",
      "\nDuring handling of the above exception, another exception occurred:\n",
      "\u001b[0;31mSystemExit\u001b[0m\u001b[0;31m:\u001b[0m error: [Errno 13] Permission denied: '/usr/lib/python3.8/site-packages/PyRoss-1.0.0-py3.8.egg-info'\n"
     ]
    }
   ],
   "source": [
    "%%capture\n",
    "## compile PyRoss for this notebook\n",
    "import os\n",
    "owd = os.getcwd()\n",
    "os.chdir('../../')\n",
    "%run setup.py install\n",
    "os.chdir(owd)"
   ]
  },
  {
   "cell_type": "code",
   "execution_count": 1,
   "metadata": {},
   "outputs": [],
   "source": [
    "%matplotlib inline\n",
    "import numpy as np\n",
    "import pyross\n",
    "import pandas as pd\n",
    "import time \n",
    "import matplotlib.pyplot as plt\n",
    "from scipy.io import loadmat"
   ]
  },
  {
   "cell_type": "code",
   "execution_count": 2,
   "metadata": {},
   "outputs": [
    {
     "name": "stdout",
     "output_type": "stream",
     "text": [
      "64111602.0\n"
     ]
    }
   ],
   "source": [
    "## population and age classes\n",
    "M=4  ## number of age classes\n",
    "\n",
    "my_data = np.genfromtxt('../data/age_structures/UK.csv', delimiter=',', skip_header=1)\n",
    "aM, aF = my_data[:, 1], my_data[:, 2]\n",
    "\n",
    "Ni0=aM+aF;   Ni=np.zeros((M))\n",
    "\n",
    "# scale the population down to a more manageble level \n",
    "Ni[0] = (np.sum(Ni0[0:4])).astype('int')\n",
    "Ni[1] = (np.sum(Ni0[4:8])).astype('int')\n",
    "Ni[2] = (np.sum(Ni0[8:12])).astype('int')\n",
    "Ni[3] = (np.sum(Ni0[12:16])).astype('int')\n",
    "N=np.sum(Ni)\n",
    "print(N)\n",
    "fi = Ni/N "
   ]
  },
  {
   "cell_type": "code",
   "execution_count": 3,
   "metadata": {},
   "outputs": [],
   "source": [
    "# Get individual contact matrices\n",
    "CH0, CW0, CS0, CO0 = pyross.contactMatrix.UK()\n",
    "\n",
    "\n",
    "CH = np.zeros((M, M))\n",
    "CW = np.zeros((M, M))\n",
    "CS = np.zeros((M, M))\n",
    "CO = np.zeros((M, M))\n",
    "\n",
    "for i in range(16):\n",
    "    CH0[i,:] = CH0[i,:]*Ni0[i]\n",
    "    CW0[i,:] = CW0[i,:]*Ni0[i]\n",
    "    CS0[i,:] = CS0[i,:]*Ni0[i]\n",
    "    CO0[i,:] = CO0[i,:]*Ni0[i]\n",
    "\n",
    "\n",
    "for i in range(M):\n",
    "    for j in range(M):\n",
    "        i1, j1 = i*4, j*4\n",
    "        CH[i,j] = np.sum( CH0[i1:i1+4, j1:j1+4] )/Ni[i]\n",
    "        CW[i,j] = np.sum( CW0[i1:i1+4, j1:j1+4] )/Ni[i]\n",
    "        CS[i,j] = np.sum( CS0[i1:i1+4, j1:j1+4] )/Ni[i]\n",
    "        CO[i,j] = np.sum( CO0[i1:i1+4, j1:j1+4] )/Ni[i]\n",
    "        \n",
    "N = N/5e2\n",
    "Ni = Ni/5e2"
   ]
  },
  {
   "cell_type": "code",
   "execution_count": 4,
   "metadata": {},
   "outputs": [],
   "source": [
    "# Generate class with contact matrix for SIR-type model with UK contact structure\n",
    "generator = pyross.contactMatrix.SIR(CH, CW, CS, CO)"
   ]
  },
  {
   "cell_type": "code",
   "execution_count": 5,
   "metadata": {},
   "outputs": [],
   "source": [
    "times= [20] # temporal boundaries between different contact-behaviour\n",
    "\n",
    "aW, aS, aO = 0.5, 0.6, 0.6\n",
    "\n",
    "# prefactors for CW, CS, CO:\n",
    "interventions = [[1.0,1.0,1.0],      # before first time\n",
    "                 [aW, aS, aO],       # after first time\n",
    "                ]         \n",
    "\n",
    "# generate corresponding contact matrix function\n",
    "C = generator.interventions_temporal(times=times,interventions=interventions)"
   ]
  },
  {
   "cell_type": "code",
   "execution_count": 6,
   "metadata": {},
   "outputs": [
    {
     "name": "stdout",
     "output_type": "stream",
     "text": [
      "[31268.886 35668.366 35526.088 25759.864]\n"
     ]
    }
   ],
   "source": [
    "beta  = 0.04         # infection rate\n",
    "gIa   = 1./7            # recovery rate of asymptomatic infectives\n",
    "gIs   = 1./7            \n",
    "gIh   = 1/14\n",
    "gIc   = 1/14\n",
    "alpha = 0.2          # fraction of asymptomatic infectives\n",
    "fsa   = 0.8          # the self-isolation parameter\n",
    "fh = 0.1 \n",
    "gE    = 1/5\n",
    "gA    = 1/3\n",
    "\n",
    "hh   = 0.1*np.ones(M)       # fraction which goes from Is to hospital\n",
    "cc   = 0.05*np.ones(M)      # fraction which goes from  hospital to ICU \n",
    "mm   = 0.4*np.ones(M)       # mortality from IC\n",
    "sa = 0  # change in the population, not taken into account by inference at the moment \n",
    "\n",
    "\n",
    "# initial conditions\n",
    "E0   = np.array([10]*M)\n",
    "A0   = np.array([10]*M)\n",
    "Ia0  = np.array([10]*M)# each age group has asymptomatic infectives\n",
    "Is0  = np.array([10]*M)# and also symptomatic infectives\n",
    "Ih0  = np.array([10]*M)\n",
    "Ic0  = np.array([10]*M)\n",
    "Im0  = np.array([2]*M)\n",
    "R0   = np.zeros(M)\n",
    "S0   = Ni - (Ia0+Is0+R0+E0+A0+Ih0+Ic0+Im0)\n",
    "\n",
    "parameters = {'alpha':alpha,'beta':beta, 'gIa':gIa,'gIs':gIs,\n",
    "              'gIh':gIh,'gIc':gIc,  'gE':gE, 'gA':gA,\n",
    "              'fsa':fsa, 'fh':fh, \n",
    "              'sa':sa, 'hh':hh, 'cc':cc, 'mm':mm}\n",
    "model = pyross.stochastic.SEAI5R(parameters, M, Ni)\n",
    "print(Ni)\n",
    "\n",
    "#def contactMatrix(t):\n",
    "#    if t < 20:\n",
    "#        return CH + CS + CW + CO\n",
    "#    else:\n",
    "#        return CH + aS*CS + aW*CW + aO*CO\n",
    "\n",
    "\n",
    "# start simulation\n",
    "Tf=100;  Nf=Tf+1 \n",
    "data=model.simulate(S0, E0, A0, Ia0, Is0, Ih0, Ic0, Im0, C, Tf, Nf)"
   ]
  },
  {
   "cell_type": "code",
   "execution_count": 7,
   "metadata": {
    "scrolled": true
   },
   "outputs": [
    {
     "data": {
      "image/png": "[encoded data removed]",
      "text/plain": [
       "<Figure size 432x288 with 1 Axes>"
      ]
     },
     "metadata": {
      "needs_background": "light"
     },
     "output_type": "display_data"
    }
   ],
   "source": [
    "## Save pre intervention traj\n",
    "Tf = 19 \n",
    "Nf = Tf+1\n",
    "np.save('pre_intervention_traj_SEAI5R.npy', data['X'][:Nf,:])\n",
    "\n",
    "# plot the stochastic solution \n",
    "plt.plot(data['X'][:, M], label='E')\n",
    "plt.plot(data['X'][:, 2*M], label='A')\n",
    "plt.plot(data['X'][:, 3*M], label='Ia')\n",
    "plt.plot(data['X'][:, 4*M], label='Is')\n",
    "plt.plot(data['X'][:, 5*M], label='Ih')\n",
    "plt.plot(data['X'][:, 6*M], label='Ic')\n",
    "plt.plot(data['X'][:, 7*M], label='Im')\n",
    "plt.legend()\n",
    "plt.show()"
   ]
  },
  {
   "cell_type": "code",
   "execution_count": 8,
   "metadata": {
    "scrolled": false
   },
   "outputs": [
    {
     "name": "stdout",
     "output_type": "stream",
     "text": [
      "-6298.480365782506\n",
      "15.166160821914673\n"
     ]
    }
   ],
   "source": [
    "Tf = 20 # truncate to only getting the first few datapoints \n",
    "Nf = Tf+1\n",
    "\n",
    "x = data['X']\n",
    "x = (x/N)[:Nf,:8*M]\n",
    "steps = 101 # number internal integration steps taken, must be an odd number \n",
    "\n",
    "\n",
    "# initialise the estimator \n",
    "estimator = pyross.inference.SEAI5R(parameters, M, fi, int(N), steps)\n",
    "\n",
    "# compute -log_p for the original (correct) parameters \n",
    "start_time = time.time() \n",
    "logp = estimator.obtain_minus_log_p(parameters, x, Tf, Nf, generator.constant_CM)\n",
    "end_time = time.time()\n",
    "print(logp) \n",
    "print(end_time - start_time)\n",
    "\n",
    "#plt.plot(x[:, M])\n",
    "#plt.show()"
   ]
  },
  {
   "cell_type": "code",
   "execution_count": null,
   "metadata": {},
   "outputs": [
    {
     "name": "stdout",
     "output_type": "stream",
     "text": [
      "Starting global minimisation...\n",
      "(8_w,16)-aCMA-ES (mu_w=4.8,w_1=32%) in dimension 6 (seed=357016, Thu Apr 30 22:00:23 2020)\n"
     ]
    }
   ],
   "source": [
    "#### infer the parameters from the initial part of the trajectory\n",
    "\n",
    "# initialise the estimator \n",
    "estimator = pyross.inference.SEAI5R(parameters, M, fi, int(N), steps)\n",
    "\n",
    "## create filter to distinguish between observable classes\n",
    "obs=x[:20] ## up to intervention time\n",
    "x0 = x[0]\n",
    "\n",
    "## guesses for params\n",
    "alpha_g = 0.4          \n",
    "beta_g  = 0.03         \n",
    "gIa_g   = 1./7            \n",
    "gIs_g   = 1./7   \n",
    "gE_g    = 1/5\n",
    "gA_g    = 1/3\n",
    "\n",
    "S0_g = S0/N\n",
    "E0_g = E0/N\n",
    "A0_g  = A0/N\n",
    "Ia0_g = Ia0/N\n",
    "Is0_g = Is0/N\n",
    "Ih0_g = Ih0/N\n",
    "Ic0_g = Ic0/N\n",
    "Im0_g = Im0/N\n",
    "\n",
    "# optimisation parameters \n",
    "eps = 1e-4 # step used to calculate hessian in the optimisation algorithm \n",
    "ftol = 1e-3 # the relative tol in (-logp)  \n",
    "\n",
    "# set up bounds for all the classes\n",
    "bounds_for_E  = [(1/N, 50/N)]*M \n",
    "bounds_for_A  = [(1/N, 50/N)]*M \n",
    "bounds_for_Ia = [(0.1/N, 100/N)]*M\n",
    "bounds_for_Is = [(1/N, 50/N)]*M \n",
    "bounds_for_Ih = [(1/N, 50/N)]*M \n",
    "bounds_for_Ic = [(1/N, 50/N)]*M \n",
    "bounds_for_Im = [(1/N, 50/N)]*M \n",
    "bounds_for_S = [(fi[i]-400/N-Is0[i]/N, fi[i]-0.1/N) for i in range(M)]\n",
    "\n",
    "# set up bounds for the rest of the params \n",
    "alpha_b = (0.1,0.5)\n",
    "beta_b  = (eps, 0.06)\n",
    "gIa_b   = (eps, 0.2)\n",
    "gIs_b   = (eps, 0.2)\n",
    "gE_b    = (0.15, 0.25)\n",
    "gA_b    = (0.3, 0.4)\n",
    "\n",
    "# the bound for alpha must be 1-2*eps to avoid alpha>1 in hessian calculation performed by optimizer \n",
    "bounds = np.array([alpha_b, beta_b, gIa_b, gIs_b, gE_b, gA_b])#, *bounds_for_S, *bounds_for_E, *bounds_for_A, *bounds_for_Ia, *bounds_for_Is, *bounds_for_Ih, *bounds_for_Ic, *bounds_for_Im])\n",
    "# stds of the model parameters' priors\n",
    "stds = np.array([0.2*(k[1] - k[0]) for k in bounds])\n",
    "stds[0] = 0.3 ## make one a bit larger for demonstration\n",
    "\n",
    "# make an initial guess and do inference \n",
    "guess = np.array([alpha_g, beta_g, gIa_g, gIs_g, gE_g, gA_g])#, *S0_g, *E0_g, *A0_g, *Ia0_g, *Is0_g, *Ih0_g, *Ic0_g, *Im0_g])\n",
    "params, nit = estimator.inference(guess, stds, obs, Tf, Nf, generator.constant_CM, bounds=bounds, verbose=True, niter=2, ftol=ftol, eps=eps)\n",
    "# the L-BFGS-B method prints to the terminal rather than here "
   ]
  },
  {
   "cell_type": "code",
   "execution_count": null,
   "metadata": {},
   "outputs": [
    {
     "ename": "KeyboardInterrupt",
     "evalue": "",
     "output_type": "error",
     "traceback": [
      "\u001b[0;31m---------------------------------------------------------------------------\u001b[0m",
      "\u001b[0;31mKeyboardInterrupt\u001b[0m                         Traceback (most recent call last)",
      "\u001b[0;32mpyross/inference.pyx\u001b[0m in \u001b[0;36mpyross.inference.SIR_type.obtain_full_mean_cov\u001b[0;34m()\u001b[0m\n",
      "\u001b[0;32mpyross/inference.pyx\u001b[0m in \u001b[0;36mpyross.inference.SIR_type.estimate_cond_mean_cov\u001b[0;34m()\u001b[0m\n",
      "\u001b[0;32m/usr/lib/python3.8/site-packages/scipy/integrate/odepack.py\u001b[0m in \u001b[0;36modeint\u001b[0;34m(func, y0, t, args, Dfun, col_deriv, full_output, ml, mu, rtol, atol, tcrit, h0, hmax, hmin, ixpr, mxstep, mxhnil, mxordn, mxords, printmessg, tfirst)\u001b[0m\n\u001b[1;32m    240\u001b[0m     \u001b[0mt\u001b[0m \u001b[0;34m=\u001b[0m \u001b[0mcopy\u001b[0m\u001b[0;34m(\u001b[0m\u001b[0mt\u001b[0m\u001b[0;34m)\u001b[0m\u001b[0;34m\u001b[0m\u001b[0;34m\u001b[0m\u001b[0m\n\u001b[1;32m    241\u001b[0m     \u001b[0my0\u001b[0m \u001b[0;34m=\u001b[0m \u001b[0mcopy\u001b[0m\u001b[0;34m(\u001b[0m\u001b[0my0\u001b[0m\u001b[0;34m)\u001b[0m\u001b[0;34m\u001b[0m\u001b[0;34m\u001b[0m\u001b[0m\n\u001b[0;32m--> 242\u001b[0;31m     output = _odepack.odeint(func, y0, t, args, Dfun, col_deriv, ml, mu,\n\u001b[0m\u001b[1;32m    243\u001b[0m                              \u001b[0mfull_output\u001b[0m\u001b[0;34m,\u001b[0m \u001b[0mrtol\u001b[0m\u001b[0;34m,\u001b[0m \u001b[0matol\u001b[0m\u001b[0;34m,\u001b[0m \u001b[0mtcrit\u001b[0m\u001b[0;34m,\u001b[0m \u001b[0mh0\u001b[0m\u001b[0;34m,\u001b[0m \u001b[0mhmax\u001b[0m\u001b[0;34m,\u001b[0m \u001b[0mhmin\u001b[0m\u001b[0;34m,\u001b[0m\u001b[0;34m\u001b[0m\u001b[0;34m\u001b[0m\u001b[0m\n\u001b[1;32m    244\u001b[0m                              \u001b[0mixpr\u001b[0m\u001b[0;34m,\u001b[0m \u001b[0mmxstep\u001b[0m\u001b[0;34m,\u001b[0m \u001b[0mmxhnil\u001b[0m\u001b[0;34m,\u001b[0m \u001b[0mmxordn\u001b[0m\u001b[0;34m,\u001b[0m \u001b[0mmxords\u001b[0m\u001b[0;34m,\u001b[0m\u001b[0;34m\u001b[0m\u001b[0;34m\u001b[0m\u001b[0m\n",
      "\u001b[0;32mpyross/inference.pyx\u001b[0m in \u001b[0;36mpyross.inference.SIR_type.estimate_cond_mean_cov.rhs\u001b[0;34m()\u001b[0m\n",
      "\u001b[0;32mpyross/contactMatrix.pyx\u001b[0m in \u001b[0;36mpyross.contactMatrix.SIR.interventions_temporal.C_func\u001b[0;34m()\u001b[0m\n",
      "\u001b[0;32m<__array_function__ internals>\u001b[0m in \u001b[0;36margmin\u001b[0;34m(*args, **kwargs)\u001b[0m\n",
      "\u001b[0;31mKeyboardInterrupt\u001b[0m: "
     ]
    },
    {
     "name": "stderr",
     "output_type": "stream",
     "text": [
      "Exception ignored in: 'pyross.inference.SIR_type.obtain_log_p_for_traj_red'\n",
      "Traceback (most recent call last):\n",
      "  File \"pyross/inference.pyx\", line 487, in pyross.inference.SIR_type.obtain_full_mean_cov\n",
      "  File \"pyross/inference.pyx\", line 469, in pyross.inference.SIR_type.estimate_cond_mean_cov\n",
      "  File \"/usr/lib/python3.8/site-packages/scipy/integrate/odepack.py\", line 242, in odeint\n",
      "    output = _odepack.odeint(func, y0, t, args, Dfun, col_deriv, ml, mu,\n",
      "  File \"pyross/inference.pyx\", line 462, in pyross.inference.SIR_type.estimate_cond_mean_cov.rhs\n",
      "  File \"pyross/contactMatrix.pyx\", line 164, in pyross.contactMatrix.SIR.interventions_temporal.C_func\n",
      "  File \"<__array_function__ internals>\", line 2, in argmin\n",
      "KeyboardInterrupt: \n"
     ]
    }
   ],
   "source": [
    "## calculate hessian\n",
    "hess = estimator.hessian(params, obs, Tf, Nf, generator.constant_CM)"
   ]
  },
  {
   "cell_type": "code",
   "execution_count": null,
   "metadata": {},
   "outputs": [],
   "source": [
    "# save the parameters \n",
    "np.save('optimal_model_param_SEAI5R.npy', params)\n",
    "np.save('hessian_SEAI5R.npy', hess)"
   ]
  },
  {
   "cell_type": "code",
   "execution_count": null,
   "metadata": {},
   "outputs": [],
   "source": [
    "## Control Code From this point"
   ]
  },
  {
   "cell_type": "code",
   "execution_count": 18,
   "metadata": {},
   "outputs": [],
   "source": [
    "eps = 1e-3 \n",
    "start_time = time.time() \n",
    "\n",
    "## Use inferred model parameters in the later part of the traj\n",
    "parameters = estimator.make_params_dict(params)\n",
    "\n",
    "## guesses and bounds for control parameters\n",
    "aW_g = 0.5 \n",
    "aW_bounds = [0.1, 0.8]\n",
    "aS_g = 0.5\n",
    "aS_bounds = [0.1, 0.8]\n",
    "aO_g = 0.5\n",
    "aO_bounds = [0.1, 0.8]\n",
    "guess = np.array([aW_g, aS_g, aO_g])\n",
    "bounds = np.array([aW_bounds, aS_bounds, aO_bounds])\n",
    "\n",
    "x = data['X']/N\n",
    "x = x[22:,:8*M]\n",
    "Nf = x.shape[0] \n",
    "Tf = Nf-1 \n",
    "times = [Tf+1]"
   ]
  },
  {
   "cell_type": "code",
   "execution_count": 13,
   "metadata": {
    "scrolled": true
   },
   "outputs": [
    {
     "name": "stdout",
     "output_type": "stream",
     "text": [
      "parameters: [0.55076476 0.55076476 0.55076476]\n",
      "parameters: [0.53580216 0.54991267 0.5580288 ]\n",
      "parameters: [0.41151621 0.55192582 0.63935228]\n",
      "parameters: [0.40823557 0.54793546 0.65040502]\n",
      "parameters: [0.40747496 0.54536419 0.65348737]\n",
      "basinhopping step 0: f -24768.6\n",
      "parameters: [0.45575598 0.53679302 0.59197193]\n",
      "parameters: [0.46189962 0.55192895 0.61294584]\n",
      "parameters: [0.45637457 0.55239304 0.61740572]\n",
      "parameters: [0.40834891 0.54708537 0.651617  ]\n",
      "parameters: [0.40756177 0.5402122  0.65423455]\n",
      "parameters: [0.4088229  0.51601262 0.66097442]\n",
      "parameters: [0.40882863 0.5160127  0.66096628]\n",
      "basinhopping step 1: f -24768.6 trial_f -24768.6 accepted 1  lowest_f -24768.6\n",
      "found new global minimum on step 1 with function value -24768.6\n",
      "parameters: [0.40277459 0.54986554 0.65836181]\n",
      "parameters: [0.40133139 0.5477379  0.65706415]\n",
      "basinhopping step 2: f -24768.5 trial_f -24768.5 accepted 1  lowest_f -24768.6\n",
      "[0.40882863 0.5160127  0.66096628]\n",
      "2\n",
      "6086.72140622139\n"
     ]
    }
   ],
   "source": [
    "estimator.set_params(parameters) \n",
    "params_control, nit = estimator.infer_control(guess, x, Tf, Nf, generator, bounds,\n",
    "                                  niter=2, eps=eps, verbose=True)\n",
    "\n",
    "# sometimes produce errors if input is bad, ignore and let basinhopping do its magic\n",
    "end_time = time.time()\n",
    "print(params_control) # best guess \n",
    "print(nit) # number of iterations of the optimization run \n",
    "print(end_time - start_time)\n",
    "\n",
    "# save the parameters \n",
    "np.save('inferred_control_params_SEAI5R.npy', params_control)"
   ]
  },
  {
   "cell_type": "code",
   "execution_count": null,
   "metadata": {},
   "outputs": [],
   "source": [
    "times = [20]\n",
    "inferred_interventions = [[1.0,1.0,1.0],      # before first time\n",
    "                 params_control,       # after first time\n",
    "                ]         \n",
    "\n",
    "# compare the true trajectory with the \n",
    "contactMatrix = generator.interventions_temporal(times=times,interventions=inferred_interventions)\n",
    "det_model = pyross.deterministic.SIR(parameters, M, fi)\n",
    "x0 = params[6:]\n",
    "x_det = estimator.integrate(x0, 0, Tf, Nf, det_model, contactMatrix)\n",
    "x = data['X']/N\n",
    "\n",
    "plt.plot(x[:,0], label='S')\n",
    "plt.plot(x_det[:, 0])\n",
    "plt.plot(x[:,1*M], label='E')\n",
    "plt.plot(x_det[:, 1*M])\n",
    "plt.plot(x[:,2*M], label='A')\n",
    "plt.plot(x_det[:, 2*M])\n",
    "plt.plot(x[:,3*M], label='Ia')\n",
    "plt.plot(x_det[:, 3*M])\n",
    "plt.plot(x[:,4*M], label='Is')\n",
    "plt.plot(x_det[:, 4*M])\n",
    "plt.plot(x[:,5*M], label='Ih')\n",
    "plt.plot(x_det[:, 5*M])\n",
    "plt.plot(x[:,6*M], label='Ic')\n",
    "plt.plot(x_det[:, 6*M])\n",
    "plt.plot(x[:,7*M], label='Im')\n",
    "plt.plot(x_det[:, 7*M])\n",
    "plt.legend()\n",
    "plt.show()\n",
    "\n",
    "plt.plot(x[:,1*M], label='Ia')\n",
    "plt.plot(x_det[:, 1*M])\n",
    "plt.plot(x[:,2*M], label='Is')\n",
    "plt.plot(x_det[:, 2*M])\n",
    "plt.legend()\n",
    "plt.show()"
   ]
  }
 ],
 "metadata": {
  "kernelspec": {
   "display_name": "Python 3",
   "language": "python",
   "name": "python3"
  },
  "language_info": {
   "codemirror_mode": {
    "name": "ipython",
    "version": 3
   },
   "file_extension": ".py",
   "mimetype": "text/x-python",
   "name": "python",
   "nbconvert_exporter": "python",
   "pygments_lexer": "ipython3",
   "version": "3.8.2"
  }
 },
 "nbformat": 4,
 "nbformat_minor": 4
}
