{
 "cells": [
  {
   "cell_type": "code",
   "execution_count": 3,
   "metadata": {},
   "outputs": [],
   "source": [
    "%%capture\n",
    "## compile PyRoss for this notebook\n",
    "import os\n",
    "owd = os.getcwd()\n",
    "os.chdir('../../')\n",
    "%run setup.py install\n",
    "os.chdir(owd)"
   ]
  },
  {
   "cell_type": "code",
   "execution_count": 4,
   "metadata": {},
   "outputs": [],
   "source": [
    "%matplotlib inline\n",
    "import numpy as np\n",
    "import pyross\n",
    "import pandas as pd\n",
    "import time \n",
    "import matplotlib.pyplot as plt\n",
    "from scipy.io import loadmat"
   ]
  },
  {
   "cell_type": "code",
   "execution_count": 17,
   "metadata": {},
   "outputs": [
    {
     "name": "stdout",
     "output_type": "stream",
     "text": [
      "135333.0\n"
     ]
    }
   ],
   "source": [
    "## population and age classes\n",
    "M=4  ## number of age classes\n",
    "\n",
    "my_data = np.genfromtxt('../data/age_structures/India-2019.csv', delimiter=',', skip_header=1)\n",
    "aM, aF = my_data[:, 1], my_data[:, 2]\n",
    "\n",
    "Ni0=aM+aF;   Ni=np.zeros((M))\n",
    "\n",
    "# scale the population down to a more manageble level \n",
    "Ni[0] = (np.sum(Ni0[0:4])/1e4).astype('int')\n",
    "Ni[1] = (np.sum(Ni0[4:8])/1e4).astype('int')\n",
    "Ni[2] = (np.sum(Ni0[8:12])/1e4).astype('int')\n",
    "Ni[3] = (np.sum(Ni0[12:16])/1e4).astype('int')\n",
    "N=np.sum(Ni)\n",
    "print(N)\n",
    "fi = Ni/N "
   ]
  },
  {
   "cell_type": "code",
   "execution_count": 18,
   "metadata": {},
   "outputs": [],
   "source": [
    "# Get individual contact matrices\n",
    "CH0, CW0, CS0, CO0 = pyross.contactMatrix.India()\n",
    "\n",
    "\n",
    "CH = np.zeros((M, M))\n",
    "CW = np.zeros((M, M))\n",
    "CS = np.zeros((M, M))\n",
    "CO = np.zeros((M, M))\n",
    "\n",
    "\n",
    "for i in range(M):\n",
    "    for j in range(M):\n",
    "        i1, j1 = i*4, j*4\n",
    "        CH[i,j] = np.sum( CH0[i1:i1+4, j1:j1+4] )\n",
    "        CW[i,j] = np.sum( CW0[i1:i1+4, j1:j1+4] )\n",
    "        CS[i,j] = np.sum( CS0[i1:i1+4, j1:j1+4] )\n",
    "        CO[i,j] = np.sum( CO0[i1:i1+4, j1:j1+4] )"
   ]
  },
  {
   "cell_type": "code",
   "execution_count": 19,
   "metadata": {},
   "outputs": [],
   "source": [
    "generator = pyross.contactMatrix.SIR(CH, CW, CS, CO)\n",
    "\n",
    "times= [20] # temporal boundaries between different contact-behaviour\n",
    "\n",
    "aW, aS, aO = 0.5, 0.6, 0.6\n",
    "\n",
    "# prefactors for CW, CS, CO:\n",
    "interventions = [[1.0,1.0,1.0],      # before first time\n",
    "                 [aW, aS, aO],       # after first time\n",
    "                ]         \n",
    "\n",
    "# generate corresponding contact matrix function\n",
    "contactMatrix = generator.interventions_temporal(times=times,interventions=interventions)"
   ]
  },
  {
   "cell_type": "code",
   "execution_count": 28,
   "metadata": {},
   "outputs": [],
   "source": [
    "# correct params\n",
    "\n",
    "beta  = 0.00454      # contact rate parameter\n",
    "gIa   = 1./7            # recovery rate of asymptomatic infectives\n",
    "gIs   = 1/7\n",
    "alpha = 0.2          # fraction of asymptomatic infectives\n",
    "fsa   = 0.8          # the self-isolation parameter \n",
    "gE    = 1/5\n",
    "gA    = 1/3\n",
    "\n",
    "tS    = 0.0            # rate S  -> Q\n",
    "tE    = 0.01           # rate E  -> Q\n",
    "tA    = 0.01           # rate A  -> Q\n",
    "tIa   = 0.01           # rate Ia -> Q\n",
    "tIs   = 0.01           # rate Is -> Q, three days for symptomatic people to be tested and quarantined \n",
    "\n",
    "\n",
    "# set up initial condition\n",
    "E0  = np.array([100]*M)\n",
    "A0  = np.array([10]*M)\n",
    "Ia0 = np.array([10]*M)     \n",
    "Is0 = np.array([10]*M)     \n",
    "Q0  = np.zeros(M)\n",
    "R0  = np.zeros(M)\n",
    "S0  = Ni-(E0+A0+Ia0+Is0+R0+Q0)    \n",
    "\n",
    "\n",
    "Tf = 120\n",
    "Nf = Tf+1\n",
    "\n",
    "\n",
    "parameters = {'alpha':alpha, 'beta':beta,\n",
    "              'gE':gE,'gA':gA,\n",
    "              'gIa':gIa, 'gIs':gIs, 'fsa':fsa,\n",
    "             'tS':tS,'tE':tE,'tA':tA,'tIa':tIa,'tIs':tIs, \n",
    "             'gAA': gA, 'gAS': gA} # legacy code \n",
    "\n",
    "# use pyross stochastic to generate traj and save \n",
    "sto_model = pyross.stochastic.SEAIRQ(parameters, M, Ni)\n",
    "data = sto_model.simulate(S0, E0, A0, Ia0, Is0, Q0, contactMatrix, Tf, Nf)\n",
    "data_array = data['X']\n",
    "np.save('cal_seairq_traj.npy', data_array)"
   ]
  },
  {
   "cell_type": "code",
   "execution_count": 29,
   "metadata": {},
   "outputs": [
    {
     "data": {
      "image/png": "[encoded data removed]",
      "text/plain": [
       "<Figure size 432x288 with 1 Axes>"
      ]
     },
     "metadata": {
      "needs_background": "light"
     },
     "output_type": "display_data"
    }
   ],
   "source": [
    "# plot the stochastic solution \n",
    "# plt.plot(data_array[:, 0], label='S')\n",
    "plt.plot(data_array[:, M], label='E')\n",
    "plt.plot(data_array[:, 2*M], label='A')\n",
    "plt.plot(data_array[:, 3*M], label='Ia')\n",
    "plt.plot(data_array[:, 4*M], label='Is')\n",
    "plt.plot(data_array[:, 5*M], label='Q')\n",
    "\n",
    "plt.legend()\n",
    "plt.show()"
   ]
  },
  {
   "cell_type": "code",
   "execution_count": null,
   "metadata": {},
   "outputs": [],
   "source": []
  }
 ],
 "metadata": {
  "kernelspec": {
   "display_name": "Python 3",
   "language": "python",
   "name": "python3"
  },
  "language_info": {
   "codemirror_mode": {
    "name": "ipython",
    "version": 3
   },
   "file_extension": ".py",
   "mimetype": "text/x-python",
   "name": "python",
   "nbconvert_exporter": "python",
   "pygments_lexer": "ipython3",
   "version": "3.7.6"
  }
 },
 "nbformat": 4,
 "nbformat_minor": 4
}
