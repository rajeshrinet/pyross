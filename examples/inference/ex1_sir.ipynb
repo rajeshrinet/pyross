{
 "cells": [
  {
   "cell_type": "code",
   "execution_count": 1,
   "metadata": {},
   "outputs": [],
   "source": [
    "%%capture\n",
    "## compile PyRoss for this notebook\n",
    "import os\n",
    "owd = os.getcwd()\n",
    "os.chdir('../../')\n",
    "%run setup.py install\n",
    "os.chdir(owd)"
   ]
  },
  {
   "cell_type": "code",
   "execution_count": 2,
   "metadata": {},
   "outputs": [],
   "source": [
    "%matplotlib inline\n",
    "import numpy as np\n",
    "from matplotlib import pyplot as plt\n",
    "import pyross\n",
    "import time "
   ]
  },
  {
   "cell_type": "code",
   "execution_count": 3,
   "metadata": {},
   "outputs": [],
   "source": [
    "M  = 2                  # the population has two age groups\n",
    "N  =  5e4           # and this is the total population\n",
    "\n",
    "# correct params\n",
    "\n",
    "beta  = 0.02         # infection rate\n",
    "gIa   = 1./7            # recovery rate of asymptomatic infectives\n",
    "gIs   = 1./7            # recovery rate of asymptomatic infectives\n",
    "alpha = 0.2          # fraction of asymptomatic infectives\n",
    "fsa   = 0.8          # the self-isolation parameter\n",
    "\n",
    "# set the age structure\n",
    "fi = np.array([0.25, 0.75])  # fraction of population in age age group\n",
    "Ni = N*fi\n",
    "\n",
    "# set the contact structure\n",
    "C = np.array([[18., 9.], [3., 12.]])\n",
    "\n",
    "# set up initial condition\n",
    "Ia0 = np.array([10, 10])  # each age group has asymptomatic infectives\n",
    "Is0 = np.array([10, 10])   # and also symptomatic infectives\n",
    "R0  = np.array([0, 0])  # there are no recovered individuals initially\n",
    "S0  = Ni - (Ia0 + Is0 + R0)\n",
    "\n",
    "Tf = 100\n",
    "Nf = Tf+1\n",
    "\n",
    "def contactMatrix(t):\n",
    "    return C\n",
    "\n",
    "parameters = {'alpha':alpha, 'beta':beta, 'gIa':gIa, 'gIs':gIs,'fsa':fsa}\n",
    "\n",
    "# use pyross stochastic to generate traj and save \n",
    "# sto_model = pyross.stochastic.SIR(parameters, M, Ni)\n",
    "# data = sto_model.simulate(S0, Ia0, Is0, contactMatrix, Tf, Nf)\n",
    "# data_array = data['X']\n",
    "# np.save('SIR_sto_traj.npy', data_array)"
   ]
  },
  {
   "cell_type": "code",
   "execution_count": 3,
   "metadata": {},
   "outputs": [
    {
     "data": {
      "image/png": "[encoded data removed]",
      "text/plain": [
       "<Figure size 432x288 with 1 Axes>"
      ]
     },
     "metadata": {
      "needs_background": "light"
     },
     "output_type": "display_data"
    }
   ],
   "source": [
    "plt.plot(data_array[:, 0], label='S')\n",
    "plt.plot(data_array[:, M], label='Ia')\n",
    "plt.plot(data_array[:, 2*M], label='Is')\n",
    "plt.legend()\n",
    "plt.show()"
   ]
  },
  {
   "cell_type": "code",
   "execution_count": 4,
   "metadata": {},
   "outputs": [
    {
     "name": "stdout",
     "output_type": "stream",
     "text": [
      "-2116.698339191044\n",
      "0.3131542205810547\n"
     ]
    }
   ],
   "source": [
    "# load the data and rescale to intensive variables \n",
    "Tf = 50 # truncate to only getting the first few datapoints \n",
    "Nf = Tf+1\n",
    "\n",
    "x = np.load('SIR_sto_traj.npy').astype('float')\n",
    "x = (x/N)[:Nf]\n",
    "steps = 101 # number internal integration steps taken, must be an odd number \n",
    "\n",
    "\n",
    "# initialise the estimator \n",
    "estimator = pyross.inference.SIR(parameters, M, fi, int(N), steps)\n",
    "\n",
    "# compute -log_p for the original (correct) parameters \n",
    "start_time = time.time() \n",
    "parameters = {'alpha':alpha, 'beta':beta, 'gIa':gIa, 'gIs':gIs,'fsa':fsa}\n",
    "logp = estimator.obtain_minus_log_p(parameters, x, Tf, Nf, contactMatrix)\n",
    "end_time = time.time()\n",
    "print(logp) \n",
    "print(end_time - start_time)"
   ]
  },
  {
   "cell_type": "code",
   "execution_count": 5,
   "metadata": {},
   "outputs": [
    {
     "name": "stdout",
     "output_type": "stream",
     "text": [
      "50589.08100075516\n"
     ]
    }
   ],
   "source": [
    "# take a guess \n",
    "beta_g = 0.1\n",
    "gIa_g = 0.14\n",
    "gIs_g = 0.2\n",
    "alpha_g = 0.3\n",
    "\n",
    "# compute -log_p for the initial guess \n",
    "parameters = {'alpha':alpha_g, 'beta':beta_g, 'gIa':gIa_g, 'gIs':gIs_g,'fsa':fsa}\n",
    "logp = estimator.obtain_minus_log_p(parameters, x, Tf, Nf, contactMatrix)\n",
    "print(logp) "
   ]
  },
  {
   "cell_type": "code",
   "execution_count": 7,
   "metadata": {
    "scrolled": true
   },
   "outputs": [
    {
     "name": "stdout",
     "output_type": "stream",
     "text": [
      "Starting global minimisation...\n",
      "(8_w,16)-aCMA-ES (mu_w=4.8,w_1=32%) in dimension 4 (seed=386321, Thu Apr 30 16:51:44 2020)\n",
      "Iterat #Fevals   function value  axis ratio  sigma  min&max std  t[m:s]\n",
      "    1     16 1.906128507941868e+04 1.0e+00 1.15e+00  4e-02  1e-01 0:09.9\n",
      "    2     32 -1.892600890829464e+03 1.5e+00 1.78e+00  6e-02  2e-01 0:17.3\n",
      "    3     48 2.947888786227623e+03 1.6e+00 1.76e+00  5e-02  2e-01 0:23.6\n",
      "    4     64 9.349987883169077e+02 1.7e+00 1.51e+00  4e-02  2e-01 0:29.1\n",
      "    5     80 -1.463624532318144e+03 1.9e+00 1.36e+00  3e-02  1e-01 0:35.3\n",
      "    6     96 -6.291188950760958e+02 1.9e+00 1.46e+00  3e-02  1e-01 0:40.4\n",
      "    8    128 -1.484481106414612e+03 2.8e+00 8.68e-01  9e-03  8e-02 0:51.8\n",
      "   10    160 -1.602830935770506e+03 4.2e+00 8.67e-01  8e-03  8e-02 1:03.1\n",
      "Optimal value (global minimisation):  -1892.6008908294643\n",
      "Starting local minimisation...\n",
      "Optimal value (local minimisation):  -2122.610776713537\n",
      "[0.20355107 0.02003734 0.14634491 0.1425748 ]\n",
      "159.26013207435608\n"
     ]
    }
   ],
   "source": [
    "# inference \n",
    "eps = 1e-4 \n",
    "ftol = 1e-6\n",
    "guess = np.array([alpha_g, beta_g, gIa_g, gIs_g])\n",
    "bounds = np.array([(eps, 0.8), (eps, 0.2), (eps, 0.6), (eps, 0.6)]) # give some bounds\n",
    "stds = np.array([0.2, 0.1, 0.05, 0.1])\n",
    "start_time = time.time() \n",
    "params = estimator.inference(guess, stds, x, Tf, Nf, contactMatrix, \n",
    "                                  bounds=bounds, global_max_iter=10,\n",
    "                                  eps=eps, global_ftol_factor=1e3, ftol=ftol, verbose=True)\n",
    "end_time = time.time()\n",
    "\n",
    "print(params) # best guess \n",
    "print(end_time - start_time)"
   ]
  },
  {
   "cell_type": "code",
   "execution_count": 8,
   "metadata": {},
   "outputs": [
    {
     "name": "stdout",
     "output_type": "stream",
     "text": [
      "-2116.1062976695293\n",
      "0.31566500663757324\n"
     ]
    }
   ],
   "source": [
    "# compute log_p for best estimate \n",
    "start_time = time.time() \n",
    "parameters = {'alpha': params[0], 'beta': params[1], 'gIa': params[2], 'gIs': params[3],'fsa':fsa}\n",
    "logp = estimator.obtain_minus_log_p(parameters, x, Tf, Nf, contactMatrix)\n",
    "end_time = time.time()\n",
    "print(logp) \n",
    "print(end_time - start_time)"
   ]
  },
  {
   "cell_type": "code",
   "execution_count": 9,
   "metadata": {},
   "outputs": [],
   "source": [
    "hess = estimator.hessian(params, guess, stds, x, Tf, Nf, contactMatrix)\n",
    "cov = np.linalg.inv(hess)"
   ]
  },
  {
   "cell_type": "code",
   "execution_count": 14,
   "metadata": {},
   "outputs": [
    {
     "name": "stdout",
     "output_type": "stream",
     "text": [
      "[[ 4.65430433e-05  4.15620829e-10  3.36940243e-05 -8.67252688e-06]\n",
      " [ 4.15620829e-10  1.29621351e-08  5.78612875e-10  2.09193539e-10]\n",
      " [ 3.36940243e-05  5.78612875e-10  3.06395131e-05 -6.98668171e-06]\n",
      " [-8.67252688e-06  2.09193539e-10 -6.98668171e-06  2.60758109e-06]]\n"
     ]
    }
   ],
   "source": [
    "np.linalg."
   ]
  },
  {
   "cell_type": "code",
   "execution_count": null,
   "metadata": {},
   "outputs": [],
   "source": []
  }
 ],
 "metadata": {
  "kernelspec": {
   "display_name": "Python 3",
   "language": "python",
   "name": "python3"
  },
  "language_info": {
   "codemirror_mode": {
    "name": "ipython",
    "version": 3
   },
   "file_extension": ".py",
   "mimetype": "text/x-python",
   "name": "python",
   "nbconvert_exporter": "python",
   "pygments_lexer": "ipython3",
   "version": "3.7.6"
  }
 },
 "nbformat": 4,
 "nbformat_minor": 4
}
