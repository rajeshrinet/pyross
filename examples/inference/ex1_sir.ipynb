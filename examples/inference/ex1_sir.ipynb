{
 "cells": [
  {
   "cell_type": "code",
   "execution_count": 1,
   "metadata": {},
   "outputs": [],
   "source": [
    "%%capture\n",
    "## compile PyRoss for this notebook\n",
    "import os\n",
    "owd = os.getcwd()\n",
    "os.chdir('../../')\n",
    "%run setup.py install\n",
    "os.chdir(owd)"
   ]
  },
  {
   "cell_type": "code",
   "execution_count": 2,
   "metadata": {},
   "outputs": [],
   "source": [
    "%matplotlib inline\n",
    "import numpy as np\n",
    "from matplotlib import pyplot as plt\n",
    "import pyross\n",
    "import time "
   ]
  },
  {
   "cell_type": "code",
   "execution_count": 3,
   "metadata": {},
   "outputs": [],
   "source": [
    "M  = 2                  # the population has two age groups\n",
    "N  =  5e4           # and this is the total population\n",
    "\n",
    "# correct params\n",
    "\n",
    "beta  = 0.02         # infection rate\n",
    "gIa   = 1./7            # recovery rate of asymptomatic infectives\n",
    "gIs   = 1./7            # recovery rate of asymptomatic infectives\n",
    "alpha = 0.2          # fraction of asymptomatic infectives\n",
    "fsa   = 0.8          # the self-isolation parameter\n",
    "\n",
    "# set the age structure\n",
    "fi = np.array([0.25, 0.75])  # fraction of population in age age group\n",
    "Ni = N*fi\n",
    "\n",
    "# set the contact structure\n",
    "C = np.array([[18., 9.], [3., 12.]])\n",
    "\n",
    "# set up initial condition\n",
    "Ia0 = np.array([10, 10])  # each age group has asymptomatic infectives\n",
    "Is0 = np.array([10, 10])   # and also symptomatic infectives\n",
    "R0  = np.array([0, 0])  # there are no recovered individuals initially\n",
    "S0  = Ni - (Ia0 + Is0 + R0)\n",
    "\n",
    "Tf = 100\n",
    "Nf = Tf+1\n",
    "\n",
    "def contactMatrix(t):\n",
    "    return C\n",
    "\n",
    "parameters = {'alpha':alpha, 'beta':beta, 'gIa':gIa, 'gIs':gIs,'fsa':fsa}\n",
    "\n",
    "# use pyross stochastic to generate traj and save \n",
    "sto_model = pyross.stochastic.SIR(parameters, M, Ni)\n",
    "data = sto_model.simulate(S0, Ia0, Is0, contactMatrix, Tf, Nf)\n",
    "data_array = data['X']\n",
    "np.save('SIR_sto_traj.npy', data_array)"
   ]
  },
  {
   "cell_type": "code",
   "execution_count": 4,
   "metadata": {},
   "outputs": [
    {
     "data": {
      "image/png": "[encoded data removed]",
      "text/plain": [
       "<Figure size 432x288 with 1 Axes>"
      ]
     },
     "metadata": {
      "needs_background": "light"
     },
     "output_type": "display_data"
    }
   ],
   "source": [
    "plt.plot(data_array[:, 0], label='S')\n",
    "plt.plot(data_array[:, M], label='Ia')\n",
    "plt.plot(data_array[:, 2*M], label='Is')\n",
    "plt.legend()\n",
    "plt.show()"
   ]
  },
  {
   "cell_type": "code",
   "execution_count": 5,
   "metadata": {},
   "outputs": [
    {
     "name": "stdout",
     "output_type": "stream",
     "text": [
      "-2116.698339191044\n",
      "0.3368520736694336\n"
     ]
    }
   ],
   "source": [
    "# load the data and rescale to intensive variables \n",
    "Tf = 50 # truncate to only getting the first few datapoints \n",
    "Nf = Tf+1\n",
    "\n",
    "x = np.load('SIR_sto_traj.npy').astype('float')\n",
    "x = (x/N)[:Nf]\n",
    "steps = 101 # number internal integration steps taken, must be an odd number \n",
    "\n",
    "\n",
    "# initialise the estimator \n",
    "estimator = pyross.inference.SIR(parameters, M, fi, int(N), steps)\n",
    "\n",
    "# compute -log_p for the original (correct) parameters \n",
    "start_time = time.time() \n",
    "parameters = {'alpha':alpha, 'beta':beta, 'gIa':gIa, 'gIs':gIs,'fsa':fsa}\n",
    "logp = estimator.obtain_minus_log_p(parameters, x, Tf, Nf, contactMatrix)\n",
    "end_time = time.time()\n",
    "print(logp) \n",
    "print(end_time - start_time)"
   ]
  },
  {
   "cell_type": "code",
   "execution_count": 6,
   "metadata": {},
   "outputs": [
    {
     "name": "stdout",
     "output_type": "stream",
     "text": [
      "50589.08100075516\n"
     ]
    }
   ],
   "source": [
    "# take a guess \n",
    "beta_g = 0.1\n",
    "gIa_g = 0.14\n",
    "gIs_g = 0.2\n",
    "alpha_g = 0.3\n",
    "\n",
    "# compute -log_p for the initial guess \n",
    "parameters = {'alpha':alpha_g, 'beta':beta_g, 'gIa':gIa_g, 'gIs':gIs_g,'fsa':fsa}\n",
    "logp = estimator.obtain_minus_log_p(parameters, x, Tf, Nf, contactMatrix)\n",
    "print(logp) "
   ]
  },
  {
   "cell_type": "code",
   "execution_count": 7,
   "metadata": {
    "scrolled": true
   },
   "outputs": [
    {
     "name": "stdout",
     "output_type": "stream",
     "text": [
      "parameters: [0.3  0.1  0.14 0.2 ]\n",
      "basinhopping step 0: f 50583.7\n",
      "parameters: [0.23653301 0.11513529 0.2914322  0.28862718]\n",
      "parameters: [0.22255192 0.09141555 0.30904947 0.30315796]\n",
      "parameters: [0.25276348 0.03037363 0.26534804 0.24342192]\n",
      "parameters: [0.2784713  0.02030371 0.22966156 0.20160725]\n",
      "parameters: [0.31445947 0.02041024 0.18038344 0.14648448]\n",
      "parameters: [0.29878734 0.01938876 0.19146728 0.12362485]\n",
      "parameters: [0.2864647  0.02022799 0.20459658 0.12621503]\n",
      "parameters: [0.27975085 0.01984689 0.21196796 0.12862429]\n",
      "parameters: [0.28088544 0.02002172 0.21045523 0.12727795]\n",
      "parameters: [0.2810249  0.02002194 0.21028823 0.12736055]\n",
      "parameters: [0.27474642 0.02001914 0.20215281 0.12975944]\n",
      "parameters: [0.22427296 0.01999585 0.15434929 0.14206696]\n",
      "parameters: [0.19445664 0.0199926  0.13633961 0.14633768]\n",
      "parameters: [0.19374774 0.02000079 0.13895428 0.14440988]\n",
      "parameters: [0.194148   0.01999714 0.13856578 0.14395511]\n",
      "basinhopping step 1: f -2123.67 trial_f -2123.67 accepted 1  lowest_f -2123.67\n",
      "found new global minimum on step 1 with function value -2123.67\n",
      "[0.194148   0.01999714 0.13856578 0.14395511]\n",
      "1\n",
      "51.101552963256836\n"
     ]
    }
   ],
   "source": [
    "# inference \n",
    "\n",
    "eps = 1e-4 \n",
    "ftol = 1e-5\n",
    "guess = np.array([alpha_g, beta_g, gIa_g, gIs_g])\n",
    "bounds = np.array([(eps, 0.8), (eps, 0.2), (eps, 0.6), (eps, 0.6)]) # give some bounds\n",
    "stds = np.array([0.2, 0.1, 0.05, 0.1])\n",
    "start_time = time.time() \n",
    "params, nit = estimator.inference(guess, stds, x, Tf, Nf, contactMatrix, \n",
    "                                  niter=1, bounds=bounds, \n",
    "                                  eps=eps, ftol=ftol, verbose=True)\n",
    "# sometimes produce errors if input is bad, ignore and let basinhopping do its magic\n",
    "end_time = time.time()\n",
    "print(params) # best guess \n",
    "print(nit) # number of iterations of the optimization run \n",
    "print(end_time - start_time)"
   ]
  },
  {
   "cell_type": "code",
   "execution_count": 11,
   "metadata": {},
   "outputs": [
    {
     "name": "stdout",
     "output_type": "stream",
     "text": [
      "-2117.13682484258\n",
      "0.3268167972564697\n"
     ]
    }
   ],
   "source": [
    "# compute log_p for best estimate \n",
    "start_time = time.time() \n",
    "parameters = {'alpha': params[0], 'beta': params[1], 'gIa': params[2], 'gIs': params[3],'fsa':fsa}\n",
    "logp = estimator.obtain_minus_log_p(parameters, x, Tf, Nf, contactMatrix)\n",
    "end_time = time.time()\n",
    "print(logp) \n",
    "print(end_time - start_time)"
   ]
  },
  {
   "cell_type": "code",
   "execution_count": 12,
   "metadata": {},
   "outputs": [],
   "source": [
    "hess = estimator.hessian(params, x, Tf, Nf, contactMatrix)\n",
    "cov = np.linalg.inv(hess)"
   ]
  },
  {
   "cell_type": "code",
   "execution_count": 10,
   "metadata": {},
   "outputs": [
    {
     "name": "stdout",
     "output_type": "stream",
     "text": [
      "[[ 3.86159192e-05 -2.00170256e-09  2.83198890e-05 -7.04324469e-06]\n",
      " [-2.00170256e-09  1.28511908e-08 -1.34710373e-09  6.73888117e-10]\n",
      " [ 2.83198890e-05 -1.34710373e-09  2.65634302e-05 -5.81418124e-06]\n",
      " [-7.04324469e-06  6.73888117e-10 -5.81418124e-06  2.26869564e-06]]\n"
     ]
    }
   ],
   "source": [
    "print(cov)"
   ]
  },
  {
   "cell_type": "code",
   "execution_count": null,
   "metadata": {},
   "outputs": [],
   "source": []
  }
 ],
 "metadata": {
  "kernelspec": {
   "display_name": "Python 3",
   "language": "python",
   "name": "python3"
  },
  "language_info": {
   "codemirror_mode": {
    "name": "ipython",
    "version": 3
   },
   "file_extension": ".py",
   "mimetype": "text/x-python",
   "name": "python",
   "nbconvert_exporter": "python",
   "pygments_lexer": "ipython3",
   "version": "3.7.6"
  }
 },
 "nbformat": 4,
 "nbformat_minor": 4
}
