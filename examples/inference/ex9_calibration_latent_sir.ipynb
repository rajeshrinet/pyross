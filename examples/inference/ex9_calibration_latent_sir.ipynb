{
 "cells": [
  {
   "cell_type": "code",
   "execution_count": 1,
   "metadata": {},
   "outputs": [],
   "source": [
    "%%capture\n",
    "## compile PyRoss for this notebook\n",
    "import os\n",
    "owd = os.getcwd()\n",
    "os.chdir('../../')\n",
    "%run setup.py install\n",
    "os.chdir(owd)"
   ]
  },
  {
   "cell_type": "code",
   "execution_count": 2,
   "metadata": {},
   "outputs": [],
   "source": [
    "%matplotlib inline\n",
    "import numpy as np\n",
    "import pyross\n",
    "import pandas as pd\n",
    "import time \n",
    "import matplotlib.pyplot as plt\n",
    "from scipy.io import loadmat"
   ]
  },
  {
   "cell_type": "code",
   "execution_count": 3,
   "metadata": {},
   "outputs": [],
   "source": [
    "## population and age classes\n",
    "M=4  ## number of age classes\n",
    "\n",
    "my_data = np.genfromtxt('../data/age_structures/India-2019.csv', delimiter=',', skip_header=1)\n",
    "aM, aF = my_data[:, 1], my_data[:, 2]\n",
    "\n",
    "Ni0=aM+aF;   Ni=np.zeros((M))\n",
    "\n",
    "# scale the population down to a more manageble level \n",
    "Ni[0] = (np.sum(Ni0[0:4])/1e4).astype('int')\n",
    "Ni[1] = (np.sum(Ni0[4:8])/1e4).astype('int')\n",
    "Ni[2] = (np.sum(Ni0[8:12])/1e4).astype('int')\n",
    "Ni[3] = (np.sum(Ni0[12:16])/1e4).astype('int')\n",
    "N=np.sum(Ni)\n",
    "fi = Ni/N \n",
    "\n",
    "# Get individual contact matrices\n",
    "CH0, CW0, CS0, CO0 = pyross.contactMatrix.India()\n",
    "\n",
    "\n",
    "CH = np.zeros((M, M))\n",
    "CW = np.zeros((M, M))\n",
    "CS = np.zeros((M, M))\n",
    "CO = np.zeros((M, M))\n",
    "\n",
    "\n",
    "for i in range(M):\n",
    "    for j in range(M):\n",
    "        i1, j1 = i*4, j*4\n",
    "        CH[i,j] = np.sum( CH0[i1:i1+4, j1:j1+4] )\n",
    "        CW[i,j] = np.sum( CW0[i1:i1+4, j1:j1+4] )\n",
    "        CS[i,j] = np.sum( CS0[i1:i1+4, j1:j1+4] )\n",
    "        CO[i,j] = np.sum( CO0[i1:i1+4, j1:j1+4] )"
   ]
  },
  {
   "cell_type": "code",
   "execution_count": 4,
   "metadata": {},
   "outputs": [],
   "source": [
    "# Generate class with contact matrix for SIR model with UK contact structure\n",
    "generator = pyross.contactMatrix.SIR(CH, CW, CS, CO)\n",
    "\n",
    "times= [20] # temporal boundaries between different contact-behaviour\n",
    "\n",
    "aW, aS, aO = 0.7, 0.6, 0.5\n",
    "\n",
    "# prefactors for CW, CS, CO:\n",
    "interventions = [[1.0,1.0,1.0],      # before first time\n",
    "                 [aW, aS, aO],       # after first time\n",
    "                ]         \n",
    "\n",
    "# generate corresponding contact matrix function\n",
    "C = generator.interventions_temporal(times=times,interventions=interventions)"
   ]
  },
  {
   "cell_type": "code",
   "execution_count": 6,
   "metadata": {},
   "outputs": [],
   "source": [
    "beta  = 0.00454      # contact rate parameter\n",
    "gIa   = 1./7            # recovery rate of asymptomatic infectives \n",
    "gIs   = 1./7            # recovery rate of symptomatic infectives \n",
    "alpha = 0.2              # asymptomatic fraction\n",
    "fsa   = 0.8               # suppresion of contact by symptomatics\n",
    "\n",
    "\n",
    "# initial conditions    \n",
    "Is_0 = np.ones(M)*100\n",
    "Is_0[1] += 100 #make one group different \n",
    "Ia_0 = np.ones((M))*20\n",
    "# Ia_0[1] += 20\n",
    "R_0  = np.zeros((M))\n",
    "S_0  = Ni - (Ia_0 + Is_0 + R_0)\n",
    "\n",
    "\n",
    "parameters = {'alpha':alpha,'beta':beta, 'gIa':gIa,'gIs':gIs,'fsa':fsa}\n",
    "model = pyross.stochastic.SIR(parameters, M, Ni)\n",
    "\n",
    "contactMatrix=C\n",
    "\n",
    "# start simulation\n",
    "Tf=80;  Nf=Tf+1 \n",
    "data=model.simulate(S_0, Ia_0, Is_0, contactMatrix, Tf, Nf)\n",
    "np.save('cal_lat_SIR_traj.npy', data['X'])"
   ]
  },
  {
   "cell_type": "code",
   "execution_count": 7,
   "metadata": {},
   "outputs": [
    {
     "data": {
      "image/png": "[encoded data removed]",
      "text/plain": [
       "<Figure size 432x288 with 1 Axes>"
      ]
     },
     "metadata": {
      "needs_background": "light"
     },
     "output_type": "display_data"
    }
   ],
   "source": [
    "IC  = np.zeros((Nf))\n",
    "for i in range(M):\n",
    "        IC += data['X'][:,2*M+i] \n",
    "t = data['t']\n",
    "plt.plot(t, IC)\n",
    "plt.show() "
   ]
  },
  {
   "cell_type": "markdown",
   "metadata": {},
   "source": [
    "### Compare the deterministic trajectory and the stochastic one before intervention"
   ]
  },
  {
   "cell_type": "code",
   "execution_count": 8,
   "metadata": {},
   "outputs": [
    {
     "data": {
      "image/png": "[encoded data removed]",
      "text/plain": [
       "<Figure size 432x288 with 1 Axes>"
      ]
     },
     "metadata": {
      "needs_background": "light"
     },
     "output_type": "display_data"
    }
   ],
   "source": [
    "Tf_initial = 20 # truncate to only getting the first few datapoints \n",
    "Nf_initial = Tf_initial+1\n",
    "\n",
    "x = np.load('cal_lat_SIR_traj.npy')\n",
    "x = (x/N)[:Nf_initial]\n",
    "steps = 101 # number internal integration steps taken\n",
    "\n",
    "fltr=np.repeat(np.array([False, False, True]), M)\n",
    "obs=x[:, fltr] \n",
    "\n",
    "contactMatrix = generator.constant_contactMatrix()\n",
    "det_model = pyross.deterministic.SIR(parameters, int(M), fi)\n",
    "estimator = pyross.inference.SIR(parameters, M, fi, int(N), steps)\n",
    "xm,full_cov = estimator.obtain_full_mean_cov(x[0], Tf_initial, Nf_initial, det_model, contactMatrix)\n",
    "t = np.linspace(1, Tf_initial, Nf_initial-1)\n",
    "plt.plot(t, x[1:,2*M])\n",
    "plt.plot(t, xm[:,2*M])\n",
    "plt.show()"
   ]
  },
  {
   "cell_type": "code",
   "execution_count": 9,
   "metadata": {},
   "outputs": [
    {
     "name": "stdout",
     "output_type": "stream",
     "text": [
      "-659.9351633652395\n",
      "0.4987318515777588\n"
     ]
    }
   ],
   "source": [
    "# initialise the estimator \n",
    "estimator = pyross.inference.SIR(parameters, M, fi, int(N), steps)\n",
    "\n",
    "# compute -log_p for the original (correct) parameters \n",
    "start_time = time.time() \n",
    "parameters = {'alpha':alpha, 'beta':beta, 'gIa':gIa, 'gIs':gIs,'fsa':fsa}\n",
    "logp = estimator.minus_logp_red(parameters, x[0], obs[1:], fltr, Tf_initial, Nf_initial, contactMatrix)\n",
    "end_time = time.time()\n",
    "print(logp) \n",
    "print(end_time - start_time)"
   ]
  },
  {
   "cell_type": "code",
   "execution_count": 10,
   "metadata": {
    "scrolled": true
   },
   "outputs": [
    {
     "name": "stdout",
     "output_type": "stream",
     "text": [
      "[0.00014778 0.00014778 0.00014778 0.00014778] [(7.389180761528969e-06, 0.00738918076152897), (7.389180761528969e-06, 0.00738918076152897), (7.389180761528969e-06, 0.00738918076152897), (7.389180761528969e-06, 0.00738918076152897)]\n",
      "[True, True, True, True, True, True, True, True, True, True, True, True, True, True, True, True]\n",
      "Starting global minimisation...\n",
      "(8_w,16)-aCMA-ES (mu_w=4.8,w_1=32%) in dimension 16 (seed=494541, Fri May  1 12:01:21 2020)\n",
      "Iterat #Fevals   function value  axis ratio  sigma  min&max std  t[m:s]\n",
      "    1     16 -7.473798568962123e+02 1.0e+00 9.21e-01  3e-04  3e-04 0:08.4\n",
      "    2     32 -7.530259130586445e+02 1.1e+00 9.17e-01  3e-04  3e-04 0:15.9\n",
      "    3     48 -7.545973565445134e+02 1.2e+00 9.04e-01  3e-04  3e-04 0:22.9\n",
      "    4     64 -7.539462156937094e+02 1.3e+00 8.90e-01  3e-04  3e-04 0:29.7\n",
      "    5     80 -7.543444223804753e+02 1.3e+00 8.20e-01  3e-04  3e-04 0:36.6\n",
      "    6     96 -7.545263869143000e+02 1.3e+00 7.67e-01  2e-04  3e-04 0:43.7\n",
      "    7    112 -7.547837877915508e+02 1.3e+00 6.80e-01  2e-04  2e-04 0:50.4\n",
      "    8    128 -7.545926667792581e+02 1.4e+00 6.46e-01  2e-04  2e-04 0:57.6\n",
      "   10    160 -7.548505500120248e+02 1.4e+00 5.97e-01  2e-04  2e-04 1:12.4\n",
      "   12    192 -7.548787484038908e+02 1.5e+00 5.16e-01  1e-04  2e-04 1:28.0\n",
      "   14    224 -7.545540967121697e+02 1.6e+00 4.80e-01  1e-04  2e-04 1:42.8\n",
      "   16    256 -7.548763603099410e+02 1.7e+00 4.21e-01  1e-04  1e-04 1:57.8\n",
      "   18    288 -7.549099776141040e+02 1.8e+00 3.84e-01  9e-05  1e-04 2:12.9\n",
      "   20    320 -7.549896699871529e+02 1.9e+00 3.60e-01  8e-05  1e-04 2:27.7\n",
      "   22    352 -7.549222777997284e+02 2.0e+00 3.57e-01  7e-05  1e-04 2:42.4\n",
      "   25    400 -7.549955063025917e+02 2.1e+00 3.39e-01  6e-05  1e-04 3:03.9\n",
      "   28    448 -7.550274990703084e+02 2.4e+00 3.04e-01  5e-05  1e-04 3:26.4\n",
      "   31    496 -7.550239991188786e+02 2.8e+00 2.88e-01  4e-05  1e-04 3:48.5\n",
      "   34    544 -7.550599847753983e+02 3.0e+00 2.40e-01  3e-05  9e-05 4:10.7\n",
      "   37    592 -7.550859349062052e+02 3.3e+00 2.14e-01  3e-05  8e-05 4:33.3\n",
      "   40    640 -7.550801242459233e+02 3.7e+00 1.85e-01  2e-05  7e-05 4:57.9\n",
      "   43    688 -7.550797232341881e+02 4.0e+00 1.74e-01  2e-05  7e-05 5:19.8\n",
      "   46    736 -7.550849438234075e+02 4.3e+00 1.68e-01  2e-05  6e-05 5:41.9\n",
      "   50    800 -7.551044632800588e+02 5.0e+00 1.47e-01  1e-05  5e-05 6:11.1\n",
      "   54    864 -7.551014207697482e+02 5.7e+00 1.20e-01  9e-06  4e-05 6:40.5\n",
      "Optimal value (global minimisation):  -755.1044632800588\n",
      "Starting local minimisation...\n",
      "Optimal value (local minimisation):  -755.1057366804831\n"
     ]
    }
   ],
   "source": [
    "# take a guess \n",
    "beta_g = 0.005\n",
    "gIa_g = 0.15\n",
    "gIs_g = 0.15\n",
    "alpha_g = 0.25\n",
    "guess = np.array([alpha_g, beta_g, gIa_g, gIs_g])\n",
    "\n",
    "\n",
    "\n",
    "eps = 1e-3 # step used to calculate hessian in the optimisation algorithm \n",
    "\n",
    "alpha_g = 0.25\n",
    "alpha_bounds = (0.1, 0.4)\n",
    "# the bound for alpha must be 1-2*eps to avoid alpha>1 in hessian calculation performed by optimizer \n",
    "\n",
    "beta_g = 0.005\n",
    "beta_bounds = (1e-3, 0.01)\n",
    "\n",
    "gIa_g = 0.12\n",
    "gIa_bounds = (0.1, 0.2)\n",
    "\n",
    "gIs_g = 0.14\n",
    "gIs_bounds = (0.13, 0.15) \n",
    "\n",
    "fsa_g = 0.8\n",
    "\n",
    "Is0_g = Is_0/N \n",
    "bounds_for_Is = [(1/N, 1200/N)]*M \n",
    "bounds_for_Is[1] = (180/N, 220/N)\n",
    "\n",
    "Ia0_g = (Ia_0)/N\n",
    "bounds_for_Ia = [(1/N, 1000/N)]*M\n",
    "print(Ia0_g, bounds_for_Ia)\n",
    "\n",
    "S0_g = S_0/N\n",
    "bounds_for_S = [(fi[i]-400/N, fi[i]-bounds_for_Is[i][0]/N) for i in range(M)]\n",
    "\n",
    "\n",
    "# optimisation parameters \n",
    "ftol = 1e-4 # the relative tol in (-logp)  \n",
    "bounds = np.array([alpha_bounds, beta_bounds, gIa_bounds, gIs_bounds, \n",
    "                   *bounds_for_S, *bounds_for_Ia, *bounds_for_Is])\n",
    "guess = np.array([alpha_g, beta_g, gIa_g, gIs_g, *S0_g, *Ia0_g, *Is0_g])\n",
    "sigma = .001*np.ones(guess.shape)\n",
    "print([bounds[i,0]<guess[i]<bounds[i,1] for i in range(len(guess))])\n",
    "params = estimator.latent_inference(guess,sigma, obs, fltr, Tf_initial, Nf_initial, contactMatrix,\n",
    "                                    bounds, beta_rescale=1, verbose=True, niter=2, ftol=ftol, eps=eps,\n",
    "                                   global_max_iter=15)\n",
    "# the L-BFGS-B method prints to the terminal rather than here "
   ]
  },
  {
   "cell_type": "code",
   "execution_count": 11,
   "metadata": {},
   "outputs": [],
   "source": [
    "# save the parameters \n",
    "np.save('SIR_cal_lat_param.npy', params)"
   ]
  },
  {
   "cell_type": "code",
   "execution_count": 12,
   "metadata": {
    "scrolled": true
   },
   "outputs": [
    {
     "data": {
      "image/png": "[encoded data removed]",
      "text/plain": [
       "<Figure size 432x288 with 1 Axes>"
      ]
     },
     "metadata": {
      "needs_background": "light"
     },
     "output_type": "display_data"
    }
   ],
   "source": [
    "# check the predictions \n",
    "params = np.load('SIR_cal_lat_param.npy')\n",
    "x = np.load('cal_lat_SIR_traj.npy')/N\n",
    "parameters = {'alpha':params[0], 'beta':params[1], 'gIa':params[2], 'gIs':params[3],'fsa':0.8}\n",
    "estimator.set_params(parameters)\n",
    "x0 = params[len(parameters)-1:]\n",
    "det_model = pyross.deterministic.SIR(parameters, M, fi)\n",
    "contactMatrix = generator.constant_contactMatrix()\n",
    "x_det = estimator.integrate(x0, 0, Tf_initial, Nf_initial, det_model, contactMatrix)\n",
    "plt.plot(x[:Nf_initial,1*M+1], label='Ia')\n",
    "plt.plot(x_det[:, 1*M+1])\n",
    "plt.plot(x[:Nf_initial,2*M], label='Is')\n",
    "plt.plot(x_det[:, 2*M])\n",
    "plt.legend()\n",
    "plt.show()"
   ]
  },
  {
   "cell_type": "code",
   "execution_count": 13,
   "metadata": {},
   "outputs": [
    {
     "name": "stdout",
     "output_type": "stream",
     "text": [
      "-1804.2090634322553\n"
     ]
    }
   ],
   "source": [
    "aW_g = 0.6 \n",
    "aW_bounds = [0.2, 0.8]\n",
    "aS_g = 0.6\n",
    "aS_bounds = [0.2, 0.8]\n",
    "aO_g = 0.6\n",
    "aO_bounds = [0.2, 0.8]\n",
    "guess = np.array([aW_g, aS_g, aO_g])\n",
    "bounds = np.array([aW_bounds, aS_bounds, aO_bounds])\n",
    "\n",
    "x = np.load('cal_lat_SIR_traj.npy')/N\n",
    "x = x[Nf_initial:]\n",
    "obs = x[:, fltr]\n",
    "Nf_control = x.shape[0] \n",
    "Tf_control = Nf_control-1 \n",
    "\n",
    "det_model = pyross.deterministic.SIR(parameters, M, fi)\n",
    "contactMatrix = generator.constant_contactMatrix()\n",
    "x0 = estimator.integrate(params[-3*M:], 0, Tf_initial, 2, det_model, contactMatrix)[-1]\n",
    "x0 = np.array(x0)\n",
    "times = [Tf+1]\n",
    "interventions = [[aW, aS, aO]]\n",
    "contactMatrix = generator.interventions_temporal(times=times,interventions=interventions)\n",
    "\n",
    "# compute -log_p for the initial guess (for the moment, use correct parameters)\n",
    "parameters = estimator.make_params_dict(params)\n",
    "logp = estimator.minus_logp_red(parameters, x0, obs[1:], fltr, Tf_control, Nf_control, contactMatrix)\n",
    "print(logp) "
   ]
  },
  {
   "cell_type": "code",
   "execution_count": null,
   "metadata": {},
   "outputs": [
    {
     "name": "stdout",
     "output_type": "stream",
     "text": [
      "Starting global minimisation...\n",
      "(8_w,16)-aCMA-ES (mu_w=4.8,w_1=32%) in dimension 3 (seed=462606, Fri May  1 12:08:45 2020)\n",
      "Iterat #Fevals   function value  axis ratio  sigma  min&max std  t[m:s]\n",
      "    1     16 -1.795392937264768e+03 1.0e+00 1.09e+00  6e-02  9e-02 0:25.8\n",
      "    2     32 -1.812899382541421e+03 1.8e+00 1.23e+00  8e-02  9e-02 0:51.2\n",
      "    3     48 -1.820068035845389e+03 2.0e+00 1.51e+00  9e-02  1e-01 1:15.9\n",
      "    4     64 -1.816114870994217e+03 1.9e+00 1.57e+00  9e-02  1e-01 1:40.4\n",
      "    5     80 -1.819010914198610e+03 2.2e+00 1.61e+00  8e-02  1e-01 2:05.5\n",
      "    6     96 -1.820683413243682e+03 2.0e+00 1.25e+00  5e-02  8e-02 2:30.6\n",
      "    7    112 -1.819737224361263e+03 2.7e+00 1.05e+00  4e-02  6e-02 2:54.5\n",
      "    8    128 -1.820547966525437e+03 3.4e+00 8.72e-01  3e-02  5e-02 3:16.9\n",
      "    9    144 -1.820378259998566e+03 3.7e+00 6.57e-01  2e-02  3e-02 3:39.8\n",
      "   10    160 -1.820666515637570e+03 4.3e+00 5.59e-01  2e-02  3e-02 4:02.2\n",
      "   11    176 -1.820766664403147e+03 4.7e+00 4.82e-01  1e-02  2e-02 4:24.5\n",
      "   12    192 -1.820813003253776e+03 4.3e+00 3.95e-01  9e-03  1e-02 4:46.7\n",
      "   13    208 -1.820769107206112e+03 5.5e+00 2.83e-01  6e-03  9e-03 5:10.1\n",
      "   14    224 -1.820798878050217e+03 5.6e+00 2.60e-01  5e-03  8e-03 5:32.0\n"
     ]
    }
   ],
   "source": [
    "eps = 1e-3 \n",
    "start_time = time.time() \n",
    "\n",
    "parameters = estimator.make_params_dict(params)\n",
    "estimator.set_params(parameters) \n",
    "control_params = estimator.latent_infer_control(guess,.1*np.ones(guess.shape), x0, obs, fltr, Tf_control, Nf_control, generator, bounds,\n",
    "                                  niter=2, eps=eps, verbose=True, global_max_iter=15)\n",
    "end_time = time.time()\n",
    "print(control_params) # best guess \n",
    "print(end_time - start_time)"
   ]
  },
  {
   "cell_type": "code",
   "execution_count": null,
   "metadata": {},
   "outputs": [],
   "source": [
    "times = [20]\n",
    "interventions = [[1.0,1.0,1.0],      # before first time\n",
    "                 control_params,       # after first time\n",
    "                ]         \n",
    "\n",
    "# compare the true trajectory with the \n",
    "contactMatrix = generator.interventions_temporal(times=times,interventions=interventions)\n",
    "det_model = pyross.deterministic.SIR(parameters, M, fi)\n",
    "x0 = params[len(parameters)-1:]\n",
    "x_det = estimator.integrate(x0, 0, Tf, Nf, det_model, contactMatrix)\n",
    "x = np.load('cal_lat_SIR_traj.npy')/N\n",
    "plt.plot(x[:,1*M], label='Ia')\n",
    "plt.plot(x_det[:, 1*M])\n",
    "plt.plot(x[:,2*M], label='Is')\n",
    "plt.plot(x_det[:, 2*M])\n",
    "plt.legend()\n",
    "plt.show()"
   ]
  },
  {
   "cell_type": "code",
   "execution_count": null,
   "metadata": {},
   "outputs": [],
   "source": []
  }
 ],
 "metadata": {
  "kernelspec": {
   "display_name": "Python 3",
   "language": "python",
   "name": "python3"
  },
  "language_info": {
   "codemirror_mode": {
    "name": "ipython",
    "version": 3
   },
   "file_extension": ".py",
   "mimetype": "text/x-python",
   "name": "python",
   "nbconvert_exporter": "python",
   "pygments_lexer": "ipython3",
   "version": "3.6.9"
  }
 },
 "nbformat": 4,
 "nbformat_minor": 4
}
