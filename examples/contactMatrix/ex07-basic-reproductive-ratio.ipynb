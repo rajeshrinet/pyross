{
 "cells": [
  {
   "cell_type": "code",
   "execution_count": 1,
   "metadata": {},
   "outputs": [],
   "source": [
    "import numpy as np\n",
    "import pyross\n",
    "import matplotlib.pyplot as plt\n",
    "from matplotlib import rc; rc('text', usetex=True)"
   ]
  },
  {
   "cell_type": "markdown",
   "metadata": {},
   "source": [
    "## Age-structures"
   ]
  },
  {
   "cell_type": "code",
   "execution_count": 2,
   "metadata": {},
   "outputs": [],
   "source": [
    "M=16  ## number of age classes\n",
    "\n",
    "my_data = np.genfromtxt('../data/age_structures/Denmark-2019.csv', delimiter=',', skip_header=1)\n",
    "aM, aF = my_data[:, 1], my_data[:, 2]\n",
    "\n",
    "deM, deF = aM, aF\n",
    "\n",
    "my_data = np.genfromtxt('../data/age_structures/UK.csv', delimiter=',', skip_header=1)\n",
    "aM, aF = my_data[:, 1], my_data[:, 2]\n",
    "\n",
    "ukM, ukF = aM, aF"
   ]
  },
  {
   "cell_type": "markdown",
   "metadata": {},
   "source": [
    "## Contact structures"
   ]
  },
  {
   "cell_type": "code",
   "execution_count": 3,
   "metadata": {},
   "outputs": [],
   "source": [
    "deCH, deCW, deCS, deCO = pyross.contactMatrix.Denmark()\n",
    "ukCH, ukCW, ukCS, ukCO = pyross.contactMatrix.UK()"
   ]
  },
  {
   "cell_type": "markdown",
   "metadata": {},
   "source": [
    "### Using age and contact structures of the UK to evaluate $\\mathcal R_0$"
   ]
  },
  {
   "cell_type": "code",
   "execution_count": 4,
   "metadata": {},
   "outputs": [
    {
     "name": "stdout",
     "output_type": "stream",
     "text": [
      "The basic reproductive ratio for these parameters is (81.75599325460377+0j)\n"
     ]
    }
   ],
   "source": [
    "aH, aW, aS, aO = 1, 1, 1, 1\n",
    "CH, CW, CS, CO = aH*ukCH, aW*ukCW, aS*ukCS, aO*ukCO\n",
    "\n",
    "Ni = (ukM + ukF)[0:M]\n",
    "\n",
    "beta  = 1               # the probability of infection on contact\n",
    "gIa   = 1./7            # removal rate of asymptomatic infectives \n",
    "gIs   = 1./7            # removal rate of symptomatic infectives \n",
    "alpha = 0.              # asymptomatic fraction\n",
    "fsa   = 1               # Fraction by which symptomatic individuals do not self isolate\n",
    "\n",
    "\n",
    "parameters = {'alpha':alpha,'beta':beta, 'gIa':gIa,'gIs':gIs,'fsa':fsa, 'M':M, 'Ni':Ni}\n",
    "\n",
    "contactMatrix = pyross.contactMatrix.SIR(CH, CW, CS, CO)\n",
    "r0UK = contactMatrix.basicReproductiveRatio(parameters)\n",
    "\n",
    "print(\"The basic reproductive ratio for these parameters is\", r0UK)"
   ]
  },
  {
   "cell_type": "code",
   "execution_count": 5,
   "metadata": {},
   "outputs": [
    {
     "name": "stdout",
     "output_type": "stream",
     "text": [
      "The basic reproductive ratio for these parameters is (20.912984286140574+0j)\n"
     ]
    }
   ],
   "source": [
    "#now keep contacts only at home and evaluate r_0\n",
    "aH, aW, aS, aO = 1, 0, 0, 0\n",
    "CH, CW, CS, CO = aH*ukCH, aW*ukCW, aS*ukCS, aO*ukCO\n",
    "\n",
    "Ni = (ukM + ukF)[0:M]\n",
    "\n",
    "beta  = 1               # the probability of infection on contact\n",
    "gIa   = 1./7            # removal rate of asymptomatic infectives \n",
    "gIs   = 1./7            # removal rate of symptomatic infectives \n",
    "alpha = 0.              # asymptomatic fraction\n",
    "fsa   = 1               # suppresion of contact by symptomatics\n",
    "\n",
    "\n",
    "parameters = {'alpha':alpha,'beta':beta, 'gIa':gIa,'gIs':gIs,'fsa':fsa, 'M':M, 'Ni':Ni}\n",
    "\n",
    "contactMatrix = pyross.contactMatrix.SIR(CH, CW, CS, CO)\n",
    "r0UK = contactMatrix.basicReproductiveRatio(parameters)\n",
    "\n",
    "print(\"The basic reproductive ratio for these parameters is\", r0UK)"
   ]
  },
  {
   "cell_type": "markdown",
   "metadata": {},
   "source": [
    "### Using age and contact structures of Denmark to evaluate $\\mathcal R_0$"
   ]
  },
  {
   "cell_type": "code",
   "execution_count": 6,
   "metadata": {},
   "outputs": [
    {
     "name": "stdout",
     "output_type": "stream",
     "text": [
      "The basic reproductive ratio for these parameters is (104.27730171963239+0j)\n"
     ]
    }
   ],
   "source": [
    "aH, aW, aS, aO = 1, 1, 1, 1\n",
    "CH, CW, CS, CO = aH*deCH, aW*deCW, aS*deCS, aO*deCO\n",
    "\n",
    "Ni = (deM + deF)[0:M]\n",
    "\n",
    "beta  = 1               # the probability of infection on contact\n",
    "gIa   = 1./7            # removal rate of asymptomatic infectives \n",
    "gIs   = 1./7            # removal rate of symptomatic infectives \n",
    "alpha = 0.              # asymptomatic fraction\n",
    "fsa   = 1               # suppresion of contact by symptomatics\n",
    "\n",
    "parameters = {'alpha':alpha,'beta':beta, 'gIa':gIa,'gIs':gIs,'fsa':fsa, 'M':M, 'Ni':Ni}\n",
    "\n",
    "contactMatrix = pyross.contactMatrix.SIR(CH, CW, CS, CO)\n",
    "r0de = contactMatrix.basicReproductiveRatio(parameters)\n",
    "\n",
    "print(\"The basic reproductive ratio for these parameters is\", r0de)"
   ]
  },
  {
   "cell_type": "code",
   "execution_count": 7,
   "metadata": {},
   "outputs": [
    {
     "name": "stdout",
     "output_type": "stream",
     "text": [
      "The basic reproductive ratio for these parameters is (23.513382184542728+0j)\n"
     ]
    }
   ],
   "source": [
    "#now keep contacts only at home and evaluate r_0\n",
    "aH, aW, aS, aO = 1, 0, 0, 0\n",
    "CH, CW, CS, CO = aH*deCH, aW*deCW, aS*deCS, aO*deCO\n",
    "\n",
    "Ni = (deM + deF)[0:M]\n",
    "\n",
    "beta  = 1               # the probability of infection on contact\n",
    "gIa   = 1./7            # removal rate of asymptomatic infectives \n",
    "gIs   = 1./7            # removal rate of symptomatic infectives \n",
    "alpha = 0.              # asymptomatic fraction\n",
    "fsa   = 1               # suppresion of contact by symptomatics\n",
    "\n",
    "parameters = {'alpha':alpha,'beta':beta, 'gIa':gIa,'gIs':gIs,'fsa':fsa, 'M':M, 'Ni':Ni}\n",
    "\n",
    "contactMatrix = pyross.contactMatrix.SIR(CH, CW, CS, CO)\n",
    "r0de = contactMatrix.basicReproductiveRatio(parameters)\n",
    "\n",
    "print(\"The basic reproductive ratio for these parameters is\", r0de)"
   ]
  },
  {
   "cell_type": "markdown",
   "metadata": {},
   "source": [
    "## Basic reproductive ratio as a function of change in contacts"
   ]
  },
  {
   "cell_type": "code",
   "execution_count": 8,
   "metadata": {},
   "outputs": [
    {
     "name": "stdout",
     "output_type": "stream",
     "text": [
      "The basic reproductive ratio for these parameters is (81.75599325460377+0j)\n"
     ]
    }
   ],
   "source": [
    "M=16  ## number of age classes\n",
    "my_data = np.genfromtxt('../data/age_structures/UK.csv', delimiter=',', skip_header=1)\n",
    "ukM , ukF = my_data[:, 1], my_data[:, 2]\n",
    "Ni = (ukM + ukF)[0:M]\n",
    "\n",
    "# contact structure of the UK\n",
    "ukCH, ukCW, ukCS, ukCO = pyross.contactMatrix.UK()\n",
    "aH, aW, aS, aO = 1, 1, 1, 1\n",
    "CH, CW, CS, CO = aH*ukCH, aW*ukCW, aS*ukCS, aO*ukCO\n",
    " \n",
    "    \n",
    "beta  = 1               # the probability of infection on contact\n",
    "gIa   = 1./7            # removal rate of asymptomatic infectives \n",
    "gIs   = 1./7            # removal rate of symptomatic infectives \n",
    "alpha = 0.              # asymptomatic fraction\n",
    "fsa   = 1               # suppresion of contact by symptomatics\n",
    "parameters = {'alpha':alpha,'beta':beta, 'gIa':gIa,'gIs':gIs,'fsa':fsa, 'M':M, 'Ni':Ni}\n",
    "\n",
    "contactMatrix = pyross.contactMatrix.SIR(CH, CW, CS, CO)\n",
    "r0UK1 = contactMatrix.basicReproductiveRatio(parameters)\n",
    "\n",
    "print(\"The basic reproductive ratio for these parameters is\", r0UK1)"
   ]
  },
  {
   "cell_type": "code",
   "execution_count": 9,
   "metadata": {},
   "outputs": [
    {
     "name": "stdout",
     "output_type": "stream",
     "text": [
      "The basic reproductive ratio for these parameters is (62.98197757711101+0j)\n",
      "The basic reproductive ratio for these parameters is (43.44634653292855+0j)\n",
      "The basic reproductive ratio for these parameters is (20.912984286140574+0j)\n"
     ]
    }
   ],
   "source": [
    "aH, aW, aS, aO = 1, 0, 1, 1\n",
    "CH, CW, CS, CO = aH*ukCH, aW*ukCW, aS*ukCS, aO*ukCO\n",
    "\n",
    "contactMatrix = pyross.contactMatrix.SIR(CH, CW, CS, CO)\n",
    "r0UK2 = contactMatrix.basicReproductiveRatio(parameters)\n",
    "\n",
    "print(\"The basic reproductive ratio for these parameters is\", r0UK2)\n",
    "\n",
    "\n",
    "aH, aW, aS, aO = 1, 0, 0, 1\n",
    "CH, CW, CS, CO = aH*ukCH, aW*ukCW, aS*ukCS, aO*ukCO\n",
    "\n",
    "contactMatrix = pyross.contactMatrix.SIR(CH, CW, CS, CO)\n",
    "r0UK3 = contactMatrix.basicReproductiveRatio(parameters)\n",
    "\n",
    "print(\"The basic reproductive ratio for these parameters is\", r0UK3)\n",
    "\n",
    "aH, aW, aS, aO = 1, 0, 0, 0\n",
    "CH, CW, CS, CO = aH*ukCH, aW*ukCW, aS*ukCS, aO*ukCO\n",
    "\n",
    "contactMatrix = pyross.contactMatrix.SIR(CH, CW, CS, CO)\n",
    "r0UK4 = contactMatrix.basicReproductiveRatio(parameters)\n",
    "\n",
    "print(\"The basic reproductive ratio for these parameters is\", r0UK4)"
   ]
  },
  {
   "cell_type": "code",
   "execution_count": 10,
   "metadata": {},
   "outputs": [
    {
     "data": {
      "image/png": "[encoded data removed]",
      "text/plain": [
       "<Figure size 800x320 with 1 Axes>"
      ]
     },
     "metadata": {},
     "output_type": "display_data"
    }
   ],
   "source": [
    "fig = plt.figure(num=None, figsize=(10, 4), dpi=80, facecolor='w', edgecolor='k')\n",
    "plt.rcParams.update({'font.size': 22})\n",
    "\n",
    "\n",
    "r0 = np.real(np.array([r0UK1, r0UK2, r0UK3, r0UK4])/r0UK1)\n",
    "plt.bar(range(r0.size), r0, align='center', alpha=0.5);\n",
    "\n",
    "labelY= ('All open', 'Work close', 'W+S close', 'All close' )\n",
    "plt.xticks(range(r0.size),labelY); plt.ylabel(r'$\\mathcal R_0/\\mathcal R^{{1}}_0$');"
   ]
  },
  {
   "cell_type": "markdown",
   "metadata": {},
   "source": [
    "## Basic reproductive ratio as a function of time"
   ]
  },
  {
   "cell_type": "code",
   "execution_count": 11,
   "metadata": {},
   "outputs": [],
   "source": [
    "M = 1                  # the SIR model has no age structure\n",
    "Ni = 1000*np.ones(M)   # so there is only one age group \n",
    "N = np.sum(Ni)         # and the total population is the size of this age group\n",
    "\n",
    "beta  = 0.2            # infection rate \n",
    "gIa   = 0.1            # removal rate of asymptomatic infectives \n",
    "gIs   = 0.1            # removal rate of symptomatic infectives \n",
    "alpha = 0              # fraction of asymptomatic infectives \n",
    "fsa   = 1              # the self-isolation parameter \n",
    "\n",
    "\n",
    "Ia0 = np.array([0])     # the SIR model has only one kind of infective \n",
    "Is0 = np.array([1])     # we take these to be symptomatic \n",
    "R0  = np.array([0])     # and assume there are no recovered individuals initially \n",
    "S0  = N-(Ia0+Is0+R0)    # so that the initial susceptibles are obtained from S + Ia + Is + R = N\n",
    "\n",
    "# there is no contact structure\n",
    "def contactMatrix(t):   \n",
    "    return np.identity(M) \n",
    "\n",
    "# duration of simulation and data file\n",
    "Tf = 160;  Nt=160; \n",
    "\n",
    "# instantiate model\n",
    "parameters = {'alpha':alpha, 'beta':beta, 'gIa':gIa, 'gIs':gIs,'fsa':fsa}\n",
    "model = pyross.deterministic.SIR(parameters, M, Ni)\n",
    "\n",
    "# simulate model \n",
    "data = model.simulate(S0, Ia0, Is0, contactMatrix, Tf, Nt)"
   ]
  },
  {
   "cell_type": "code",
   "execution_count": 12,
   "metadata": {},
   "outputs": [
    {
     "data": {
      "image/png": "[encoded data removed]",
      "text/plain": [
       "<Figure size 800x640 with 1 Axes>"
      ]
     },
     "metadata": {},
     "output_type": "display_data"
    }
   ],
   "source": [
    "C=np.identity(M)\n",
    "contactMatrix = pyross.contactMatrix.SIR(0.25*C, 0.25*C, 0.25*C, 0.25*C)\n",
    "r0de = contactMatrix.basicReproductiveRatio(data, state='dynamic')\n",
    "\n",
    "fig = plt.figure(num=None, figsize=(10, 8), dpi=80, facecolor='w', edgecolor='k')\n",
    "plt.rcParams.update({'font.size': 22})\n",
    "\n",
    "plt.fill_between(data['t'], 0, 1, color=\"dimgrey\", alpha=0.2); plt.ylabel('Basic reproductive ratio')\n",
    "plt.plot(r0de, '*');"
   ]
  }
 ],
 "metadata": {
  "kernelspec": {
   "display_name": "Python 3",
   "language": "python",
   "name": "python3"
  },
  "language_info": {
   "codemirror_mode": {
    "name": "ipython",
    "version": 3
   },
   "file_extension": ".py",
   "mimetype": "text/x-python",
   "name": "python",
   "nbconvert_exporter": "python",
   "pygments_lexer": "ipython3",
   "version": "3.7.3"
  }
 },
 "nbformat": 4,
 "nbformat_minor": 4
}
