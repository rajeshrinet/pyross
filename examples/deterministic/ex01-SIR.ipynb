{
 "cells": [
  {
   "cell_type": "markdown",
   "metadata": {},
   "source": [
    "## The SIR model\n",
    "\n",
    "The SIR model of epidemiology partitions the population into three compartments: susceptibles, S, who can catch the disease; infectives, I, who have already caught the disease and infect susceptibles; and recovered individuals, R. Since the disease is assumed not to be fatal, the sum $N=S+I+R$ remains constant. The rate at which the susceptibles get infected is \n",
    "$$\n",
    "\\lambda(t) = \\frac{\\beta I}{N}\n",
    "$$\n",
    "where the parameter $\\beta$ is the probability of infection on contact. The infected individuals recover from the disease at a rate $\\gamma$. Then, the ordinary differential equations of the SIR model are\n",
    "\n",
    "\\begin{align}\n",
    "\\dot S &= -\\lambda(t)S \\\\\n",
    "\\dot I &= \\lambda(t)I - \\gamma I \\\\\n",
    "\\dot R &= \\gamma I \n",
    "\\end{align}\n",
    "\n",
    "This example integrates the above equations to obtain what is called the **epidemic curve**: a plot of the number of susceptibles and infectives as a function of time. "
   ]
  },
  {
   "cell_type": "code",
   "execution_count": 1,
   "metadata": {},
   "outputs": [],
   "source": [
    "%%capture\n",
    "## compile PyRoss for this notebook\n",
    "import os\n",
    "owd = os.getcwd()\n",
    "os.chdir('../../')\n",
    "%run setup.py install\n",
    "os.chdir(owd)"
   ]
  },
  {
   "cell_type": "code",
   "execution_count": 2,
   "metadata": {},
   "outputs": [],
   "source": [
    "%matplotlib inline\n",
    "import numpy as np\n",
    "import pyross\n",
    "import matplotlib.pyplot as plt\n",
    "#from matplotlib import rc; rc('text', usetex=True)"
   ]
  },
  {
   "cell_type": "code",
   "execution_count": 3,
   "metadata": {},
   "outputs": [],
   "source": [
    "M = 1                  # the SIR model has no age structure\n",
    "Ni = 1000*np.ones(M)   # so there is only one age group \n",
    "N = np.sum(Ni)         # and the total population is the size of this age group\n",
    "\n",
    "beta  = 0.2            # infection rate \n",
    "gIa   = 0.1            # recovery rate of asymptomatic infectives \n",
    "gIs   = 0.1            # recovery rate of symptomatic infectives \n",
    "alpha = 0              # fraction of asymptomatic infectives \n",
    "fsa   = 1              # the self-isolation parameter \n",
    "\n",
    "\n",
    "Ia0 = np.array([0])     # the SIR model has only one kind of infective \n",
    "Is0 = np.array([1])     # we take these to be symptomatic \n",
    "R0  = np.array([0])     # and assume there are no recovered individuals initially \n",
    "S0  = N-(Ia0+Is0+R0)    # so that the initial susceptibles are obtained from S + Ia + Is + R = N\n",
    "\n",
    "# there is no contact structure\n",
    "def contactMatrix(t):   \n",
    "    return np.identity(M) \n",
    "\n",
    "# duration of simulation and data file\n",
    "Tf = 160;  Nt=160; \n",
    "\n",
    "# instantiate model\n",
    "parameters = {'alpha':alpha, 'beta':beta, 'gIa':gIa, 'gIs':gIs,'fsa':fsa}\n",
    "model = pyross.deterministic.SIR(parameters, M, Ni)\n",
    "\n",
    "# simulate model \n",
    "data = model.simulate(S0, Ia0, Is0, contactMatrix, Tf, Nt)"
   ]
  },
  {
   "cell_type": "code",
   "execution_count": null,
   "metadata": {},
   "outputs": [],
   "source": [
    "# plot the data and obtain the epidemic curve\n",
    "S  = data['X'][:,0].flatten()\n",
    "Ia = data['X'][:,1].flatten()\n",
    "Is = data['X'][:,2].flatten()\n",
    "t = data['t']\n",
    "\n",
    "\n",
    "fig = plt.figure(num=None, figsize=(10, 8), dpi=80, facecolor='w', edgecolor='k')\n",
    "plt.rcParams.update({'font.size': 22})\n",
    "\n",
    "\n",
    "plt.fill_between(t, 0, S/N, color=\"#348ABD\", alpha=0.3)\n",
    "plt.plot(t, S/N, '-', color=\"#348ABD\", label='$S$', lw=4)\n",
    "\n",
    "plt.fill_between(t, 0, Is/N, color='#A60628', alpha=0.3)\n",
    "plt.plot(t, Is/N, '-', color='#A60628', label='$I$', lw=4)\n",
    "\n",
    "R=N-S-Ia-Is; plt.fill_between(t, 0, R/N, color=\"dimgrey\", alpha=0.3)\n",
    "plt.plot(t, R/N, '-', color=\"dimgrey\", label='$R$', lw=4)\n",
    "\n",
    "plt.legend(fontsize=26); plt.grid() \n",
    "plt.autoscale(enable=True, axis='x', tight=True)"
   ]
  },
  {
   "cell_type": "code",
   "execution_count": null,
   "metadata": {},
   "outputs": [],
   "source": []
  },
  {
   "cell_type": "code",
   "execution_count": null,
   "metadata": {},
   "outputs": [],
   "source": []
  }
 ],
 "metadata": {
  "kernelspec": {
   "display_name": "Python 3",
   "language": "python",
   "name": "python3"
  },
  "language_info": {
   "codemirror_mode": {
    "name": "ipython",
    "version": 3
   },
   "file_extension": ".py",
   "mimetype": "text/x-python",
   "name": "python",
   "nbconvert_exporter": "python",
   "pygments_lexer": "ipython3",
   "version": "3.7.4"
  }
 },
 "nbformat": 4,
 "nbformat_minor": 2
}
